{
  "nbformat": 4,
  "nbformat_minor": 0,
  "metadata": {
    "colab": {
      "name": "447_hw2.ipynb",
      "provenance": [],
      "collapsed_sections": []
    },
    "kernelspec": {
      "display_name": "Python 3",
      "language": "python",
      "name": "python3"
    },
    "language_info": {
      "codemirror_mode": {
        "name": "ipython",
        "version": 3
      },
      "file_extension": ".py",
      "mimetype": "text/x-python",
      "name": "python",
      "nbconvert_exporter": "python",
      "pygments_lexer": "ipython3",
      "version": "3.5.4"
    }
  },
  "cells": [
    {
      "cell_type": "markdown",
      "metadata": {
        "id": "gqyprtgkiL91"
      },
      "source": [
        "# HW2 due 5p Fri April 16 2021\n",
        "\n",
        "You are welcome (and encouraged) to work with others, but each individual must submit their own writeup.\n",
        "You can do the Group work portion in class with your classmates on Wednesdays to get full credit, but you can choose to do that portion individually and submit it along with your hw for a grade (i.e. you will not automatically get full credit). \n",
        "\n",
        "You are welcome to use analytical and numerical computational tools; if you do, include the **commented** sourcecode in your submission (e.g. the .ipynb file).\n",
        "\n",
        "You are welcome to consult websites, textbooks, and other materials; if you do, include a full citation in your writeup (e.g. the .ipynb file).\n",
        "\n",
        "**Important:** before you do any work in the Colaboratory notebook, click \"File -> Save a copy in Drive ...\" and rename the file to something memorable.\n",
        "\n",
        "**Also important:** To produce a .pdf for submission to Canvas, click \"File -> Print\" (or press Ctrl/Cmd + P), and choose \"Save to PDF\" or \"Microsoft Print to PDF\" as your printer.\n"
      ]
    },
    {
      "cell_type": "markdown",
      "metadata": {
        "id": "0Yn2hwKEG__5"
      },
      "source": [
        "# Group work -- Wed April 14\n",
        "\n",
        "I encourage you to attend the group work session on Wednesdays to complete the group work portion of your homework -- you will get full credit as long as you participate and make an effort on the problem. This is also a great opportunity to get to know your classmates. Only one person needs to submit.\n",
        "\n",
        "Please note that only one person can edit the Colaboratory notebook at a time, I recommend creating a copy for yourself and copy pasting your solutions in the discord or Zoom chat if people want to work on different parts of the writeup."
      ]
    },
    {
      "cell_type": "markdown",
      "metadata": {
        "id": "_EAWJXucG__7"
      },
      "source": [
        "## 1. Groupmates: [Names of everyone in your group]"
      ]
    },
    {
      "cell_type": "markdown",
      "metadata": {
        "id": "1heGAF-JG__8"
      },
      "source": [
        "## 2. [15 min]: Controlling a system (don't have to do if submitting individually)\n",
        "\n",
        "Now that you've had some understanding of what types of plants (e.g., home heater) you can control, discuss a plant that you would be interested in controlling (I know many of you mentioned autonomous vehicles on the first day of class). What are the states ($x$) and inputs ($u$) of your plant? What is the desired reference of the plant and why? If there is a disturbance, what would be the ideal way you think the output should return to the desired reference? You don't have to write down everything you discussed, but please write down what plant you talked about. "
      ]
    },
    {
      "cell_type": "markdown",
      "metadata": {
        "id": "6ci2z5H0G__9"
      },
      "source": [
        "# 3. [60 min] RLC circuit interconnection\n",
        "\n",
        "Consider the model of a series RLC circuit from lecture,\n",
        "$$ L \\ddot{q} + R \\dot{q} + q/C = v, $$\n",
        "where $q$ denotes the charge on the capacitor,\n",
        "($R$, $L$, $C$) denote the (resistor, inductor, capacitor) parameters,\n",
        "and $v$ denotes a series voltage source.\n",
        "\n",
        "Now suppose that the input voltage $v$ to the circuit above is actually  the output from a second series RLC circuit\n",
        "\n",
        "$$ L_2 C_2 \\ddot{v} + R_2 C_2 \\dot{v} + v = w, $$\n",
        "\n",
        "where $v$ denotes the voltage across the second circuit's capacitor, \n",
        "($R_2$, $L_2$, $C_2$) denote the second circuit's (resistor, inductor, capacitor) parameters,\n",
        "and $w$ denotes a series voltage source for the second circuit.\n",
        "\n",
        "Let $x = (v,\\dot{v})\\in\\mathbb{R}^2$ denote the second circuit's ***state vector*** and $u = w\\in\\mathbb{R}^1$ denote the second circuit's ***input vector*** (which is just a scalar since there's only one input)\n",
        "\n",
        "a. Rewrite the second circuit's single second-order differential equation as a vector of two first-order differential equations in ***state-space*** form as $\\dot{x} = f(x,u)$.\n",
        "\n",
        "---\n",
        "** SOLUTION **\n",
        "\n",
        "Let $x(t) = [v(t), \\dot{v}(t)]^\\top \\in \\mathbb{R}^2$ and $u(t) = w(t)$. Also, let $x_i$ denote the $i^\\text{th}$ entry of x. Then $\\dot{x} = \\cfrac{d}{dt} [v(t), \\dot{v}(t)]^\\top$ is given by\n",
        "\n",
        "$$ \n",
        "\\dot{x} = \\left[\\begin{array}{c} \\dot{x}_1 \\\\ \\ddot{x}_1\\end{array}\\right] =\n",
        "f(x,u) = \\left[ \\begin{array}{c} x_2 \\\\ -\\cfrac{1}{L_2 C_2}x_1 - \\cfrac{R_2}{L_2}x_2 + \\cfrac{1}{L_2 C_2}u \\end{array}\\right]\n",
        "$$\n",
        "\n",
        "---\n",
        "\n",
        "***Purpose:*** in the next two problems, you will investigate a very important algebraic property of the RLC circuit's $f$ function called ***linearity***, which we will study extensively this quarter.  In the first problem, you will show that the function is linear; in the second problem, you will determine a matrix representation for the linear function.\n",
        "\n",
        "b. Show that the function $f:\\mathbb{R}^2\\times\\mathbb{R}^1\\rightarrow\\mathbb{R}^2$ you obtained in (a.) is ***linear*** in $x$ and $u$, that is, show:\n",
        "\n",
        "$$ f(x_1 + \\alpha x_2,u_1 + \\alpha u_2) = f(x_1,u_1) + \\alpha f(x_2,u_2) $$\n",
        "\n",
        "for arbitrary state vectors $x_1,x_2\\in\\mathbb{R}^2$, input vectors $u_1,u_2\\in\\mathbb{R}^1$, and scalar $\\alpha\\in\\mathbb{R}$.\n",
        "\n",
        "---\n",
        "**SOLUTION**\n",
        "First we can show that scalar multiplication of $(x,u)$ commutes with $f$,\n",
        "\n",
        "$$ f(\\alpha x, \\alpha u) = \\left[ \\begin{array}{c} \\alpha x_2 \\\\ -\\alpha \\cfrac{1}{L_2 C_2}x_1 - \\alpha \\cfrac{R_2}{L_2}x_2 + \\alpha\\cfrac{1}{L_2 C_2}u \\end{array} \\right] = \\alpha f(x, u) $$\n",
        "\n",
        "Next we can show that addition of $(x, u)$ with $(x', u')$ commutes with $f$,\n",
        "\n",
        "$$ f(x+x',u+u') = \\left[ \\begin{array}{c} x_2 + x'_2 \\\\ -\\cfrac{1}{L_2 C_2}(x_1+x'_1) - \\alpha\\cfrac{R_2}{L_2}(x_2+x'_2) + \\alpha\\cfrac{1}{L_2 C_2}(u+u') \\end{array}\\right] = f(x,u) + f(x', u')$$\n",
        "\n",
        "therefore,\n",
        "\n",
        "$$ f(x+\\alpha x',u+ \\alpha u') = f(x,u) + f(\\alpha x', \\alpha u') = f(x,u) + \\alpha f(x', \\alpha u') $$\n",
        "\n",
        "**Note** $(x', u')$ denotes an arbitrary element of $\\mathbb{R}^2 \\times \\mathbb{R}$ which is unrelated to $(x,u)$, e.g. *it is not the derivative of* $(x,u)$.\n",
        "\n",
        "---\n",
        "\n",
        "c. Since $f$ is linear, there exist matrices $A\\in\\mathbb{R}^{2\\times 2}$ and $B\\in\\mathbb{R}^{2\\times 1}$ such that $f(x,u) = A x + B u$ for all state vectors $x\\in\\mathbb{R}^2$ and input vectors $u\\in\\mathbb{R}^1$ -- determine the entries in the matrices $A$, $B$.\n",
        "\n",
        "---\n",
        "** SOLUTION **\n",
        "\n",
        "The way to find $A$ and $B$ is to look for the *coefficients* on the components of $x$ and $u$ in the equation $\\dot{x} = f(x,u)$. For example, in the *first element* of $\\dot{x}$, the coefficient on $x_1$ is $0$ and the coefficient on $x_2$ is $1$. This indicates that the first *row* of $A$ should be $[0,\\, 1]$.\n",
        "\n",
        "Recall that \n",
        "\n",
        "$$\\dot{x} = f(x,u) = \\left[ \\begin{array}{c} x_2 \\\\ -\\cfrac{1}{L_2 C_2}x_1 - \\cfrac{R_2}{L_2}x_2 + \\cfrac{1}{L_2 C_2}u \\end{array}\\right]$$\n",
        "\n",
        "By looking for the coefficients on the entries of $x$, we find that \n",
        "\n",
        "$$ A = \\left[ \\begin{array}{cc} 0 & 1 \\\\ -\\cfrac{1}{L_2 C_2} & -\\cfrac{R_2}{L_2} \\end{array}\\right]$$\n",
        "\n",
        "likewise, by looking for the coefficients on $u$, we find that \n",
        "\n",
        "$$ B = \\left[ \\begin{array}{c} 0 \\\\ \\cfrac{1}{L_2 C_2} \\end{array}\\right] $$\n",
        "\n",
        "so that \n",
        "\n",
        "$$ f(x,u) = \\left[ \\begin{array}{c} x_2 \\\\ -\\cfrac{1}{L_2 C_2}x_1 - \\cfrac{R_2}{L_2}x_2 + \\cfrac{1}{L_2 C_2}u \\end{array}\\right] = \\left[ \\begin{array}{cc} 0 & 1 \\\\ -\\cfrac{1}{L_2 C_2} & -\\cfrac{R_2}{L_2} \\end{array}\\right] \\left[\\begin{array}{c}x_1 \\\\ x_2\\end{array} \\right] + \\left[ \\begin{array}{c} 0 \\\\ \\cfrac{1}{L_2 C_2} \\end{array}\\right]u$$\n",
        "\n",
        "which clearly satisfies $$\\dot{x} = Ax + Bu$$.\n",
        "\n",
        "---\n"
      ]
    },
    {
      "cell_type": "markdown",
      "metadata": {
        "id": "e3XAIA2VG___"
      },
      "source": [
        "### * end of group work -- download as PDF and submit as part of group assignment *"
      ]
    },
    {
      "cell_type": "markdown",
      "metadata": {
        "id": "RCvD5cRoOvnT"
      },
      "source": [
        "# 0. [preferred name]; [preferred pronouns]\n",
        "\n",
        "a. Approximately how many hours did you spend on this assignment?\n",
        "\n",
        "b. Were there specific problems that took much longer than others?\n",
        "\n",
        "c. What class meeting(s) did you participate in this week?\n",
        "\n",
        "d. What timezone(s) were you working in this week?"
      ]
    },
    {
      "cell_type": "markdown",
      "metadata": {
        "id": "FfEdjHABRMLx"
      },
      "source": [
        "# 1. RLC circuit interconnection (cont.)\n",
        "\n",
        "This problem is a continuation of **3. RLC circuit interconnection** in the group work portion. Use the $f, x, u$, and the two RLC circuits described in that group work problem to solve the problems below.\n",
        "\n",
        "***Purpose:*** in the next problems, you will see how interconnecting two subsystems affects the different mathematical representations we use in this class; in particular, it will highlight strengths of the block diagram and state-space representations.\n",
        "\n",
        "d. Determine the transfer functions for the first circuit $P_1(s)$ treating $v$ as the input and $q$ as the output and for the second circuit $P_2(s)$ treating $w$ as the input and $v$ as the output.\n",
        "\n",
        "e. Draw and label a block diagram with two blocks (representing the first circuit, $P_1$, and the second circuit, $P_2$) and three arrows (representing the second circuit's input voltage $w$, the second circuit's output / first circuit's input voltage $v$, and the first circuit's output charge $q$).\n",
        "\n",
        "f. Determine the transfer function from $w$ to $q$.  (***Hint:*** it may help to apply block diagram algebra.)\n",
        "\n",
        "g. Determine the fourth-order differential equation that relates input $w$ to output $q$.  (***Hint:*** you can use your answer from (e.), or you can substitute the second circuit's DE into the first circuit's DE -- both strategies will give the same answer, so use whichever makes the most sense to you.)\n",
        "\n",
        "h. Letting $x = (q,\\dot{q},v,\\dot{v})\\in\\mathbb{R}^4$ denote the state vector for the interconnected circuits and $u = w\\in\\mathbb{R}^1$ denote the input vector, determine the function $f:\\mathbb{R}^4\\times\\mathbb{R}^1\\rightarrow\\mathbb{R}^4$ for which $\\dot{x} = f(x,u)$.\n",
        "\n",
        "***Reflect:*** which of the 4 representations for the interconnected circuits in (e.--h.) was easiest to work with?  most intuitive?  easiest to generalize to additional interconnected circuits?\n",
        "\n",
        "i. Noting that the function $f:\\mathbb{R}^4\\times\\mathbb{R}^1\\rightarrow\\mathbb{R}^4$ from (h.) is linear, determine matrices $A\\in\\mathbb{R}^{4\\times4}$, $B\\in\\mathbb{R}^{4\\times1}$ such that $f(x,u) = A x + B u$.\n"
      ]
    },
    {
      "cell_type": "markdown",
      "metadata": {
        "id": "ufM_G2upDp_H"
      },
      "source": [
        "# 2. phase portraits of linear systems\n",
        "\n",
        "***Purpose:*** gain greater understanding of the dynamics of linear systems using computational tools and visualizations.\n",
        "\n",
        "In each of the following problems, you will create a ***phase portrait*** of a linear system with a $2$-dimensional state vector in the form $\\dot{x} = A x$.  To create a phase portrait, plot the system's ***vector field*** and overlay several simulated trajectories to illustrate the system's dynamics.  You may find it helpful to edit the simulation and plotting code used in the phase portrait in Section 2 of the [lecture examples notebook](https://colab.research.google.com/github/sburden/447/blob/master/447_lec_examples.ipynb), or to consult Chapter 5.2 in [AMv2](http://www.cds.caltech.edu/~murray/amwiki/index.php/Second_Edition).\n",
        "\n",
        "a. Create a phase portrait for $\\dot{x} = A_1 x$ where $A_1 = \\left[\\begin{matrix} -1 & 0 \\\\ 0 & -2 \\end{matrix}\\right]$.\n",
        "\n",
        "b. Create a phase portrait for $\\dot{x} = A_2 x$ where $A_2 = \\left[\\begin{matrix} -1 & 1 \\\\ 0 & -1 \\end{matrix}\\right]$.\n",
        "\n",
        "c. Create a phase portrait for $\\dot{x} = A_3 x$ where $A_3 = \\left[\\begin{matrix} -1 & 0 \\\\ 0 & +2 \\end{matrix}\\right]$.\n",
        "\n",
        "d. Create a phase portrait for $\\dot{x} = A_4 x$ where $A_4 = \\left[\\begin{matrix} -1 & \\pi \\\\ -\\pi & -1 \\end{matrix}\\right]$.\n",
        "\n",
        "e. Create a phase portrait for $\\dot{x} = A_5 x$ where $A_5 = \\left[\\begin{matrix} 0 & \\pi \\\\ -\\pi & 0 \\end{matrix}\\right]$.\n",
        "\n",
        "f. Create a phase portrait for $\\dot{z} = T(\\theta) A_3 T(\\theta)^{-1} z$ where $T(\\theta) = \\left[\\begin{matrix} \\cos\\theta & -\\sin\\theta \\\\ \\sin\\theta & \\cos\\theta \\end{matrix}\\right]$ and $A_3$ is from (c.) -- show the result from several values of $\\theta$, and explain in words how the phase portraits are related.  (***Note:*** the state $z$ is related to the state $x$ via the linear transformation $z = T(\\theta) x$.)\n",
        "\n",
        "g. Create a phase portrait for $\\dot{z} = S A_3 S^{-1} z$ where $S = \\left[\\begin{matrix} 1 & 2 \\\\ 3 & 4 \\end{matrix}\\right]$ and $A_3$ is from (c.), and overlay eigenvectors of $S$ -- explain in words how the phase portraits are related.\n",
        "\n",
        "***Takeaway:***  it may be hard to believe, but the preceding problems demonstrate the full range of dynamics that linear systems can exhibit.  Although we will often work with systems whose state space is much higher-dimensional, we can understand the dynamics of such systems by visualizing 2-dimensional \"slices\" of state space as above."
      ]
    }
  ]
}