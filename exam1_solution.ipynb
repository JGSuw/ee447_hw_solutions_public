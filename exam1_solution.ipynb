{
  "nbformat": 4,
  "nbformat_minor": 0,
  "metadata": {
    "colab": {
      "name": "exam1_solution.ipynb",
      "provenance": [],
      "collapsed_sections": []
    },
    "kernelspec": {
      "display_name": "Python 3",
      "language": "python",
      "name": "python3"
    },
    "language_info": {
      "codemirror_mode": {
        "name": "ipython",
        "version": 3
      },
      "file_extension": ".py",
      "mimetype": "text/x-python",
      "name": "python",
      "nbconvert_exporter": "python",
      "pygments_lexer": "ipython3",
      "version": "3.5.4"
    }
  },
  "cells": [
    {
      "cell_type": "markdown",
      "metadata": {
        "id": "H7JwJHLc58ci"
      },
      "source": [
        "# 447 Sp21 exam 1 due 5p Fri May 7\n",
        "\n",
        "***Instructions:***\n",
        "- Solutions with just the answer to the question **will not** be accepted as complete solutions -- you must show your work. If you are unsure as to how much work is appropriate to show, please come and ask questions during classtime or office hours.\n",
        "- Each subproblem is worth two points, 1 point for effort and 1 point for solution accuracy.\n",
        "- Submit BOTH the pdf and the .ipynb notebook to canvas. You can download the .ipynb notebook by going to ```File```$\\rightarrow$ ```Download``` $\\rightarrow$```Download .ipynb```.\n",
        "\n",
        "\n",
        "***You are welcome (and encouraged) to:***\n",
        "- use analytical and numerical computational tools -- specify the tool(s) in sourcecode and/or text;\n",
        "- reuse example sourcecode and other materials provided in this course;\n",
        "- consult textbooks, websites, and other publicly-available materials -- include full citation(s) with the URL and/or [DOI](https://en.wikipedia.org/wiki/Digital_object_identifier).\n",
        "\n",
        "***You are not permitted to discuss the exam problems or share any part of your solutions with anyone other than the Professor or TA for this course.***\n",
        "- By submitting your exam solution on Canvas, you are affirming your understanding of and adherence to these restrictions.\n",
        "- We will answer questions during classtimes Monday May 3 and Wednesday May 5.\n",
        "- We will also answer questions sent to our Canvas inbox or Discord DM until 5p Fri May 7.\n",
        "\n",
        "***The exam deadline is 5p Fri May 7 on Canvas.***\n",
        "- Final submissions received before this deadline will receive +1 bonus points.\n",
        "- Everyone automatically receives a deadline extension to 11:59p Sun May 9. ***No further deadline extensions will be granted -- please plan accordingly.***"
      ]
    },
    {
      "cell_type": "markdown",
      "metadata": {
        "id": "f5ZiM5W15_bo"
      },
      "source": [
        "## problem (1.)\n",
        "\n",
        "Sometimes, the measured output $y_{meas}$ is not the same as the output of the feedback system $y_{actual}$ due to sensor dynamics. We can model the sensor dynamics using a transfer function $H$, which is demonstrated in the following block diagram: \n",
        "\n",
        "![block diagram](https://drive.google.com/uc?id=1dXLVNmik117Wt_g6armzFiFlLPaSvPE3)\n",
        "\n",
        "### subproblem (1a.)\n",
        "\n",
        "Determine the transfer function $G_{y_{actual}r}$ from $r$ to $y_{actual}$.\n",
        "\n",
        "### subproblem (1b.)\n",
        "\n",
        "Let the process $P(s) = \\frac{K}{(Js+b)(Ls+R)+K^2}$ (i.e., a DC motor with moment of inertia $J$, motor viscous friction constant $b$, electric resistance $R$, electric inductance $L$, and motor torque and back emf constants $K$), the controller $C(s) = k_P+k_Ds$ (i.e., a proportional-derivative controller), and the sensor dynamics $H(s) = 1$ (i.e. a perfect sensor). Assume <mark>the initial states of the process are equal to 0</mark> -- if a step input is applied to $G_{y_{actual}r}$ that you found in (1a.), what is the steady-state output? (If you couldn't find $G_{y_{actual}r}$ in (1a.), assume $G_{y_{actual}r}=\\frac{PC}{1+PC}$.)\n",
        "\n",
        "### subproblem (1c.)\n",
        "\n",
        "Let $J=1, b=0.1, K=0.01, R= 1, L=0.5$ and hold $k_D=1$ constant. Plot the root locus of the closed-loop characteristic polynomial as $k_P$ varies.\n",
        "\n",
        "### subproblem (1d.)\n",
        "Determine the range of $k_P$ that results in a stable closed-loop system *with the real part of the roots less than $-0.5$*. You may do this analytically (e.g. pen-and-paper) or numerically (e.g. using the root locus from (1c.)). If you could not get a solution for subproblem 1a, use $G_{y_{actual}r} = \\frac{PC}{1+PC}$."
      ]
    },
    {
      "cell_type": "markdown",
      "metadata": {
        "id": "uyM3K-Ywceg2"
      },
      "source": [
        "## problem (2.)\n",
        "\n",
        "Consider the following process model:\n",
        "\n",
        "$$ P(s) = \\frac{b(s)}{a(s)} = \\frac{b_1 s^2 + b_2 s + b_3}{a_0 s^3 + a_1 s^2 + a_2 s + a_3} $$\n",
        "\n",
        "where $b_1,b_2,b_3$ and $a_0,a_1,a_2,a_3$ are nonzero parameters.\n",
        "\n",
        "### subproblem (2a.)\n",
        "\n",
        "Suppose $a_0 = -1$, $a_2 = -3$, $a_3 = -2$; what range of values for $a_1$ ensure $P$ is stable? You *cannot* use computational tools to obtain the range of values -- you must do any calculations by hand and show your work. "
      ]
    },
    {
      "cell_type": "code",
      "metadata": {
        "id": "GHVAF6xVn4bN"
      },
      "source": [
        "# import modules first\n",
        "import numpy as np\n",
        "import pylab as plt\n",
        "\n",
        "# build ODE solver\n",
        "def numerical_simulation(f,t,x,t0=0.,dt=1e-4,ut=None,ux=None,utx=None,return_u=False):\n",
        "  \"\"\"\n",
        "  simulate x' = f(x,u) \n",
        "\n",
        "  input:\n",
        "    f : R x X x U --> X - vector field\n",
        "      X - state space (must be vector space)\n",
        "      U - control input set\n",
        "    t - scalar - final simulation time\n",
        "    x - initial condition; element of X\n",
        "\n",
        "    (optional:)\n",
        "    t0 - scalar - initial simulation time\n",
        "    dt - scalar - stepsize parameter\n",
        "    return_u - bool - whether to return u_\n",
        "\n",
        "    (only one of:)\n",
        "    ut : R --> U\n",
        "    ux : X --> U\n",
        "    utx : R x X --> U\n",
        "\n",
        "  output:\n",
        "    t_ - N array - time trajectory\n",
        "    x_ - N x X array - state trajectory\n",
        "    (if return_u:)\n",
        "    u_ - N x U array - state trajectory\n",
        "  \"\"\"\n",
        "  t_,x_,u_ = [t0],[x],[]\n",
        "  \n",
        "  inputs = sum([1 if u is not None else 0 for u in [ut,ux,utx]])\n",
        "  assert inputs <= 1, \"more than one of ut,ux,utx defined\"\n",
        "\n",
        "  if inputs == 0:\n",
        "    assert not return_u, \"no input supplied\"\n",
        "  else:\n",
        "    if ut is not None:\n",
        "      u = lambda t,x : ut(t)\n",
        "    elif ux is not None:\n",
        "      u = lambda t,x : ux(x)\n",
        "    elif utx is not None:\n",
        "      u = lambda t,x : utx(t,x)\n",
        "\n",
        "  while t_[-1]+dt < t:\n",
        "    if inputs == 0:\n",
        "      _t,_x = t_[-1],x_[-1]\n",
        "      dx = f(t_[-1],x_[-1]) * dt\n",
        "    else:\n",
        "      _t,_x,_u = t_[-1],x_[-1],u(t_[-1],x_[-1])\n",
        "      dx = f(_t,_x,_u) * dt\n",
        "      u_.append( _u )\n",
        "\n",
        "    x_.append( _x + dx )\n",
        "    t_.append( _t + dt )\n",
        "\n",
        "  if return_u:\n",
        "    return np.asarray(t_),np.asarray(x_),np.asarray(u_)\n",
        "  else:\n",
        "    return np.asarray(t_),np.asarray(x_)"
      ],
      "execution_count": 1,
      "outputs": []
    },
    {
      "cell_type": "markdown",
      "metadata": {
        "id": "qGcqbFik6CZ7"
      },
      "source": [
        "## problem (3.)\n",
        "\n",
        "Consider a simplified dynamics of vehicle steering, where the orientation $\\theta$ of the vehicle is controlled by the steering angle $\\delta$. The states of the system are $y,\\theta$, with $y$ being the position of the center of mass of the car and $\\theta$ as the orientation of the vehicle. We define the nonlinear system $(\\text{NL}$): \n",
        "\n",
        "$$ \\dot{y}=v_0\\sin(\\alpha(\\delta)+\\theta), \\text{   } \\dot{\\theta}=\\frac{v_0 \\sin \\alpha(\\delta)}{a},\\text{   where } \\alpha(\\delta)=\\arctan(\\frac{a\\tan \\delta}{b})$$\n",
        "\n",
        "Let $a$ be the distance between the center of mass of the car and the rear wheel, and $b$ be the wheelbase.  \n",
        "\n",
        "### subproblem (3a.)\n",
        "\n",
        "Let $v_0=30 \\text{ mph}, a=1.5\\text{ m}, b=3\\text{ m}, \\delta=0$. Create a phase portrait of $(\\text{NL})$ on the square $x_1,x_2\\in(-1.5,+1.5)$ <mark>where $x_1, x_2$ are the states of the system</mark>:  use ``plt.quiver`` or ``plt.streamplot`` as in the examples presented in lecture / provided on homework solutions. \n",
        "\n"
      ]
    },
    {
      "cell_type": "code",
      "metadata": {
        "colab": {
          "base_uri": "https://localhost:8080/",
          "height": 369
        },
        "id": "r3wTdmlpnGnY",
        "outputId": "a9ee2255-f44f-490a-d507-4c0de91ced45"
      },
      "source": [
        "\n",
        "v0 = 30\n",
        "a = 1.5\n",
        "b = 3\n",
        "\n",
        "def f(t,x,u):\n",
        "  theta, y = x\n",
        "  alf = np.arctan(a/b*np.tan(u))\n",
        "  dtheta = (v0*np.sin(alf))/a\n",
        "  dy = v0*np.sin(alf+theta)\n",
        "  return np.array([dtheta, dy])\n",
        "\n",
        "\n",
        "\n",
        "plt.figure(figsize=(10,5))\n",
        "dt = 1e-2\n",
        "# initial condition\n",
        "x10,x20 = (-1.,1.)\n",
        "x0 = np.array([x10,x20])\n",
        "\n",
        "# simulation time−−\n",
        "t = 5\n",
        "\n",
        "t_,x_ = numerical_simulation(f,t,x0,dt=dt,ut=lambda t : 0)\n",
        "q_,dq_ = x_[:,0],x_[:,1]\n",
        "\n",
        "# state vs time\n",
        "ax = plt.subplot(1,2,1)\n",
        "ax.set_xlabel(r'time $t$')\n",
        "ax.set_ylabel(r'$x_1$, $x_2$')\n",
        "plt.plot(t_,q_,'b',lw=4,label='$x_1$')\n",
        "plt.plot(t_,dq_,'b--',lw=4,label='$x_2$')\n",
        "plt.legend()\n",
        "\n",
        "# phase portrait / \"quiver\" plot\n",
        "ax = plt.subplot(1,2,2)\n",
        "Q, Qd = np.meshgrid(np.linspace(-1,+1, 10), np.linspace(-100, +100, 10))\n",
        "dQ,dQd = np.asarray([f(0.,(q,dq),0.).flatten() for q,dq in zip(Q.flatten(),Qd.flatten())]).T\n",
        "dQ,dQd = dQ.reshape(dQ.shape),dQd.reshape(Qd.shape)\n",
        "ax.quiver(Q,Qd,dQ,dQd)\n",
        "ax.set_xlabel(r'$x_1$')\n",
        "ax.set_ylabel(r'$x_2$')\n",
        "ax.plot(q_,dq_,'b',lw=4)\n",
        "\n",
        "for _ in range(20):\n",
        "  # random initial condition in [-1,+1] x [-1,+1] square\n",
        "  x0 = 2*(np.random.rand(2) - .5)\n",
        "  t_,x_ = numerical_simulation(f,t,x0,dt=dt,ut=lambda t : 0)\n",
        "  q_,dq_ = x_[:,0],x_[:,1]\n",
        "  ax.plot(q_,dq_)\n",
        "  \n",
        "\n",
        "plt.tight_layout()"
      ],
      "execution_count": 8,
      "outputs": [
        {
          "output_type": "display_data",
          "data": {
            "image/png": "[encoded data removed]",
            "text/plain": [
              "<Figure size 720x360 with 2 Axes>"
            ]
          },
          "metadata": {
            "tags": [],
            "needs_background": "light"
          }
        }
      ]
    },
    {
      "cell_type": "markdown",
      "metadata": {
        "id": "R8qvQL7cnKoO"
      },
      "source": [
        "### subproblem (3b.)\n",
        "\n",
        "Consider the phase portrait below. Visually inspect and identify all equilibrium point(s); are the equilibrium point(s) stable or unstable and why?\n",
        "\n",
        "*Alt text: A graph labeled $x_1$ on the horizontal axis and $x_2$ on the vertical axis spanning $-1.5 < x_1 < 1.5, -1.5 < x_2 < 1.5$. Above the $x_2$ axis, horizontal arrows point towards the right increasing in length as $x_2$ increases in value. Below the $x_2$ axis, horizontal arrows point towards the left increasing in length as $x_2$ decreases in value.*\n",
        "\n",
        "\n",
        "![phase portrait](https://drive.google.com/uc?id=1X_z0uWBIpQh50o_WHYTzulS7XIsKUkGp)\n",
        "\n",
        "**Solution:**\n",
        "It can be seen that all the points of $x_2 = 0$ are equilibrium points. These points are unstable because a small movement of $x_2$ will cause the diverging of the states."
      ]
    },
    {
      "cell_type": "markdown",
      "metadata": {
        "id": "PPbZ4qVkgJOf"
      },
      "source": [
        "## problem (4.)\n",
        "\n",
        "Consider the nonlinear system \n",
        "\n",
        "$$\\dot{q_1} = q_1 -q_2 - q_1(q_1^2+q_2^2)+u$$\n",
        "$$\\dot{q_2} = q_1 + q_2 - q_2(q_1^2+q_2^2)$$\n",
        "\n",
        "### subproblem (4a.)\n",
        "\n",
        "Linearize the nonlinear system about its equilibrium point $(x_e,u_e)=(0,0)$, that is find matrices $A, B$ such that $\\dot{x} = Ax+Bu$ for $x,u$ near $x_e,u_e$\n",
        "\n",
        "**Solution:**\\\n",
        "In state-space form, the nonlinear system is\n",
        "$$\\dot{x} = \\frac{d}{dt} \\left[\\begin{matrix} q_1 \\\\ q_2 \\end{matrix}\\right] = \\left[\\begin{matrix} -q_1^3 - q_1q_2^2 + q_1 - q_2 +u \\\\ -q_2^3 - q_1^2q_2 + q_1 + q_2 \\end{matrix}\\right] = f(x).$$\n",
        "\n",
        "The Jacobian derivative of $f$ with respect to $x$ is\n",
        "$$ \\partial_q f = \\left[\\begin{matrix} \\partial_{q_1} \\dot{q}_1 &  \\partial_{q_2} \\dot{q}_1 \\\\  \\partial_{q_1} \\dot{q}_2 &  \\partial_{q_2} \\dot{q}_2 \\end{matrix}\\right] = \\left[\\begin{matrix} -3q_1^2-q_2^2+1 & -2q_1q_2-1 \\\\ -2q_1q_2+1 & -3q_2^2-q_1^2+1 \\end{matrix}\\right].$$\n",
        "\n",
        "Evaluating the Jacobian at $x_e = 0$ yields\n",
        "$$\\partial_q f(q_e) = \\boxed{\\left[\\begin{matrix} 1 & -1 \\\\ 1 & 1 \\end{matrix}\\right] = A}$$\n",
        "\n",
        "The Jacobian derivative of $f$ with respect to $u$ is\n",
        "$$ \\partial_u f = \\left[\\begin{matrix} \\partial_{u} \\dot{q}_1  \\\\  \\partial_{u} \\dot{q}_2  \\end{matrix}\\right] = \\left[\\begin{matrix} 1 \\\\ 0 \\end{matrix}\\right].$$\n",
        "\n",
        "Evaluating the Jacobian at $x_e = 0$ yields\n",
        "$$\\partial_u f(q_e) = \\boxed{\\left[\\begin{matrix} 1 \\\\ 0 \\end{matrix}\\right] = B}$$\n",
        "\n",
        "### subproblem (4b.)\n",
        "\n",
        "Let $u=-k_Pq_2$. Does there exist a $k_P$ such that the closed-loop system is stable, and if so, give one such $k_P$. If not, explain why. \n",
        "\n",
        "**Solution:**\\\n",
        "First, the open-loop stability:\\\n",
        "Eigenvalues are determined by the fomula $$\\operatorname{det}(A-\\lambda I) = 0$$\n",
        "\n",
        "$\\operatorname{det}\\left(\\left[\\begin{matrix} 1 & -1 \\\\ 1 & 1 \\end{matrix}\\right] - \\lambda\\left[\\begin{matrix} 1 & 0 \\\\ 0 & 1 \\end{matrix}\\right]\\right) = 0$   \n",
        "\n",
        "$\\Leftrightarrow\\lambda = 1+i, 1-i$\\\n",
        "It can be seen that the system is unstable.\n",
        "\n",
        "If $u=-k_Pq_2$,\n",
        "in state-space form, the nonlinear system is\n",
        "$$\\dot{x} = \\frac{d}{dt} \\left[\\begin{matrix} q_1 \\\\ q_2 \\end{matrix}\\right] = \\left[\\begin{matrix} -q_1^3 - q_1q_2^2 + q_1 - q_2 -k_Pq_2 \\\\ -q_2^3 - q_1^2q_2 + q_1 + q_2 \\end{matrix}\\right] = f(x).$$\n",
        "\n",
        "The Jacobian derivative of $f$ with respect to $x$ is\n",
        "$$ \\partial_q f = \\left[\\begin{matrix} \\partial_{q_1} \\dot{q}_1 &  \\partial_{q_2} \\dot{q}_1 \\\\  \\partial_{q_1} \\dot{q}_2 &  \\partial_{q_2} \\dot{q}_2 \\end{matrix}\\right] = \\left[\\begin{matrix} -3q_1^2-q_2^2+1 & -2q_1q_2-1 - k_p \\\\ -2q_1q_2+1 & -3q_2^2-q_1^2+1 \\end{matrix}\\right].$$\n",
        "\n",
        "Evaluating the Jacobian at $x_e = 0$ yields\n",
        "$$\\partial_q f(q_e) = \\boxed{\\left[\\begin{matrix} 1 & -1 - k_p \\\\ 1 & 1 \\end{matrix}\\right] = A}$$\n",
        "\n",
        "Similarly, the eigenvalue can be determined by:\n",
        "\n",
        "$\\operatorname{det}\\left(\\left[\\begin{matrix} 1 & -1-kp \\\\ 1 & 1 \\end{matrix}\\right] - \\lambda\\left[\\begin{matrix} 1 & 0 \\\\ 0 & 1 \\end{matrix}\\right]\\right) = 0$   \n",
        "\n",
        "Solve it and we have:\n",
        "\n",
        "$\\lambda = 1 \\pm \\sqrt{-k_p - 1}$\n",
        "\n",
        "It can be seen that regardless of $k_p$, one of the eigenvalue is alwasy positive, thus there is no $k_p$ such that the closed-loop system is stable\n"
      ]
    },
    {
      "cell_type": "code",
      "metadata": {
        "colab": {
          "base_uri": "https://localhost:8080/"
        },
        "id": "jHIFLRNl4NWy",
        "outputId": "37337c9f-83c0-4737-97f0-e772d5e8ea20"
      },
      "source": [
        "A = np.array([[1,-1],[1,1]])\n",
        "np.linalg.eig(A)\n",
        "\n",
        "kp = -1\n",
        "A = np.array([[1,-1-kp],[1,1]])\n",
        "np.linalg.eig(A)"
      ],
      "execution_count": 17,
      "outputs": [
        {
          "output_type": "execute_result",
          "data": {
            "text/plain": [
              "(array([1., 1.]), array([[ 0.00000000e+00,  2.22044605e-16],\n",
              "        [ 1.00000000e+00, -1.00000000e+00]]))"
            ]
          },
          "metadata": {
            "tags": []
          },
          "execution_count": 17
        }
      ]
    },
    {
      "cell_type": "markdown",
      "metadata": {
        "id": "nfacfJLvWTzR"
      },
      "source": [
        "## problem (5.)\n",
        "\n",
        "Consider modeling the velocity of an underwater vehicle as \n",
        "\n",
        "$$ \\dot{q}_1 = aq_2^3-bq_1|q_1| $$\n",
        "$$ \\dot{q}_2 = cu - dq_2^3 $$\n",
        "\n",
        " where <mark>$q_1,q_2$ are the states of the system, with</mark> $q_1$ being the horizontal velocity of the hull and $q_2$ being the velocity of the propellor that drives the hull. Assume $a,b,c,d > 0$ The term $aq_2^3$ relates propellor speed to the boat acceleration, while $-bq_1|q_1|$ is damping on the boat velocity. In the second equation, $cu$ is how the motor torques affect the propellor speed, and $-dq_2^3$ is damping on the propellor speed.\n",
        "\n",
        "### subproblem (5a.)\n",
        "\n",
        "Find an equilibrium point $x_e,u_e$ such that $q_1=1$ (ie the underwater vehicle is moving with a constant speed of 1).\n"
      ]
    },
    {
      "cell_type": "code",
      "metadata": {
        "collapsed": true,
        "id": "CGKEHD8cgR6O"
      },
      "source": [
        ""
      ],
      "execution_count": null,
      "outputs": []
    }
  ]
}