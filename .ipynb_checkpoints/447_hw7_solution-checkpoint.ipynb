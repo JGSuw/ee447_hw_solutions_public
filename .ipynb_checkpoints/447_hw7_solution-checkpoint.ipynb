{
 "cells": [
  {
   "cell_type": "markdown",
   "metadata": {
    "id": "gqyprtgkiL91"
   },
   "source": [
    "# HW6 due 5p Fri May 21, 2021\n",
    "\n",
    "You are welcome (and encouraged) to work with others, but each individual must submit their own writeup.\n",
    "You can do the Group work portion in class with your classmates on Wednesdays to get full credit, but you can choose to do that portion individually and submit it along with your hw for a grade (i.e. you will not automatically get full credit). \n",
    "\n",
    "You are welcome to use analytical and numerical computational tools; if you do, include the **commented** sourcecode in your submission.\n",
    "\n",
    "You are welcome to consult websites, textbooks, and other materials; if you do, include a full citation in your writeup.\n",
    "\n",
    "**Important:** before you do any work in the Colaboratory notebook, click \"File -> Save a copy in Drive ...\" and rename the file to something memorable.\n",
    "\n",
    "**Also important:** To produce a .pdf for submission to Canvas, click \"File -> Print\" (or press Ctrl/Cmd + P), and choose \"Save to PDF\" or \"Microsoft Print to PDF\" as your printer."
   ]
  },
  {
   "cell_type": "markdown",
   "metadata": {
    "id": "8LbopUHXM0EM"
   },
   "source": [
    "# Group work -- Wed May 19\n",
    "\n",
    "I encourage you to attend the group work session on Wednesdays to complete the group work portion of your homework -- you will get full credit as long as you participate and make an effort on the problem. This is also a great opportunity to get to know your classmates. Only one person needs to submit.\n",
    "\n",
    "Please note that only one person can edit the Colaboratory notebook at a time, I recommend creating a copy for yourself and copy pasting your solutions in the discord or Zoom chat if people want to work on different parts of the writeup."
   ]
  },
  {
   "cell_type": "markdown",
   "metadata": {
    "id": "cHJv0a0QM0EN"
   },
   "source": [
    "## 0. Groupmates: [Names of everyone in your group]"
   ]
  },
  {
   "cell_type": "markdown",
   "metadata": {
    "id": "qfw0s9GV0ock"
   },
   "source": [
    "## 1. [60 min] state and output feedback\n",
    "\n",
    "***Purpose:*** apply analytical and computational techniques to observe and control the state of a *nonlinear* system.\n",
    "\n",
    "Consider the following model of a robot arm from group work 6 and homework 6 Q1 that consists of a rigid rod of length $\\ell$ attached to a point mass $m$ at one end and a rotational joint at the other end,\n",
    "\n",
    "$$ \\ m \\ell^2 \\ddot{\\theta} = m g \\ell \\sin\\theta - \\gamma\\dot{\\theta} + \\tau,\\ y = \\ell\\sin\\theta, $$\n",
    "\n",
    "where \n",
    "$\\gamma$ is a coefficient of friction for the rotational joint \n",
    "and \n",
    "$\\tau$ is a torque applied by a motor attached to the rotational joint; use parameter values $m = 1$ kg, $\\ell = 1$ m, $g = 9.81$ m sec$^{-2}$, $\\gamma = 1$ in this problem.\n",
    "\n",
    "a. Implement a simulation where you apply the observer from (HW6 Q1d.)  and controller from (GW6 c.) to the ***nonlinear*** system (nonlinear dynamics and nonlinear output equation); provide overlaid plots of states versus time for the nonlinear system and linear controller to verify that (i) the state of the observer converges to the state of the nonlinear system and (ii) the state of the nonlinear system converges to the equilibrium.   \n",
    "\n",
    "***Note:*** the nonlinear system and linear controller should be initialized at non-equal non-equilibrium initial conditions.\n",
    "\n",
    "***Hint:*** the nonlinear system and linear controller should not be initialized too far from the equilibrium.\n"
   ]
  },
  {
   "cell_type": "code",
   "execution_count": 1,
   "metadata": {},
   "outputs": [
    {
     "name": "stdout",
     "output_type": "stream",
     "text": [
      "Requirement already satisfied: control in c:\\users\\brl\\anaconda2\\envs\\py35\\lib\\site-packages (0.9.0)\n",
      "Requirement already satisfied: numpy in c:\\users\\brl\\anaconda2\\envs\\py35\\lib\\site-packages (from control) (1.14.3)\n",
      "Requirement already satisfied: matplotlib in c:\\users\\brl\\anaconda2\\envs\\py35\\lib\\site-packages (from control) (2.0.2)\n",
      "Requirement already satisfied: scipy in c:\\users\\brl\\anaconda2\\envs\\py35\\lib\\site-packages (from control) (1.0.0)\n",
      "Requirement already satisfied: six>=1.10 in c:\\users\\brl\\anaconda2\\envs\\py35\\lib\\site-packages (from matplotlib->control) (1.10.0)\n",
      "Requirement already satisfied: python-dateutil in c:\\users\\brl\\anaconda2\\envs\\py35\\lib\\site-packages (from matplotlib->control) (2.6.1)\n",
      "Requirement already satisfied: pytz in c:\\users\\brl\\anaconda2\\envs\\py35\\lib\\site-packages (from matplotlib->control) (2017.2)\n",
      "Requirement already satisfied: cycler>=0.10 in c:\\users\\brl\\anaconda2\\envs\\py35\\lib\\site-packages (from matplotlib->control) (0.10.0)\n",
      "Requirement already satisfied: pyparsing!=2.0.4,!=2.1.2,!=2.1.6,>=1.5.6 in c:\\users\\brl\\anaconda2\\envs\\py35\\lib\\site-packages (from matplotlib->control) (2.2.0)\n"
     ]
    },
    {
     "name": "stderr",
     "output_type": "stream",
     "text": [
      "You are using pip version 19.0.1, however version 20.3.4 is available.\n",
      "You should consider upgrading via the 'python -m pip install --upgrade pip' command.\n"
     ]
    },
    {
     "ename": "SyntaxError",
     "evalue": "invalid syntax (timeresp.py, line 887)",
     "output_type": "error",
     "traceback": [
      "Traceback \u001b[1;36m(most recent call last)\u001b[0m:\n",
      "  File \u001b[0;32m\"C:\\Users\\BRL\\Anaconda2\\envs\\py35\\lib\\site-packages\\IPython\\core\\interactiveshell.py\"\u001b[0m, line \u001b[0;32m2862\u001b[0m, in \u001b[0;35mrun_code\u001b[0m\n    exec(code_obj, self.user_global_ns, self.user_ns)\n",
      "  File \u001b[0;32m\"<ipython-input-1-018590a83bd5>\"\u001b[0m, line \u001b[0;32m5\u001b[0m, in \u001b[0;35m<module>\u001b[0m\n    from control import place as place\n",
      "  File \u001b[0;32m\"C:\\Users\\BRL\\Anaconda2\\envs\\py35\\lib\\site-packages\\control\\__init__.py\"\u001b[0m, line \u001b[0;32m61\u001b[0m, in \u001b[0;35m<module>\u001b[0m\n    from .rlocus import *\n",
      "  File \u001b[0;32m\"C:\\Users\\BRL\\Anaconda2\\envs\\py35\\lib\\site-packages\\control\\rlocus.py\"\u001b[0m, line \u001b[0;32m61\u001b[0m, in \u001b[0;35m<module>\u001b[0m\n    from .sisotool import _SisotoolUpdate\n",
      "\u001b[1;36m  File \u001b[1;32m\"C:\\Users\\BRL\\Anaconda2\\envs\\py35\\lib\\site-packages\\control\\sisotool.py\"\u001b[1;36m, line \u001b[1;32m5\u001b[1;36m, in \u001b[1;35m<module>\u001b[1;36m\u001b[0m\n\u001b[1;33m    from .timeresp import step_response\u001b[0m\n",
      "\u001b[1;36m  File \u001b[1;32m\"C:\\Users\\BRL\\Anaconda2\\envs\\py35\\lib\\site-packages\\control\\timeresp.py\"\u001b[1;36m, line \u001b[1;32m887\u001b[0m\n\u001b[1;33m    rise_time: float = np.NaN\u001b[0m\n\u001b[1;37m             ^\u001b[0m\n\u001b[1;31mSyntaxError\u001b[0m\u001b[1;31m:\u001b[0m invalid syntax\n"
     ]
    }
   ],
   "source": [
    "# import useful python packages\n",
    "!pip install control\n",
    "import numpy as np\n",
    "import pylab as plt\n",
    "from control import place as place"
   ]
  },
  {
   "cell_type": "code",
   "execution_count": null,
   "metadata": {
    "collapsed": true
   },
   "outputs": [],
   "source": [
    "\n",
    "\n",
    "# vector field\n",
    "def f_cl(t,z,u): \n",
    "  \n",
    "  # extract controlled system and observer system state from full system state\n",
    "  x,x_hat = z[:2],z[2:]\n",
    "  \n",
    "  # compute control input using observer state\n",
    "  u = -np.dot(x_hat,K.T)\n",
    "  \n",
    "  # output from controlled system and observer system\n",
    "  y = h_NL(t,x,u)\n",
    "  y_hat = np.dot(x_hat,C.T) + np.dot(u,D.T)\n",
    "  \n",
    "  # dynamics of controlled system and observer system\n",
    "  dx = f_NL(t,x,u)\n",
    "  dx_hat = np.dot(x_hat,A.T) + np.dot(u,B.T) + np.dot((y-y_hat),L.T)\n",
    "  \n",
    "  # combine dynamics of controlled system and observer system\n",
    "  dz = np.hstack((dx,dx_hat))\n",
    "\n",
    "  return dz\n",
    "\n",
    "# NOTE:  nonlinear system's initial state needs to be VERY close to x_e\n",
    "theta0,dtheta0 = .01,.0\n",
    "\n",
    "theta0_hat = 0.\n",
    "dtheta0_hat = 0.\n",
    "\n",
    "# non-zero initial state\n",
    "z0 = np.array([theta0, dtheta0, theta0_hat, dtheta0_hat])\n",
    "\n",
    "# zero input\n",
    "def u(t):\n",
    "  ut = 0\n",
    "  return ut\n",
    "# this could equivalently be written in one line:\n",
    "# u = lambda t : np.sin(t)\n",
    "\n",
    "# numerical simulation returns:\n",
    "# t_ - size N array\n",
    "# z_ - size N x 2 array (since the state is 2-dimensional)\n",
    "t_,z_ = numerical_simulation(f_cl,T,z0,ut=u,dt=dt)\n",
    "\n",
    "# the first column contains theta(t), the second column contains dtheta(t)\n",
    "# (I append an underscore \"_\" to remind myself these are time series)\n",
    "x_ = z_[:,:2]\n",
    "x_hat_ = z_[:,2:]\n",
    "theta_,dtheta_, = x_.T\n",
    "theta_hat_,dtheta_hat_, = x_hat_.T\n",
    "\n",
    "# we'll use the Matplotlib library for plots\n",
    "# (as the name suggests, it has a similar interface to MATLAB)\n",
    "import pylab as plt\n",
    "plt.figure()\n",
    "\n",
    "# plot theta, theta_hat\n",
    "plt.subplot(2,1,1)\n",
    "plt.plot(t_,theta_,'--',lw=4,label=r'$\\theta$')\n",
    "plt.plot(t_,theta_hat_,label=r'$\\widehat{\\theta}$')\n",
    "plt.ylabel(r'$\\theta(t)$')\n",
    "\n",
    "# plot dtheta, dtheta_hat\n",
    "plt.subplot(2,1,2)\n",
    "plt.plot(t_,dtheta_,'--',lw=4,label=r'$\\dot{\\theta}$')\n",
    "plt.plot(t_,dtheta_hat_,label=r'$\\dot{\\widehat{\\theta}}$')\n",
    "plt.ylabel(r'$\\dot{\\theta}(t)$')\n",
    "plt.xlabel(r'time $t$')\n",
    "\n",
    "plt.figure()\n",
    "plt.subplot(1,1,1)\n",
    "plt.plot(theta_,dtheta_,'--',lw=4,label=r'$x$')\n",
    "plt.plot(theta_hat_,dtheta_hat_,label=r'$\\widehat{x}$')\n",
    "plt.ylabel(r'$\\dot{\\theta}(t)$')\n",
    "plt.xlabel(r'${\\theta}(t)$')\n",
    "plt.legend();"
   ]
  },
  {
   "cell_type": "markdown",
   "metadata": {},
   "source": [
    "b. Demonstrate that the controller in (a.) fails to stabilize the nonlinear system to the equilibrium by initializing the nonlinear system and/or linear observer sufficiently far from the equilibrium.\n",
    "\n",
    "***Takeaway:*** we can apply linear systems tools to synthesize a controller that stabilizes a nonlinear system ***near an equilibrium***."
   ]
  },
  {
   "cell_type": "markdown",
   "metadata": {
    "id": "2OKgjzfIM0EP"
   },
   "source": [
    "### * end of group work -- download as PDF and submit as part of group assignment *"
   ]
  },
  {
   "cell_type": "markdown",
   "metadata": {
    "id": "CorRwlNV_VbX"
   },
   "source": [
    "## 0. [preferred name]; [preferred pronouns]\n",
    "\n",
    "a. Approximately how many hours did you spend on this assignment?\n",
    "\n",
    "b. Were there specific problems that took much longer than others?\n",
    "\n",
    "c. What class meeting(s) did you participate in this week?\n",
    "\n",
    "d. What timezone(s) were you working in this week?"
   ]
  },
  {
   "cell_type": "markdown",
   "metadata": {
    "id": "oWNWeCQEd132"
   },
   "source": [
    "## 1. transfer functions\n",
    "\n",
    "Consider the model of a series RLC circuit from lecture,\n",
    "$$ L \\ddot{q} + R \\dot{q} + q/C = v, $$\n",
    "where $q$ denotes the charge on the capacitor,\n",
    "($R$, $L$, $C$) denote the (resistor, inductor, capacitor) parameters,\n",
    "and $v$ denotes a series voltage source.\n",
    "\n",
    "***Purpose:*** practice determining transfer functions from state-space representations of LTI systems.\n",
    "\n",
    "a. Determine the transfer function from input voltage to capacitor charge $G_{qv}(s)$.\n",
    "\n",
    "**Solution:**\n",
    "\n",
    "Laplace transform to obtain: $s^2Lq+sRq+\\frac{q}{c}=v$\n",
    "\n",
    "$$\\fbox{$G_{qv}=\\frac{q}{v}=\\frac{1}{s^2L+sR+1/C}$}$$\n",
    "\n",
    "---------------------------------------\n",
    "\n",
    "b. With $x = (q,\\dot{q})$ as the circuit's state, $u = v$ as the circuit's input, and $y = q$ as the circuit's output, determine matrices $A, B, C, D$ such that\n",
    "\n",
    "$$ \\dot{x} = A x + B u,\\quad y = C x + D u. $$\n",
    "\n",
    "**Solution:**\n",
    "\n",
    "By determining that $\\dot{x} = \\left[\\begin{matrix} \\dot{q} \\\\ \\ddot{q} \\end{matrix}\\right]=A\\left[\\begin{matrix} q\\\\ \\dot{q} \\end{matrix}\\right] + Bv$ we can compare this against our equation for $\\ddot{q}=\\frac{v}{L}-\\frac{R}{L}\\dot{q}-\\frac{q}{LC}$ to obtain:\n",
    "\n",
    " $\\dot{x} = \\left[\\begin{matrix} \\dot{q} \\\\ \\ddot{q} \\end{matrix}\\right]=\\left[\\begin{matrix} 0 & 1 \\\\ \\frac{-1}{LC} & \\frac{-R}{L} \\end{matrix}\\right] \\left[\\begin{matrix} q\\\\ \\dot{q} \\end{matrix}\\right] + \\left[\\begin{matrix} 0 \\\\ \\frac{1}{L} \\end{matrix}\\right]v$\n",
    "\n",
    " and similarly for $y=q=C\\left[\\begin{matrix} q\\\\ \\dot{q} \\end{matrix}\\right]+Dv = \\left[\\begin{matrix} 1 & 0 \\end{matrix}\\right]+0v$\n",
    "\n",
    " $$\\Leftrightarrow \\fbox{$A=\\left[\\begin{matrix} 0 & 1 \\\\ \\frac{-1}{LC} & \\frac{-R}{L} \\end{matrix}\\right],\n",
    " B=\\left[\\begin{matrix} 0 \\\\ \\frac{1}{L} \\end{matrix}\\right],\n",
    " C=\\left[\\begin{matrix} 1 & 0 \\end{matrix}\\right],\n",
    " D=0 $}$$\n",
    "\n",
    " ----------------------------------------------------\n",
    "\n",
    "c. Verify that the transfer function of the state-space system in (b.) is the same as the transfer function determined in (a.).  (***Hint:***  you just need to compute $C (sI - A)^{-1} B + D$ and verify that it equals $G_{qv}(s)$).\n",
    "\n",
    "**Solution:**\n",
    "\n",
    "$C (sI - A)^{-1} B + D = \\left[\\begin{matrix} 1 & 0 \\end{matrix}\\right](\\left[\\begin{matrix} s & 0 \\\\ 0 & s \\end{matrix}\\right]-\\left[\\begin{matrix} 0 & 1 \\\\ \\frac{-1}{LC} & \\frac{-R}{L} \\end{matrix}\\right])^{-1}\\left[\\begin{matrix} 0 \\\\ \\frac{1}{L} \\end{matrix}\\right]+0 = \\left[\\begin{matrix} 1 & 0 \\end{matrix}\\right](\\left[\\begin{matrix} s & -1 \\\\ \\frac{1}{LC} & s+\\frac{R}{L} \\end{matrix}\\right])^{-1}\\left[\\begin{matrix} 0 \\\\ \\frac{1}{L} \\end{matrix}\\right]$\n",
    "\n",
    "Use your favorite computational tool to compute this inverse (I actually calculated by hand since for any $2\\times 2$ matrix $M=\\left[\\begin{matrix} a & b \\\\ c & d \\end{matrix}\\right]^{-1}=\\frac{1}{det(M)}\\left[\\begin{matrix} d & -b \\\\ -c & a \\end{matrix}\\right]$). Use this to determine that this matrix multiplication comes out to:\n",
    "\n",
    "$C (sI - A)^{-1} B + D = \\left[\\begin{matrix} 1 & 0 \\end{matrix}\\right](\\left[\\begin{matrix} s & -1 \\\\ \\frac{1}{LC} & s + \\frac{R}{L} \\end{matrix}\\right])^{-1}\\left[\\begin{matrix} 0 \\\\ \\frac{1}{L} \\end{matrix}\\right]+0 \n",
    "= \\frac{1}{s^2 + \\frac{R}{L}s + \\frac{1}{LC}}(\\left[\\begin{matrix} 1 & 0 \\end{matrix}\\right](\\left[\\begin{matrix} s+\\frac{R}{L} & 1 \\\\ \\frac{-1}{LC} & s \\end{matrix}\\right])\\left[\\begin{matrix} 0 \\\\ \\frac{1}{L} \\end{matrix}\\right])\n",
    "= \\frac{1}{s^2 + \\frac{R}{L}s + \\frac{1}{LC}}(\\left[\\begin{matrix} s + \\frac{R}{L} & 1 \\end{matrix}\\right]\\left[\\begin{matrix} 0 \\\\ \\frac{1}{L} \\end{matrix}\\right])$\n",
    "\n",
    "$$\\fbox{$G_{qv} = \\frac{1}{s^2L+sR+1/C}$}$$\n",
    "\n",
    "--------------------------------------------------\n",
    "\n",
    "d. With $\\widetilde{x} = (\\frac{1}{2}(q + \\dot{q}),\\frac{1}{2}(q - \\dot{q}))$ as the state, $u = v$ as the input, and $y = q$ as the output, determine matrices $\\widetilde{A}, \\widetilde{B}, \\widetilde{C}, \\widetilde{D}$ such that\n",
    "\n",
    "$$ \\dot{\\widetilde{x}} = \\widetilde{A} \\widetilde{x} + \\widetilde{B} u,\\quad y = \\widetilde{C} \\widetilde{x} + \\widetilde{D} u. $$\n",
    "\n",
    "**Solution:**\n",
    "\n",
    "\n",
    " $$\\widetilde{A}= TAT^{-1} , \\widetilde{B} = TB$$\n",
    " \n",
    " We determine T using the relation $$ \\widetilde{x} = Tx$$\n",
    "\n",
    "  $$\\left[\\begin{matrix} \\frac{1}{2}(q + \\dot{q}) \\\\ \\frac{1}{2}(q - \\dot{q}) \\end{matrix}\\right] = \\left[\\begin{matrix} \\frac{1}{2} & \\frac{1}{2} \\\\ \\frac{1}{2} & \\frac{-1}{2} \\end{matrix}\\right]\\left[\\begin{matrix} q \\\\ \\dot{q} \\end{matrix}\\right]$$\n",
    "\n",
    "Applying this to find $\\widetilde{A}$ and $\\widetilde{B}$ ,\n",
    "\n",
    "\n",
    " \n",
    " $$\\widetilde{A} = \\left[\\begin{matrix} \\frac{1}{2} & \\frac{1}{2} \\\\ \\frac{1}{2} & \\frac{-1}{2} \\end{matrix}\\right] \\left[\\begin{matrix} 0 & 1 \\\\ \\frac{-1}{LC} & \\frac{-R}{L} \\end{matrix}\\right] \\left[\\begin{matrix} 1 & 1 \\\\ 1 & -1 \\end{matrix}\\right]$$\n",
    "\n",
    " $$\\Leftrightarrow \\left[\\begin{matrix} \\frac{-(RC-LC+1)}{2LC} & \\frac{RC-LC-1}{2LC} \\\\ \\frac{RC+LC+1}{2LC} & \\frac{-(RC+LC-1)}{2LC} \\end{matrix}\\right]$$\n",
    "\n",
    " $$\\widetilde{B} = \\left[\\begin{matrix} \\frac{1}{2} & \\frac{1}{2} \\\\ \\frac{1}{2} & \\frac{-1}{2} \\end{matrix}\\right] \\left[\\begin{matrix} 0 \\\\ \\frac{1}{L} \\end{matrix}\\right] = \\left[\\begin{matrix} \\frac{1}{2L} \\\\ \\frac{-1}{2L} \\end{matrix}\\right]$$\n",
    "\n",
    "\n",
    " $$\\Leftrightarrow \\fbox{$\\widetilde{A}=\\left[\\begin{matrix} \\frac{-(RC-LC+1)}{2LC} & \\frac{RC-LC-1}{2LC} \\\\ \\frac{RC+LC+1}{2LC} & \\frac{-(RC+LC-1)}{2LC} \\end{matrix}\\right], \\widetilde{B}=\\left[\\begin{matrix} \\frac{1}{2L} \\\\ \\frac{-1}{2L} \\end{matrix}\\right]$}$$\n",
    " \n",
    "$y=q=\\widetilde{C}\\left[\\begin{matrix} \\frac{1}{2}(q + \\dot{q})\\\\ \\frac{1}{2}(q - \\dot{q}) \\end{matrix}\\right]+\\widetilde{D}u = \\left[\\begin{matrix} 1 & 1 \\end{matrix}\\right]+0u$\n",
    "\n",
    "$$\\fbox{$\\widetilde{C}=\\left[\\begin{matrix} 1 & 1 \\end{matrix}\\right],\n",
    " \\widetilde{D}=0$}$$\n",
    "\n",
    " ----------------------------------\n",
    "\n",
    "e. Verify that the transfer function of the state-space system in (d.) is the same as the transfer functions obtained in (a.), (c.).  (***Hint:***  you just need to compute $\\widetilde{C} (sI - \\widetilde{A})^{-1} \\widetilde{B} + \\widetilde{D}$ and verify that it equals $G_{qv}(s)$).\n",
    "\n",
    "**Solution:**\n",
    "\n",
    " Transfer function for the state-space system is $\\widetilde{C} (sI - \\widetilde{A})^{-1} \\widetilde{B} + \\widetilde{D}$\n",
    "\n",
    " $$ \\Leftrightarrow \\left[\\begin{matrix} 1 & 1 \\end{matrix}\\right] (\\left[\\begin{matrix} s & 0 \\\\ 0 & s \\end{matrix}\\right] - \\left[\\begin{matrix} \\frac{-(RC-LC+1)}{2LC} & \\frac{RC-LC-1}{2LC} \\\\ \\frac{RC+LC+1}{2LC} & \\frac{-(RC+LC-1)}{2LC} \\end{matrix}\\right])^{-1} \\left[\\begin{matrix} \\frac{1}{2L} \\\\ \\frac{-1}{2L} \\end{matrix}\\right]$$\n",
    "\n",
    "  $$ \\Leftrightarrow \\left[\\begin{matrix} 1 & 1 \\end{matrix}\\right] (\\left[\\begin{matrix} s + \\frac{(RC-LC+1)}{2LC} & -\\frac{RC-LC-1}{2LC} \\\\ -\\frac{RC+LC+1}{2LC} & s + \\frac{(RC+LC-1)}{2LC} \\end{matrix}\\right])^{-1} \\left[\\begin{matrix} \\frac{1}{2L} \\\\ \\frac{-1}{2L} \\end{matrix}\\right]$$\n",
    "\n",
    " $$\\Leftrightarrow \\left[\\begin{matrix} 1 & 1 \\end{matrix}\\right]  \\frac{1}{s^2 + (\\frac{1}{2LC} - \\frac{1}{2} + \\frac{R}{2L} - \\frac{1}{2LC} + \\frac{1}{2} + \\frac{R}{2L})s + ((\\frac{1}{2LC} - \\frac{1}{2} + \\frac{R}{2L})(-\\frac{1}{2LC} + \\frac{1}{2} + \\frac{R}{2L})) - ((\\frac{1}{2LC} + \\frac{1}{2} - \\frac{R}{2L})(-\\frac{1}{2LC} - \\frac{1}{2} - \\frac{R}{2L}))} \\left[\\begin{matrix} s - \\frac{1-LC-RC}{2LC} & \\frac{-1-LC+RC}{2LC} \\\\ \\frac{1+LC+RC}{2LC} & s + \\frac{1-LC+RC}{2LC} \\end{matrix}\\right] \\left[\\begin{matrix} \\frac{1}{2L} \\\\ -\\frac{1}{2L} \\end{matrix}\\right]$$\n",
    "\n",
    "$$\\Leftrightarrow \\frac{1}{s^2 + \\frac{R}{L}s + \\frac{1}{LC}} \\left[\\begin{matrix} s + 1 + \\frac{R}{L} & s - 1 + \\frac{R}{L} \\end{matrix}\\right] \\left[\\begin{matrix} \\frac{1}{2L} \\\\ -\\frac{1}{2L} \\end{matrix}\\right]$$\n",
    "\n",
    "$$\\fbox{$G(s) = \\frac{\\frac{1}{L}}{s^2 + \\frac{R}{L}s + \\frac{1}{LC}}$}$$\n",
    "\n",
    "This matches the transfer function we get for $G_{qv}$.\n",
    "\n",
    "***Takeaway:*** the transfer function of a state-space system is the same regardless of what coordinates you choose for the state vector.  Thus, if we are primarily concerned with a system's input/output response (i.e. how input signal $u$ transforms to output signal $y$) and less concerned with the details of what happens \"inside\" the system (i.e. how the state $x$ is influenced by the input), the transfer function provides a convenient representation."
   ]
  },
  {
   "cell_type": "markdown",
   "metadata": {
    "id": "ySC7Oz2bdYMt"
   },
   "source": [
    "## 2. Bode plots\n",
    "\n",
    "***Purpose:*** visualize and manipulate transfer functions and their interconnections using ***Bode plots***, that is, plots that show how sinusoidal inputs are amplified/attenuated and phase-shifted by a transfer function $G$ as a function of the input frequency $\\omega$.\n",
    "\n",
    "Consider the transfer function process model for an RC circuit with a voltage source as the input and capacitor voltage as the output,\n",
    "\n",
    "$$ P(s) = \\frac{1}{1 + s RC}. $$\n",
    "\n",
    "Use parameter values $R = 1$M$\\Omega$, $C = 1\\mu$F (i.e. $R C = 1$) in the remainder of the problem.\n",
    "\n",
    "a. Create the ***Bode plot*** for $P$, that is, plot $| P(j\\omega) |$ and $\\angle P(j\\omega)$ versus $\\omega$.  (***Hint:*** refer to the RLC Circuit example in Section 2 of the [lecture examples notebook](https://colab.research.google.com/github/sburden/447/blob/master/447_lec_examples.ipynb) for plotting code; you should use the ``plt.subplot``, ``plt.loglog``, and ``plt.semilogx`` functions in your solution.)\n",
    "\n",
    "If we instead consider the transfer function from the input voltage to the resistor voltage, we obtain the transfer function\n",
    "\n",
    "$$ Q(s) = \\frac{s RC}{1 + sRC}. $$\n",
    "\n",
    "b. Create the Bode plot for $Q$.\n",
    "\n",
    "c. Create the Bode plot for the numerator $N(s) = s RC$ of $Q$.\n",
    "\n",
    "d. Noting that $Q(s) = P(s) N(s)$, determine how the Bode plot of $Q$ is related to the Bode plots of $P$ and $N$.  (***Note:*** the magnitude component of the Bode plot should be represented logarithmically.)\n",
    "\n",
    "e. Verify the relationship you derived in (d.) by overlaying the Bode plot of $P(s)N(s)$ on your Bode plot of $Q$ from (b.).\n",
    "\n",
    "f. Describe the Bode plots of $N$, $Q$, and $P$ as ***filters***, that is, explain how each system responds to \"low frequency\" inputs (specify a range of frequencies you regard as \"low\") and \"high frequency\" inputs (specify a range of frequencies you regard as \"high\").  Could you predict the combined response of $Q = P N$  based on the individual responses of $N$ and $P$?\n",
    "\n",
    "***Takeaway:*** Bode plots provide a convenient visualization of a transfer function that enables us to determine how systems respond to input frequency components, individually and through interconnection."
   ]
  },
  {
   "cell_type": "code",
   "execution_count": null,
   "metadata": {
    "collapsed": true,
    "id": "lJ4DP9JhM0ES"
   },
   "outputs": [],
   "source": []
  }
 ],
 "metadata": {
  "colab": {
   "collapsed_sections": [],
   "name": "447_hw7_solution.ipynb",
   "provenance": []
  },
  "kernelspec": {
   "display_name": "Python 3",
   "language": "python",
   "name": "python3"
  },
  "language_info": {
   "codemirror_mode": {
    "name": "ipython",
    "version": 3
   },
   "file_extension": ".py",
   "mimetype": "text/x-python",
   "name": "python",
   "nbconvert_exporter": "python",
   "pygments_lexer": "ipython3",
   "version": "3.5.4"
  }
 },
 "nbformat": 4,
 "nbformat_minor": 1
}
