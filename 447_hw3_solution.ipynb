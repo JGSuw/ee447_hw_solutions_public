{
  "nbformat": 4,
  "nbformat_minor": 0,
  "metadata": {
    "colab": {
      "name": "447_hw3.ipynb",
      "provenance": [],
      "collapsed_sections": []
    },
    "kernelspec": {
      "name": "python37364bitbasecondad1dc895b06f340a1aa92612ef3391c05",
      "display_name": "Python 3.7.3 64-bit (conda)"
    },
    "language_info": {
      "codemirror_mode": {
        "name": "ipython",
        "version": 3
      },
      "file_extension": ".py",
      "mimetype": "text/x-python",
      "name": "python",
      "nbconvert_exporter": "python",
      "pygments_lexer": "ipython3",
      "version": "3.7.3"
    },
    "metadata": {
      "interpreter": {
        "hash": "6296c02155b2789c7f4828de522e4f04f921f55ab81aa51ee3b23f112e27a5e2"
      }
    }
  },
  "cells": [
    {
      "cell_type": "markdown",
      "metadata": {
        "id": "gqyprtgkiL91"
      },
      "source": [
        "# HW3 due 5p Fri April 23, 2021\n",
        "\n",
        "You are welcome (and encouraged) to work with others, but each individual must submit their own writeup.\n",
        "You can do the Group work portion in class with your classmates on Wednesdays to get full credit, but you can choose to do that portion individually and submit it along with your hw for a grade (i.e. you will not automatically get full credit). \n",
        "\n",
        "You are welcome to use analytical and numerical computational tools; if you do, include the **commented** sourcecode in your submission (e.g. the .ipynb file).\n",
        "\n",
        "You are welcome to consult websites, textbooks, and other materials; if you do, include a full citation in your writeup (e.g. the .ipynb file).\n",
        "\n",
        "**Important:** before you do any work in the Colaboratory notebook, click \"File -> Save a copy in Drive ...\" and rename the file to something memorable.\n",
        "\n",
        "**Also important:** To produce a .pdf for submission to Canvas, click \"File -> Print\" (or press Ctrl/Cmd + P), and choose \"Save to PDF\" or \"Microsoft Print to PDF\" as your printer.\n"
      ]
    },
    {
      "cell_type": "markdown",
      "metadata": {
        "id": "sryKuQNjR1To"
      },
      "source": [
        "# Group work -- Wed April 21\n",
        "\n",
        "I encourage you to attend the group work session on Wednesdays to complete the group work portion of your homework -- you will get full credit as long as you participate and make an effort on the problem. This is also a great opportunity to get to know your classmates. Only one person needs to submit.\n",
        "\n",
        "Please note that only one person can edit the Colaboratory notebook at a time, I recommend creating a copy for yourself and copy pasting your solutions in the discord or Zoom chat if people want to work on different parts of the writeup."
      ]
    },
    {
      "cell_type": "markdown",
      "metadata": {
        "id": "CuFqxs6gR1Tp"
      },
      "source": [
        "## 1. Groupmates: [Names of everyone in your group]"
      ]
    },
    {
      "cell_type": "markdown",
      "metadata": {
        "id": "dkRxwUjmR1Tq"
      },
      "source": [
        "## 2. [15 min]: Stable and unstable systems (don't have to do if submitting individually)\n",
        "\n",
        "Pick a plant to talk about (e.g., cruise control in a car -- you can't pick this example) and a desired reference trajectory (e.g., 60 mph). Is your feedback system stable without an input (i.e., if the plant is disturbed like the car started going up a hill, would your plant return to your desired reference trajectory without any torque)? Why or why not? Is there another reference trajectory you can pick that will make the plant stable without any input? You don't have to write down everything you discussed, but please write down what plant, the reference you picked, and whether you think that the feedback system will be stable or not."
      ]
    },
    {
      "cell_type": "markdown",
      "metadata": {
        "id": "wPlxsKUHc9-D"
      },
      "source": [
        "## 3. [60 min] parametric stability\n",
        "\n",
        "Consider the linear system\n",
        "\n",
        "$$ \\dot{x} = \\left[\\begin{matrix} 0 & 1 \\\\ 0 & -3 \\end{matrix}\\right]x + \\left[\\begin{matrix} -1 \\\\ 4 \\end{matrix}\\right] u. $$\n",
        "\n",
        "## open-loop system\n",
        "\n",
        "***Purpose:*** assess stability of an uncontrolled (\"open-loop\") system in state-space form using eigenvalues.\n",
        "\n",
        "First, we'll consider the *open-loop* linear system's $``A\"$ matrix,\n",
        "\n",
        "$$ A = \\left[\\begin{matrix} 0 & 1 \\\\ 0 & -3 \\end{matrix}\\right]. $$\n",
        "\n",
        "a. What are the eigenvalues of $A$?  How did you determine them?\n",
        "\n",
        "---\n",
        "**SOLUTION**\n",
        "The eigenvalues of $A$ are the roots of the polynomial $$\\text{det}\\left(A-\\lambda Iright) = 0$$.\n",
        "In this instance they are the roots of $$\\lambda(-3-\\lambda) = 0$$\n",
        "which are $\\lambda = 0$ and $\\lambda = -3$.\n",
        "\n",
        "---\n",
        "\n",
        "b. Is this system stable (all eigenvalues have negative real part) or unstable (one or more eigenvalues has zero or positive real part)?\n",
        "---\n",
        "**SOLUTION**\n",
        "The system is (un/meta)-stable because $\\lambda = 0$ is not in the open left half of the complex plain. For reference, meta-stability is the special case when the maximum of the real part of the eigenvalues of $A$ is zero.\n",
        "\n",
        "---\n",
        "\n",
        "## closed-loop system\n",
        "\n",
        "***Purpose:*** assess stability of a controlled (\"closed-loop\") system in state-space form using eigenvalues as a function of a parameter.\n",
        "\n",
        "Now we'll consider the effect of the output feedback $u = \\left[\\begin{matrix} -k & 0 \\end{matrix}\\right] x$, which results in the following ***closed-loop*** $``A\"$ matrix for the linear system:\n",
        "\n",
        "$$ A = \\left[\\begin{matrix} k & 1 \\\\ -4k & -3 \\end{matrix}\\right]. $$\n",
        "\n",
        "c. What are the eigenvalues of $A$?  How did you determine them?\n",
        "\n",
        "---\n",
        "**SOLUTION**\n",
        "Once again, to find the eigenvalues of $A$ we evaluate $$\\text{det}\\left( A-\\lambda I\\right) = 0.$$\n",
        "\n",
        "This provides $$ (k-\\lambda)(-3-\\lambda) + 4k =  \\lambda^2 + (3-k)\\lambda + k = 0 .$$\n",
        "\n",
        "Solving for $\\lambda$ yields solutions \n",
        "$$ \\lambda = \\cfrac{k-3 \\pm \\sqrt{k^2-10k+9}}{2}. $$\n",
        "\n",
        "---\n",
        "\n",
        "d. Plot the eigenvalues of $A$ in the complex plane for $k\\ge 0$; annotate the plot with several values of $k$.\n",
        "\n",
        "***Takeaway:*** this kind of plot is termed a ***root locus*** -- the eigenvalues are the *roots* of the characteristic polynomial $a(s)$ for $A$, and their plot is the *locus* of points that satisfy the homogenous equation $a(s) = 0$.  Later we'll learn more techniques for predicting and interpreting a linear system's root locus plot.  We'll pay particular attention to whether the eigenvalues lie in the left-half-plane, i.e. whether the system is stable."
      ]
    },
    {
      "cell_type": "code",
      "execution_count": 28,
      "metadata": {},
      "outputs": [
        {
          "output_type": "display_data",
          "data": {
            "text/plain": "<Figure size 432x288 with 1 Axes>",
            "image/svg+xml": "<?xml version=\"1.0\" encoding=\"utf-8\" standalone=\"no\"?>\r\n<!DOCTYPE svg PUBLIC \"-//W3C//DTD SVG 1.1//EN\"\r\n  \"http://www.w3.org/Graphics/SVG/1.1/DTD/svg11.dtd\">\r\n<!-- Created with matplotlib (https://matplotlib.org/) -->\r\n<svg height=\"248.518125pt\" version=\"1.1\" viewBox=\"0 0 380.482812 248.518125\" width=\"380.482812pt\" xmlns=\"http://www.w3.org/2000/svg\" xmlns:xlink=\"http://www.w3.org/1999/xlink\">\r\n <defs>\r\n  <style type=\"text/css\">\r\n*{stroke-linecap:butt;stroke-linejoin:round;white-space:pre;}\r\n  </style>\r\n </defs>\r\n <g id=\"figure_1\">\r\n  <g id=\"patch_1\">\r\n   <path d=\"M -0 248.518125 \r\nL 380.482812 248.518125 \r\nL 380.482812 0 \r\nL -0 0 \r\nz\r\n\" style=\"fill:none;\"/>\r\n  </g>\r\n  <g id=\"axes_1\">\r\n   <g id=\"patch_2\">\r\n    <path d=\"M 38.482813 224.64 \r\nL 373.282813 224.64 \r\nL 373.282813 7.2 \r\nL 38.482813 7.2 \r\nz\r\n\" style=\"fill:#ffffff;\"/>\r\n   </g>\r\n   <g id=\"PathCollection_1\">\r\n    <defs>\r\n     <path d=\"M 0 3 \r\nC 0.795609 3 1.55874 2.683901 2.12132 2.12132 \r\nC 2.683901 1.55874 3 0.795609 3 0 \r\nC 3 -0.795609 2.683901 -1.55874 2.12132 -2.12132 \r\nC 1.55874 -2.683901 0.795609 -3 0 -3 \r\nC -0.795609 -3 -1.55874 -2.683901 -2.12132 -2.12132 \r\nC -2.683901 -1.55874 -3 -0.795609 -3 0 \r\nC -3 0.795609 -2.683901 1.55874 -2.12132 2.12132 \r\nC -1.55874 2.683901 -0.795609 3 0 3 \r\nz\r\n\" id=\"m7adbffb4d9\" style=\"stroke:#1f77b4;\"/>\r\n    </defs>\r\n    <g clip-path=\"url(#pdf2a203f40)\">\r\n     <use style=\"fill:#1f77b4;stroke:#1f77b4;\" x=\"169.694057\" xlink:href=\"#m7adbffb4d9\" y=\"115.92\"/>\r\n     <use style=\"fill:#1f77b4;stroke:#1f77b4;\" x=\"56.671713\" xlink:href=\"#m7adbffb4d9\" y=\"115.92\"/>\r\n     <use style=\"fill:#1f77b4;stroke:#1f77b4;\" x=\"132.019942\" xlink:href=\"#m7adbffb4d9\" y=\"115.92\"/>\r\n     <use style=\"fill:#1f77b4;stroke:#1f77b4;\" x=\"132.019942\" xlink:href=\"#m7adbffb4d9\" y=\"115.92\"/>\r\n     <use style=\"fill:#1f77b4;stroke:#1f77b4;\" x=\"145.205883\" xlink:href=\"#m7adbffb4d9\" y=\"60.064336\"/>\r\n     <use style=\"fill:#1f77b4;stroke:#1f77b4;\" x=\"145.205883\" xlink:href=\"#m7adbffb4d9\" y=\"171.775664\"/>\r\n    </g>\r\n   </g>\r\n   <g id=\"matplotlib.axis_1\">\r\n    <g id=\"xtick_1\">\r\n     <g id=\"line2d_1\">\r\n      <defs>\r\n       <path d=\"M 0 0 \r\nL 0 3.5 \r\n\" id=\"m99492f6dbd\" style=\"stroke:#000000;stroke-width:0.8;\"/>\r\n      </defs>\r\n      <g>\r\n       <use style=\"stroke:#000000;stroke-width:0.8;\" x=\"56.671713\" xlink:href=\"#m99492f6dbd\" y=\"224.64\"/>\r\n      </g>\r\n     </g>\r\n     <g id=\"text_1\">\r\n      <!-- −3 -->\r\n      <defs>\r\n       <path d=\"M 10.59375 35.5 \r\nL 73.1875 35.5 \r\nL 73.1875 27.203125 \r\nL 10.59375 27.203125 \r\nz\r\n\" id=\"DejaVuSans-8722\"/>\r\n       <path d=\"M 40.578125 39.3125 \r\nQ 47.65625 37.796875 51.625 33 \r\nQ 55.609375 28.21875 55.609375 21.1875 \r\nQ 55.609375 10.40625 48.1875 4.484375 \r\nQ 40.765625 -1.421875 27.09375 -1.421875 \r\nQ 22.515625 -1.421875 17.65625 -0.515625 \r\nQ 12.796875 0.390625 7.625 2.203125 \r\nL 7.625 11.71875 \r\nQ 11.71875 9.328125 16.59375 8.109375 \r\nQ 21.484375 6.890625 26.8125 6.890625 \r\nQ 36.078125 6.890625 40.9375 10.546875 \r\nQ 45.796875 14.203125 45.796875 21.1875 \r\nQ 45.796875 27.640625 41.28125 31.265625 \r\nQ 36.765625 34.90625 28.71875 34.90625 \r\nL 20.21875 34.90625 \r\nL 20.21875 43.015625 \r\nL 29.109375 43.015625 \r\nQ 36.375 43.015625 40.234375 45.921875 \r\nQ 44.09375 48.828125 44.09375 54.296875 \r\nQ 44.09375 59.90625 40.109375 62.90625 \r\nQ 36.140625 65.921875 28.71875 65.921875 \r\nQ 24.65625 65.921875 20.015625 65.03125 \r\nQ 15.375 64.15625 9.8125 62.3125 \r\nL 9.8125 71.09375 \r\nQ 15.4375 72.65625 20.34375 73.4375 \r\nQ 25.25 74.21875 29.59375 74.21875 \r\nQ 40.828125 74.21875 47.359375 69.109375 \r\nQ 53.90625 64.015625 53.90625 55.328125 \r\nQ 53.90625 49.265625 50.4375 45.09375 \r\nQ 46.96875 40.921875 40.578125 39.3125 \r\nz\r\n\" id=\"DejaVuSans-51\"/>\r\n      </defs>\r\n      <g transform=\"translate(49.300619 239.238437)scale(0.1 -0.1)\">\r\n       <use xlink:href=\"#DejaVuSans-8722\"/>\r\n       <use x=\"83.789062\" xlink:href=\"#DejaVuSans-51\"/>\r\n      </g>\r\n     </g>\r\n    </g>\r\n    <g id=\"xtick_2\">\r\n     <g id=\"line2d_2\">\r\n      <g>\r\n       <use style=\"stroke:#000000;stroke-width:0.8;\" x=\"94.345828\" xlink:href=\"#m99492f6dbd\" y=\"224.64\"/>\r\n      </g>\r\n     </g>\r\n     <g id=\"text_2\">\r\n      <!-- −2 -->\r\n      <defs>\r\n       <path d=\"M 19.1875 8.296875 \r\nL 53.609375 8.296875 \r\nL 53.609375 0 \r\nL 7.328125 0 \r\nL 7.328125 8.296875 \r\nQ 12.9375 14.109375 22.625 23.890625 \r\nQ 32.328125 33.6875 34.8125 36.53125 \r\nQ 39.546875 41.84375 41.421875 45.53125 \r\nQ 43.3125 49.21875 43.3125 52.78125 \r\nQ 43.3125 58.59375 39.234375 62.25 \r\nQ 35.15625 65.921875 28.609375 65.921875 \r\nQ 23.96875 65.921875 18.8125 64.3125 \r\nQ 13.671875 62.703125 7.8125 59.421875 \r\nL 7.8125 69.390625 \r\nQ 13.765625 71.78125 18.9375 73 \r\nQ 24.125 74.21875 28.421875 74.21875 \r\nQ 39.75 74.21875 46.484375 68.546875 \r\nQ 53.21875 62.890625 53.21875 53.421875 \r\nQ 53.21875 48.921875 51.53125 44.890625 \r\nQ 49.859375 40.875 45.40625 35.40625 \r\nQ 44.1875 33.984375 37.640625 27.21875 \r\nQ 31.109375 20.453125 19.1875 8.296875 \r\nz\r\n\" id=\"DejaVuSans-50\"/>\r\n      </defs>\r\n      <g transform=\"translate(86.974734 239.238437)scale(0.1 -0.1)\">\r\n       <use xlink:href=\"#DejaVuSans-8722\"/>\r\n       <use x=\"83.789062\" xlink:href=\"#DejaVuSans-50\"/>\r\n      </g>\r\n     </g>\r\n    </g>\r\n    <g id=\"xtick_3\">\r\n     <g id=\"line2d_3\">\r\n      <g>\r\n       <use style=\"stroke:#000000;stroke-width:0.8;\" x=\"132.019942\" xlink:href=\"#m99492f6dbd\" y=\"224.64\"/>\r\n      </g>\r\n     </g>\r\n     <g id=\"text_3\">\r\n      <!-- −1 -->\r\n      <defs>\r\n       <path d=\"M 12.40625 8.296875 \r\nL 28.515625 8.296875 \r\nL 28.515625 63.921875 \r\nL 10.984375 60.40625 \r\nL 10.984375 69.390625 \r\nL 28.421875 72.90625 \r\nL 38.28125 72.90625 \r\nL 38.28125 8.296875 \r\nL 54.390625 8.296875 \r\nL 54.390625 0 \r\nL 12.40625 0 \r\nz\r\n\" id=\"DejaVuSans-49\"/>\r\n      </defs>\r\n      <g transform=\"translate(124.648849 239.238437)scale(0.1 -0.1)\">\r\n       <use xlink:href=\"#DejaVuSans-8722\"/>\r\n       <use x=\"83.789062\" xlink:href=\"#DejaVuSans-49\"/>\r\n      </g>\r\n     </g>\r\n    </g>\r\n    <g id=\"xtick_4\">\r\n     <g id=\"line2d_4\">\r\n      <g>\r\n       <use style=\"stroke:#000000;stroke-width:0.8;\" x=\"169.694057\" xlink:href=\"#m99492f6dbd\" y=\"224.64\"/>\r\n      </g>\r\n     </g>\r\n     <g id=\"text_4\">\r\n      <!-- 0 -->\r\n      <defs>\r\n       <path d=\"M 31.78125 66.40625 \r\nQ 24.171875 66.40625 20.328125 58.90625 \r\nQ 16.5 51.421875 16.5 36.375 \r\nQ 16.5 21.390625 20.328125 13.890625 \r\nQ 24.171875 6.390625 31.78125 6.390625 \r\nQ 39.453125 6.390625 43.28125 13.890625 \r\nQ 47.125 21.390625 47.125 36.375 \r\nQ 47.125 51.421875 43.28125 58.90625 \r\nQ 39.453125 66.40625 31.78125 66.40625 \r\nz\r\nM 31.78125 74.21875 \r\nQ 44.046875 74.21875 50.515625 64.515625 \r\nQ 56.984375 54.828125 56.984375 36.375 \r\nQ 56.984375 17.96875 50.515625 8.265625 \r\nQ 44.046875 -1.421875 31.78125 -1.421875 \r\nQ 19.53125 -1.421875 13.0625 8.265625 \r\nQ 6.59375 17.96875 6.59375 36.375 \r\nQ 6.59375 54.828125 13.0625 64.515625 \r\nQ 19.53125 74.21875 31.78125 74.21875 \r\nz\r\n\" id=\"DejaVuSans-48\"/>\r\n      </defs>\r\n      <g transform=\"translate(166.512807 239.238437)scale(0.1 -0.1)\">\r\n       <use xlink:href=\"#DejaVuSans-48\"/>\r\n      </g>\r\n     </g>\r\n    </g>\r\n    <g id=\"xtick_5\">\r\n     <g id=\"line2d_5\">\r\n      <g>\r\n       <use style=\"stroke:#000000;stroke-width:0.8;\" x=\"207.368172\" xlink:href=\"#m99492f6dbd\" y=\"224.64\"/>\r\n      </g>\r\n     </g>\r\n     <g id=\"text_5\">\r\n      <!-- 1 -->\r\n      <g transform=\"translate(204.186922 239.238437)scale(0.1 -0.1)\">\r\n       <use xlink:href=\"#DejaVuSans-49\"/>\r\n      </g>\r\n     </g>\r\n    </g>\r\n    <g id=\"xtick_6\">\r\n     <g id=\"line2d_6\">\r\n      <g>\r\n       <use style=\"stroke:#000000;stroke-width:0.8;\" x=\"245.042287\" xlink:href=\"#m99492f6dbd\" y=\"224.64\"/>\r\n      </g>\r\n     </g>\r\n     <g id=\"text_6\">\r\n      <!-- 2 -->\r\n      <g transform=\"translate(241.861037 239.238437)scale(0.1 -0.1)\">\r\n       <use xlink:href=\"#DejaVuSans-50\"/>\r\n      </g>\r\n     </g>\r\n    </g>\r\n    <g id=\"xtick_7\">\r\n     <g id=\"line2d_7\">\r\n      <g>\r\n       <use style=\"stroke:#000000;stroke-width:0.8;\" x=\"282.716401\" xlink:href=\"#m99492f6dbd\" y=\"224.64\"/>\r\n      </g>\r\n     </g>\r\n     <g id=\"text_7\">\r\n      <!-- 3 -->\r\n      <g transform=\"translate(279.535151 239.238437)scale(0.1 -0.1)\">\r\n       <use xlink:href=\"#DejaVuSans-51\"/>\r\n      </g>\r\n     </g>\r\n    </g>\r\n    <g id=\"xtick_8\">\r\n     <g id=\"line2d_8\">\r\n      <g>\r\n       <use style=\"stroke:#000000;stroke-width:0.8;\" x=\"320.390516\" xlink:href=\"#m99492f6dbd\" y=\"224.64\"/>\r\n      </g>\r\n     </g>\r\n     <g id=\"text_8\">\r\n      <!-- 4 -->\r\n      <defs>\r\n       <path d=\"M 37.796875 64.3125 \r\nL 12.890625 25.390625 \r\nL 37.796875 25.390625 \r\nz\r\nM 35.203125 72.90625 \r\nL 47.609375 72.90625 \r\nL 47.609375 25.390625 \r\nL 58.015625 25.390625 \r\nL 58.015625 17.1875 \r\nL 47.609375 17.1875 \r\nL 47.609375 0 \r\nL 37.796875 0 \r\nL 37.796875 17.1875 \r\nL 4.890625 17.1875 \r\nL 4.890625 26.703125 \r\nz\r\n\" id=\"DejaVuSans-52\"/>\r\n      </defs>\r\n      <g transform=\"translate(317.209266 239.238437)scale(0.1 -0.1)\">\r\n       <use xlink:href=\"#DejaVuSans-52\"/>\r\n      </g>\r\n     </g>\r\n    </g>\r\n    <g id=\"xtick_9\">\r\n     <g id=\"line2d_9\">\r\n      <g>\r\n       <use style=\"stroke:#000000;stroke-width:0.8;\" x=\"358.064631\" xlink:href=\"#m99492f6dbd\" y=\"224.64\"/>\r\n      </g>\r\n     </g>\r\n     <g id=\"text_9\">\r\n      <!-- 5 -->\r\n      <defs>\r\n       <path d=\"M 10.796875 72.90625 \r\nL 49.515625 72.90625 \r\nL 49.515625 64.59375 \r\nL 19.828125 64.59375 \r\nL 19.828125 46.734375 \r\nQ 21.96875 47.46875 24.109375 47.828125 \r\nQ 26.265625 48.1875 28.421875 48.1875 \r\nQ 40.625 48.1875 47.75 41.5 \r\nQ 54.890625 34.8125 54.890625 23.390625 \r\nQ 54.890625 11.625 47.5625 5.09375 \r\nQ 40.234375 -1.421875 26.90625 -1.421875 \r\nQ 22.3125 -1.421875 17.546875 -0.640625 \r\nQ 12.796875 0.140625 7.71875 1.703125 \r\nL 7.71875 11.625 \r\nQ 12.109375 9.234375 16.796875 8.0625 \r\nQ 21.484375 6.890625 26.703125 6.890625 \r\nQ 35.15625 6.890625 40.078125 11.328125 \r\nQ 45.015625 15.765625 45.015625 23.390625 \r\nQ 45.015625 31 40.078125 35.4375 \r\nQ 35.15625 39.890625 26.703125 39.890625 \r\nQ 22.75 39.890625 18.8125 39.015625 \r\nQ 14.890625 38.140625 10.796875 36.28125 \r\nz\r\n\" id=\"DejaVuSans-53\"/>\r\n      </defs>\r\n      <g transform=\"translate(354.883381 239.238437)scale(0.1 -0.1)\">\r\n       <use xlink:href=\"#DejaVuSans-53\"/>\r\n      </g>\r\n     </g>\r\n    </g>\r\n   </g>\r\n   <g id=\"matplotlib.axis_2\">\r\n    <g id=\"ytick_1\">\r\n     <g id=\"line2d_10\">\r\n      <defs>\r\n       <path d=\"M 0 0 \r\nL -3.5 0 \r\n\" id=\"md71509e55d\" style=\"stroke:#000000;stroke-width:0.8;\"/>\r\n      </defs>\r\n      <g>\r\n       <use style=\"stroke:#000000;stroke-width:0.8;\" x=\"38.482813\" xlink:href=\"#md71509e55d\" y=\"214.756364\"/>\r\n      </g>\r\n     </g>\r\n     <g id=\"text_10\">\r\n      <!-- −2.0 -->\r\n      <defs>\r\n       <path d=\"M 10.6875 12.40625 \r\nL 21 12.40625 \r\nL 21 0 \r\nL 10.6875 0 \r\nz\r\n\" id=\"DejaVuSans-46\"/>\r\n      </defs>\r\n      <g transform=\"translate(7.2 218.555582)scale(0.1 -0.1)\">\r\n       <use xlink:href=\"#DejaVuSans-8722\"/>\r\n       <use x=\"83.789062\" xlink:href=\"#DejaVuSans-50\"/>\r\n       <use x=\"147.412109\" xlink:href=\"#DejaVuSans-46\"/>\r\n       <use x=\"179.199219\" xlink:href=\"#DejaVuSans-48\"/>\r\n      </g>\r\n     </g>\r\n    </g>\r\n    <g id=\"ytick_2\">\r\n     <g id=\"line2d_11\">\r\n      <g>\r\n       <use style=\"stroke:#000000;stroke-width:0.8;\" x=\"38.482813\" xlink:href=\"#md71509e55d\" y=\"190.047273\"/>\r\n      </g>\r\n     </g>\r\n     <g id=\"text_11\">\r\n      <!-- −1.5 -->\r\n      <g transform=\"translate(7.2 193.846491)scale(0.1 -0.1)\">\r\n       <use xlink:href=\"#DejaVuSans-8722\"/>\r\n       <use x=\"83.789062\" xlink:href=\"#DejaVuSans-49\"/>\r\n       <use x=\"147.412109\" xlink:href=\"#DejaVuSans-46\"/>\r\n       <use x=\"179.199219\" xlink:href=\"#DejaVuSans-53\"/>\r\n      </g>\r\n     </g>\r\n    </g>\r\n    <g id=\"ytick_3\">\r\n     <g id=\"line2d_12\">\r\n      <g>\r\n       <use style=\"stroke:#000000;stroke-width:0.8;\" x=\"38.482813\" xlink:href=\"#md71509e55d\" y=\"165.338182\"/>\r\n      </g>\r\n     </g>\r\n     <g id=\"text_12\">\r\n      <!-- −1.0 -->\r\n      <g transform=\"translate(7.2 169.137401)scale(0.1 -0.1)\">\r\n       <use xlink:href=\"#DejaVuSans-8722\"/>\r\n       <use x=\"83.789062\" xlink:href=\"#DejaVuSans-49\"/>\r\n       <use x=\"147.412109\" xlink:href=\"#DejaVuSans-46\"/>\r\n       <use x=\"179.199219\" xlink:href=\"#DejaVuSans-48\"/>\r\n      </g>\r\n     </g>\r\n    </g>\r\n    <g id=\"ytick_4\">\r\n     <g id=\"line2d_13\">\r\n      <g>\r\n       <use style=\"stroke:#000000;stroke-width:0.8;\" x=\"38.482813\" xlink:href=\"#md71509e55d\" y=\"140.629091\"/>\r\n      </g>\r\n     </g>\r\n     <g id=\"text_13\">\r\n      <!-- −0.5 -->\r\n      <g transform=\"translate(7.2 144.42831)scale(0.1 -0.1)\">\r\n       <use xlink:href=\"#DejaVuSans-8722\"/>\r\n       <use x=\"83.789062\" xlink:href=\"#DejaVuSans-48\"/>\r\n       <use x=\"147.412109\" xlink:href=\"#DejaVuSans-46\"/>\r\n       <use x=\"179.199219\" xlink:href=\"#DejaVuSans-53\"/>\r\n      </g>\r\n     </g>\r\n    </g>\r\n    <g id=\"ytick_5\">\r\n     <g id=\"line2d_14\">\r\n      <g>\r\n       <use style=\"stroke:#000000;stroke-width:0.8;\" x=\"38.482813\" xlink:href=\"#md71509e55d\" y=\"115.92\"/>\r\n      </g>\r\n     </g>\r\n     <g id=\"text_14\">\r\n      <!-- 0.0 -->\r\n      <g transform=\"translate(15.579688 119.719219)scale(0.1 -0.1)\">\r\n       <use xlink:href=\"#DejaVuSans-48\"/>\r\n       <use x=\"63.623047\" xlink:href=\"#DejaVuSans-46\"/>\r\n       <use x=\"95.410156\" xlink:href=\"#DejaVuSans-48\"/>\r\n      </g>\r\n     </g>\r\n    </g>\r\n    <g id=\"ytick_6\">\r\n     <g id=\"line2d_15\">\r\n      <g>\r\n       <use style=\"stroke:#000000;stroke-width:0.8;\" x=\"38.482813\" xlink:href=\"#md71509e55d\" y=\"91.210909\"/>\r\n      </g>\r\n     </g>\r\n     <g id=\"text_15\">\r\n      <!-- 0.5 -->\r\n      <g transform=\"translate(15.579688 95.010128)scale(0.1 -0.1)\">\r\n       <use xlink:href=\"#DejaVuSans-48\"/>\r\n       <use x=\"63.623047\" xlink:href=\"#DejaVuSans-46\"/>\r\n       <use x=\"95.410156\" xlink:href=\"#DejaVuSans-53\"/>\r\n      </g>\r\n     </g>\r\n    </g>\r\n    <g id=\"ytick_7\">\r\n     <g id=\"line2d_16\">\r\n      <g>\r\n       <use style=\"stroke:#000000;stroke-width:0.8;\" x=\"38.482813\" xlink:href=\"#md71509e55d\" y=\"66.501818\"/>\r\n      </g>\r\n     </g>\r\n     <g id=\"text_16\">\r\n      <!-- 1.0 -->\r\n      <g transform=\"translate(15.579688 70.301037)scale(0.1 -0.1)\">\r\n       <use xlink:href=\"#DejaVuSans-49\"/>\r\n       <use x=\"63.623047\" xlink:href=\"#DejaVuSans-46\"/>\r\n       <use x=\"95.410156\" xlink:href=\"#DejaVuSans-48\"/>\r\n      </g>\r\n     </g>\r\n    </g>\r\n    <g id=\"ytick_8\">\r\n     <g id=\"line2d_17\">\r\n      <g>\r\n       <use style=\"stroke:#000000;stroke-width:0.8;\" x=\"38.482813\" xlink:href=\"#md71509e55d\" y=\"41.792727\"/>\r\n      </g>\r\n     </g>\r\n     <g id=\"text_17\">\r\n      <!-- 1.5 -->\r\n      <g transform=\"translate(15.579688 45.591946)scale(0.1 -0.1)\">\r\n       <use xlink:href=\"#DejaVuSans-49\"/>\r\n       <use x=\"63.623047\" xlink:href=\"#DejaVuSans-46\"/>\r\n       <use x=\"95.410156\" xlink:href=\"#DejaVuSans-53\"/>\r\n      </g>\r\n     </g>\r\n    </g>\r\n    <g id=\"ytick_9\">\r\n     <g id=\"line2d_18\">\r\n      <g>\r\n       <use style=\"stroke:#000000;stroke-width:0.8;\" x=\"38.482813\" xlink:href=\"#md71509e55d\" y=\"17.083636\"/>\r\n      </g>\r\n     </g>\r\n     <g id=\"text_18\">\r\n      <!-- 2.0 -->\r\n      <g transform=\"translate(15.579688 20.882855)scale(0.1 -0.1)\">\r\n       <use xlink:href=\"#DejaVuSans-50\"/>\r\n       <use x=\"63.623047\" xlink:href=\"#DejaVuSans-46\"/>\r\n       <use x=\"95.410156\" xlink:href=\"#DejaVuSans-48\"/>\r\n      </g>\r\n     </g>\r\n    </g>\r\n   </g>\r\n   <g id=\"line2d_19\">\r\n    <path clip-path=\"url(#pdf2a203f40)\" d=\"M 38.482813 115.92 \r\nL 373.282813 115.92 \r\n\" style=\"fill:none;stroke:#000000;stroke-linecap:square;stroke-width:1.5;\"/>\r\n   </g>\r\n   <g id=\"line2d_20\">\r\n    <path clip-path=\"url(#pdf2a203f40)\" d=\"M 169.694057 224.64 \r\nL 169.694057 7.2 \r\n\" style=\"fill:none;stroke:#000000;stroke-linecap:square;stroke-width:1.5;\"/>\r\n   </g>\r\n   <g id=\"line2d_21\">\r\n    <path clip-path=\"url(#pdf2a203f40)\" d=\"M 169.694057 115.92 \r\nL 132.019942 115.92 \r\nL 132.170639 109.672166 \r\nL 132.54738 104.246007 \r\nL 133.150166 98.865357 \r\nL 133.960159 93.635318 \r\nL 134.97736 88.501247 \r\nL 136.201769 83.451126 \r\nL 137.633386 78.485964 \r\nL 139.253372 73.664247 \r\nL 141.06173 68.975328 \r\nL 143.058458 64.417078 \r\nL 145.22472 60.028282 \r\nL 147.541678 55.835619 \r\nL 150.009332 51.828719 \r\nL 152.608846 48.029098 \r\nL 155.340219 44.428457 \r\nL 158.184615 41.044201 \r\nL 161.142033 37.869446 \r\nL 164.193636 34.918128 \r\nL 167.339425 32.18434 \r\nL 170.560562 29.678958 \r\nL 173.857047 27.396741 \r\nL 177.210043 25.345764 \r\nL 180.600713 23.530601 \r\nL 184.047895 21.936557 \r\nL 187.53275 20.569827 \r\nL 191.036443 19.433259 \r\nL 194.57781 18.518033 \r\nL 198.138014 17.828021 \r\nL 201.698218 17.363867 \r\nL 205.277258 17.121699 \r\nL 208.856299 17.102914 \r\nL 212.43534 17.307386 \r\nL 215.995544 17.733659 \r\nL 219.536911 18.38109 \r\nL 223.059441 19.250561 \r\nL 226.563133 20.34455 \r\nL 230.029152 21.659462 \r\nL 233.457496 23.197428 \r\nL 236.848167 24.962433 \r\nL 240.182326 26.948619 \r\nL 243.459974 29.159967 \r\nL 246.681111 31.602853 \r\nL 249.826899 34.269692 \r\nL 252.878502 37.148968 \r\nL 255.83592 40.245324 \r\nL 258.699153 43.566757 \r\nL 261.449364 47.100151 \r\nL 264.067714 50.827137 \r\nL 266.554206 54.753964 \r\nL 268.890001 58.857277 \r\nL 271.0751 63.143811 \r\nL 273.109502 67.627158 \r\nL 274.955534 72.231309 \r\nL 276.632032 77.010666 \r\nL 278.120159 81.92848 \r\nL 279.401079 86.924706 \r\nL 280.493629 92.090442 \r\nL 281.360133 97.251697 \r\nL 282.01943 102.507925 \r\nL 282.452682 107.657995 \r\nL 282.678727 112.79491 \r\nL 282.716401 115.92 \r\nL 358.064631 115.92 \r\nL 358.064631 115.92 \r\n\" style=\"fill:none;stroke:#1f77b4;stroke-linecap:square;stroke-width:1.5;\"/>\r\n   </g>\r\n   <g id=\"line2d_22\">\r\n    <path clip-path=\"url(#pdf2a203f40)\" d=\"M 56.671713 115.92 \r\nL 132.019942 115.92 \r\nL 132.170639 122.167834 \r\nL 132.54738 127.593993 \r\nL 133.150166 132.974643 \r\nL 133.960159 138.204682 \r\nL 134.97736 143.338753 \r\nL 136.201769 148.388874 \r\nL 137.633386 153.354036 \r\nL 139.253372 158.175753 \r\nL 141.06173 162.864672 \r\nL 143.058458 167.422922 \r\nL 145.22472 171.811718 \r\nL 147.541678 176.004381 \r\nL 150.009332 180.011281 \r\nL 152.608846 183.810902 \r\nL 155.340219 187.411543 \r\nL 158.184615 190.795799 \r\nL 161.142033 193.970554 \r\nL 164.193636 196.921872 \r\nL 167.339425 199.65566 \r\nL 170.560562 202.161042 \r\nL 173.857047 204.443259 \r\nL 177.210043 206.494236 \r\nL 180.600713 208.309399 \r\nL 184.047895 209.903443 \r\nL 187.53275 211.270173 \r\nL 191.036443 212.406741 \r\nL 194.57781 213.321967 \r\nL 198.138014 214.011979 \r\nL 201.698218 214.476133 \r\nL 205.277258 214.718301 \r\nL 208.856299 214.737086 \r\nL 212.43534 214.532614 \r\nL 215.995544 214.106341 \r\nL 219.536911 213.45891 \r\nL 223.059441 212.589439 \r\nL 226.563133 211.49545 \r\nL 230.029152 210.180538 \r\nL 233.457496 208.642572 \r\nL 236.848167 206.877567 \r\nL 240.182326 204.891381 \r\nL 243.459974 202.680033 \r\nL 246.681111 200.237147 \r\nL 249.826899 197.570308 \r\nL 252.878502 194.691032 \r\nL 255.83592 191.594676 \r\nL 258.699153 188.273243 \r\nL 261.449364 184.739849 \r\nL 264.067714 181.012863 \r\nL 266.554206 177.086036 \r\nL 268.890001 172.982723 \r\nL 271.0751 168.696189 \r\nL 273.109502 164.212842 \r\nL 274.955534 159.608691 \r\nL 276.632032 154.829334 \r\nL 278.120159 149.91152 \r\nL 279.401079 144.915294 \r\nL 280.493629 139.749558 \r\nL 281.360133 134.588303 \r\nL 282.01943 129.332075 \r\nL 282.452682 124.182005 \r\nL 282.678727 119.04509 \r\nL 282.716401 115.92 \r\nL 245.042287 115.92 \r\nL 245.042287 115.92 \r\n\" style=\"fill:none;stroke:#ff7f0e;stroke-linecap:square;stroke-width:1.5;\"/>\r\n   </g>\r\n   <g id=\"patch_3\">\r\n    <path d=\"M 38.482813 224.64 \r\nL 38.482813 7.2 \r\n\" style=\"fill:none;stroke:#000000;stroke-linecap:square;stroke-linejoin:miter;stroke-width:0.8;\"/>\r\n   </g>\r\n   <g id=\"patch_4\">\r\n    <path d=\"M 373.282813 224.64 \r\nL 373.282813 7.2 \r\n\" style=\"fill:none;stroke:#000000;stroke-linecap:square;stroke-linejoin:miter;stroke-width:0.8;\"/>\r\n   </g>\r\n   <g id=\"patch_5\">\r\n    <path d=\"M 38.482812 224.64 \r\nL 373.282812 224.64 \r\n\" style=\"fill:none;stroke:#000000;stroke-linecap:square;stroke-linejoin:miter;stroke-width:0.8;\"/>\r\n   </g>\r\n   <g id=\"patch_6\">\r\n    <path d=\"M 38.482812 7.2 \r\nL 373.282812 7.2 \r\n\" style=\"fill:none;stroke:#000000;stroke-linecap:square;stroke-linejoin:miter;stroke-width:0.8;\"/>\r\n   </g>\r\n   <g id=\"text_19\">\r\n    <!-- k=0.0 -->\r\n    <defs>\r\n     <path d=\"M 9.078125 75.984375 \r\nL 18.109375 75.984375 \r\nL 18.109375 31.109375 \r\nL 44.921875 54.6875 \r\nL 56.390625 54.6875 \r\nL 27.390625 29.109375 \r\nL 57.625 0 \r\nL 45.90625 0 \r\nL 18.109375 26.703125 \r\nL 18.109375 0 \r\nL 9.078125 0 \r\nz\r\n\" id=\"DejaVuSans-107\"/>\r\n     <path d=\"M 10.59375 45.40625 \r\nL 73.1875 45.40625 \r\nL 73.1875 37.203125 \r\nL 10.59375 37.203125 \r\nz\r\nM 10.59375 25.484375 \r\nL 73.1875 25.484375 \r\nL 73.1875 17.1875 \r\nL 10.59375 17.1875 \r\nz\r\n\" id=\"DejaVuSans-61\"/>\r\n    </defs>\r\n    <g transform=\"translate(171.577763 113.449091)scale(0.1 -0.1)\">\r\n     <use xlink:href=\"#DejaVuSans-107\"/>\r\n     <use x=\"57.910156\" xlink:href=\"#DejaVuSans-61\"/>\r\n     <use x=\"141.699219\" xlink:href=\"#DejaVuSans-48\"/>\r\n     <use x=\"205.322266\" xlink:href=\"#DejaVuSans-46\"/>\r\n     <use x=\"237.109375\" xlink:href=\"#DejaVuSans-48\"/>\r\n    </g>\r\n   </g>\r\n   <g id=\"text_20\">\r\n    <!-- k=1.0 -->\r\n    <g transform=\"translate(133.903648 113.449091)scale(0.1 -0.1)\">\r\n     <use xlink:href=\"#DejaVuSans-107\"/>\r\n     <use x=\"57.910156\" xlink:href=\"#DejaVuSans-61\"/>\r\n     <use x=\"141.699219\" xlink:href=\"#DejaVuSans-49\"/>\r\n     <use x=\"205.322266\" xlink:href=\"#DejaVuSans-46\"/>\r\n     <use x=\"237.109375\" xlink:href=\"#DejaVuSans-48\"/>\r\n    </g>\r\n   </g>\r\n   <g id=\"text_21\">\r\n    <!-- k=1.7 -->\r\n    <defs>\r\n     <path d=\"M 8.203125 72.90625 \r\nL 55.078125 72.90625 \r\nL 55.078125 68.703125 \r\nL 28.609375 0 \r\nL 18.3125 0 \r\nL 43.21875 64.59375 \r\nL 8.203125 64.59375 \r\nz\r\n\" id=\"DejaVuSans-55\"/>\r\n    </defs>\r\n    <g transform=\"translate(147.089588 57.593427)scale(0.1 -0.1)\">\r\n     <use xlink:href=\"#DejaVuSans-107\"/>\r\n     <use x=\"57.910156\" xlink:href=\"#DejaVuSans-61\"/>\r\n     <use x=\"141.699219\" xlink:href=\"#DejaVuSans-49\"/>\r\n     <use x=\"205.322266\" xlink:href=\"#DejaVuSans-46\"/>\r\n     <use x=\"237.109375\" xlink:href=\"#DejaVuSans-55\"/>\r\n    </g>\r\n   </g>\r\n  </g>\r\n </g>\r\n <defs>\r\n  <clipPath id=\"pdf2a203f40\">\r\n   <rect height=\"217.44\" width=\"334.8\" x=\"38.482813\" y=\"7.2\"/>\r\n  </clipPath>\r\n </defs>\r\n</svg>\r\n",
            "image/png": "[encoded data removed]"
          },
          "metadata": {
            "needs_background": "light"
          }
        }
      ],
      "source": [
        "# Solution to 1.d\n",
        "%matplotlib inline\n",
        "from matplotlib import pyplot as plt \n",
        "import numpy as np\n",
        "\n",
        "def eigvals(k):\n",
        "    y1 = ((k-3)+np.sqrt(k**2-10*k+9+0j))/2.0 # 0j added to np.sqrt(...) to signal that we want complex results\n",
        "    y2 = ((k-3)-np.sqrt(k**2-10*k+9+0j))/2.0\n",
        "    return np.array([y1, y2])\n",
        "\n",
        "k = np.linspace(0.,10.,10001)\n",
        "y = np.zeros((len(k),2),dtype=np.complex) # dtype=np.complex or else you will be sad\n",
        "for i in range(len(k)):\n",
        "    y[i,:] = eigvals(k[i])\n",
        "    pass\n",
        "\n",
        "plt.axhline(0, color='black')\n",
        "plt.axvline(0, color='black')\n",
        "plt.plot(y.real, y.imag)\n",
        "\n",
        "# add some markers for specific values of k\n",
        "idx = [0,1000,1700]\n",
        "txt = [\"k=0.0\",\"k=1.0\", \"k=1.7\"]\n",
        "plt.scatter(y[idx,:].real, y[idx,:].imag)\n",
        "for i in range(len(idx)):\n",
        "    plt.text(y[idx[i],:].real[0]+.05, y[idx[i],:].imag[0]+.05, txt[i])\n"
      ]
    },
    {
      "source": [
        "### * end of group work -- download as PDF and submit as part of group assignment *"
      ],
      "cell_type": "markdown",
      "metadata": {
        "id": "dWS1ev-pR1Tr"
      }
    },
    {
      "cell_type": "markdown",
      "metadata": {
        "id": "RCvD5cRoOvnT"
      },
      "source": [
        "# 0. [preferred name]; [preferred pronouns]\n",
        "\n",
        "a. Approximately how many hours did you spend on this assignment?\n",
        "\n",
        "b. Were there specific problems that took much longer than others?\n",
        "\n",
        "c. What class meeting(s) did you participate in this week?\n",
        "\n",
        "d. What timezone(s) were you working in this week?"
      ]
    },
    {
      "cell_type": "markdown",
      "metadata": {
        "id": "dHTvPaAzDT11"
      },
      "source": [
        "# 1. proportional-integral control\n",
        "\n",
        "This problem considers the following standard negative feedback block diagram.\n",
        "\n",
        "![negative feedback block diagram](http://faculty.washington.edu/sburden/447/447-hw1-feedback.png)\n",
        "\n",
        "***Purpose:*** you will analyze and synthesize a ***proportional-integral*** controller\n",
        "$$ C(s) = k_P + k_I/s \\iff u(t) = k_P e(t) + k_I \\int_0^t e(\\tau) d\\tau $$ \n",
        "for the purpose of ***reference tracking***.  Specifically, you'll apply this controller to a first-order process model $P(s) = b / (s + a)$ to obtain the closed-loop transfer function $G_{yr}$.\n",
        "\n",
        "**We seek to tune the controller parameters $k_P, k_I$ to obtain complex-conjugate roots $-\\sigma_d \\pm j \\omega_d$ for the closed-loop system, i.e. we want the characteristic polynomial of $G_{yr}$ to be\n",
        "$$(s + \\sigma_d + j \\omega_d) (s + \\sigma_d - j \\omega_d) = s^2 + 2\\sigma_d s + \\sigma_d^2 + \\omega_d^2.$$**\n",
        "\n",
        "a. By matching coefficients that multiply the same power of the variable $s$ in the actual and desired characteristic polynomials, express $k_P$ and $k_I$ in terms of $\\sigma_d,\\omega_d,a,b$.\n",
        "\n",
        "b. Validate your result from (a) using a numerical simulation of the closed-loop system with parameters $a = 1$, $b = 1$:  choose $\\sigma_d$, $\\omega_d$, determine the corresponding $k_P$, $k_I$, and plot the system's ***step response***, that is, the output corresponding to a reference $r(t)$ that is equal to zero for $t < 0$ and equal to $1$ for $t \\geq 0$.\n",
        "\n",
        "**According to the preceding analyses, the convergence rate can be made arbitrarily fast (i.e. $\\sigma_d$ can be made arbitrarily large) by making the controller parameters $k_P,k_I$ large. In practice, such *high-gain feedback* can excite *unmodeled dynamics* and lead to instability.**\n",
        "\n",
        "**To see how this can happen, suppose unmodeled dynamics in $P(s)$ (e.g. dynamics of sensors, actuators, vibratory modes, electromagnetic coupling, etc.) have time constant $T > 0$ (assume $-1/T \\ll -a$, so we were initially justified in neglecting these dynamics in our model because they are stable and converge much faster than the original modeled dynamics).  Including these dynamics yields the process model**\n",
        "\n",
        "$$ P(s) = \\frac{b}{(s + a)(1 + sT)}. $$\n",
        "\n",
        "c. Determine the characteristic polynomial of the closed-loop transfer function $G_{yr}$.\n",
        "\n",
        "d. Apply the *Routh-Hurwitz stability criterion* to determine algebraic conditions that must be satisfied by $a,b,k_P,k_I,T$ for the closed-loop system to be stable.\n",
        "\n",
        "**Conclude that $\\sigma_d$ is limited by $T$, i.e. the convergence rate of a PI controller applied to a first-order process is limited by the characteristic time constant of unmodeled dynamics.**\n",
        "\n",
        "e. Validate your result from (d) using a numerical simulation of the closed-loop system with $a = 1$, $b = 1$, $T = 0.1$:  choose $k_P$, $k_I$ such that the Routh-Hurwitz criteria are (i) satisfied (so the closed-loop system is stable) and (ii) violated (so the closed-loop system is unstable), and provide plots showing the step response in these two cases.\n"
      ]
    },
    {
      "cell_type": "markdown",
      "metadata": {
        "id": "L5Rv3bbkHE6N"
      },
      "source": [
        "# 2. spring-mass-damper a deux\n",
        "Consider the following spring-mass-damper system:\n",
        "![spring-mass](http://faculty.washington.edu/sburden/447/447-hw1-spring-mass.png)\n",
        "The input to this system is the sinusoidal motion of the end of the rightmost spring. \n",
        "Applying Newton's laws to determine the forces acting on both masses, we find two coupled second-order DE that model the system's dynamics:\n",
        "\n",
        "$$ m\\ddot{q}_1 = - c \\dot{q}_1 - k q_1 + k (q_2 - q_1), $$\n",
        "\n",
        "$$ m\\ddot{q}_2 = - c \\dot{q}_2 + k (u - q_2) - k (q_2 - q_1). $$\n",
        "\n",
        "## change-of-coordinates\n",
        "\n",
        "***Purpose:*** observe how a clever change-of-coordinates can simplify analysis of a complex system's dynamics.  ***Note:*** you ***do not*** need to solve the DEs in (a.--d.).\n",
        "\n",
        "a. Combine the two second-order DE above to obtain one fourth-order DE with $u$ as the input and $q_1$ as the output.  (***Note:*** this DE is hard to solve -- since the characteristic polynomial is fourth-order, you can't easily solve for the roots needed to obtain the ***homogeneous solution***.)\n",
        "\n",
        "b. Rewrite the original two second-order DE in terms of \n",
        "$p_1 = \\frac{1}{2}(q_1 + q_2)$ \n",
        "and \n",
        "$p_2 = \\frac{1}{2} (q_1 - q_2)$.  (***Note:*** you should now have two second-order DE that are decoupled, that is, they can be solved independently; two second-order DE are ***much*** easier to solve than the one fourth-order DE you obtained in (a.).)\n",
        "\n",
        "c. Translate the original two DE to matrix/vector form using state vector $x = (q_1,\\dot{q_1},q_2,\\dot{q_2})$ (i.e. determine matrices $A$, $B$ such that $\\dot{x} = A x + B u$).\n",
        "\n",
        "d. Translate the two DE from (b.) to matrix/vector form using state vector $z = (p_1,\\dot{p}_1,p_2,\\dot{p}_2)$.  Noting that the system's $``A\"$ matrix is block-diagonal, determine $A_1, A_2\\in\\mathbb{R}^{2\\times 2}$ and $B_1, B_2\\in\\mathbb{R}^{2\\times 1}$ such that\n",
        "$$ \\dot{z} = \\left[ \\begin{matrix} A_1 & 0 \\\\ 0 & A_2 \\end{matrix} \\right] z + \\left[ \\begin{matrix} B_1 \\\\ B_2 \\end{matrix} \\right] u.$$\n",
        "\n",
        "***Observe:***  in matrix/vector form, decoupling between subsystems manifests with block-diagonal structure in the $``A\"$ matrix.\n",
        "\n",
        "***Bonus (1 point for correctness):*** determine the matrix $T$ such that $z = T x$.\n",
        "\n",
        "## resonance\n",
        "\n",
        "***Purpose:*** use computational tools to investigate a complex system's steady-state behavior in the time- and frequency- domain.\n",
        "\n",
        "e. Setting $m = 250$, $k = 50$, $c = 10$, plot the motion of the first and second masses in response to an\n",
        "input motion $u = a \\sin(\\omega t)$ with $\\omega = 1$ rad/sec and $a = 1$ cm. \n",
        "How long does it take for the system to reach $2\\%$ of its steady-state oscillation amplitude starting from the origin? (***Hint:***  you may find the [numpy function np.diff(a)](https://numpy.org/doc/stable/reference/generated/numpy.diff.html) useful to find the peaks.)\n",
        "\n",
        "f. Plot the steady-state amplitude of the motion of the first mass as a function of the frequency of the input, $\\omega$.  (***Hint:***  you can either derive the transfer function from your answer to (a.) above, or you can run many (~100) simulations to create this plot; experiment with different ranges of $\\omega$ until you find a range that demonstrates two resonant frequencies (sharp peaks) in the plot.  You may find it helpful to use the `numerical_simulation` function defined and applied in the [lecture examples notebook](https://colab.research.google.com/github/sburden/447/blob/master/447_lec_examples.ipynb).)"
      ]
    },
    {
      "cell_type": "code",
      "metadata": {
        "collapsed": true,
        "id": "qiViKCkLR1Tt"
      },
      "source": [],
      "execution_count": null,
      "outputs": []
    }
  ]
}