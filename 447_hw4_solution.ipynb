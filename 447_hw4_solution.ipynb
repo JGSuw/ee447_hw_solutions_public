{
  "nbformat": 4,
  "nbformat_minor": 0,
  "metadata": {
    "colab": {
      "name": "447_hw4.ipynb",
      "provenance": [],
      "collapsed_sections": []
    },
    "kernelspec": {
      "name": "python37364bitbasecondad1dc895b06f340a1aa92612ef3391c05",
      "display_name": "Python 3.7.3 64-bit (conda)"
    },
    "language_info": {
      "codemirror_mode": {
        "name": "ipython",
        "version": 3
      },
      "file_extension": ".py",
      "mimetype": "text/x-python",
      "name": "python",
      "nbconvert_exporter": "python",
      "pygments_lexer": "ipython3",
      "version": "3.7.3"
    },
    "metadata": {
      "interpreter": {
        "hash": "6296c02155b2789c7f4828de522e4f04f921f55ab81aa51ee3b23f112e27a5e2"
      }
    }
  },
  "cells": [
    {
      "cell_type": "markdown",
      "metadata": {
        "id": "gqyprtgkiL91"
      },
      "source": [
        "# HW4 due 5p Fri April 30, 2021\n",
        "\n",
        "You are welcome (and encouraged) to work with others, but each individual must submit their own writeup.\n",
        "You can do the Group work portion in class with your classmates on Wednesdays to get full credit, but you can choose to do that portion individually and submit it along with your hw for a grade (i.e. you will not automatically get full credit). \n",
        "\n",
        "You are welcome to use analytical and numerical computational tools; if you do, include the **commented** sourcecode in your submission (e.g. the .ipynb file).\n",
        "\n",
        "You are welcome to consult websites, textbooks, and other materials; if you do, include a full citation in your writeup (e.g. the .ipynb file).\n",
        "\n",
        "**Important:** before you do any work in the Colaboratory notebook, click \"File -> Save a copy in Drive ...\" and rename the file to something memorable.\n",
        "\n",
        "**Also important:** To produce a .pdf for submission to Canvas, click \"File -> Print\" (or press Ctrl/Cmd + P), and choose \"Save to PDF\" or \"Microsoft Print to PDF\" as your printer.\n"
      ]
    },
    {
      "cell_type": "markdown",
      "metadata": {
        "id": "y3ojvAwcodpt"
      },
      "source": [
        "# Group work -- Wed April 28\n",
        "\n",
        "I encourage you to attend the group work session on Wednesdays to complete the group work portion of your homework -- you will get full credit as long as you participate and make an effort on the problem. This is also a great opportunity to get to know your classmates. Only one person needs to submit.\n",
        "\n",
        "Please note that only one person can edit the Colaboratory notebook at a time, I recommend creating a copy for yourself and copy pasting your solutions in the discord or Zoom chat if people want to work on different parts of the writeup."
      ]
    },
    {
      "cell_type": "markdown",
      "metadata": {
        "id": "tpW7DFtxodpu"
      },
      "source": [
        "## 0. Groupmates: [Names of everyone in your group]"
      ]
    },
    {
      "cell_type": "markdown",
      "metadata": {
        "id": "SvWiBHWPCsn1"
      },
      "source": [
        "## 1. [30 min] step response of a linear system\n",
        "\n",
        "Consider (a version of) the second-order (DE) we discussed last week \n",
        "$$(\\text{DE})\\text{    } \\ddot{q}+2\\zeta\\omega_0\\dot{q} + \\omega_0^2 q = u, \\text{    } y=q$$\n",
        "where $\\zeta$ is referred to as the dampening ratio for the system and $\\omega_0$ is referred to as the natural frequency of the system.\n",
        "\n",
        "Rewriting the (DE)s of interest in this canonical second order form as we did in hw3 can be helpful because depending on our choices of $\\zeta$, we can tune how our system responds to a step input (e.g., having the desired reference go from 0 mph to 60 mph). \n",
        "\n",
        "<img src=\"https://drive.google.com/uc?id=1IefNbB8AffW8dlDnlKlilejanzn5ZgQ8\" width=500px>\n",
        "\n",
        "a. (ungraded, don't have to do if submitting individually): Pick a system to discuss (like cruise control but pick something else). When an input is applied, what kind of response do you think would be ideal for your system, and why? \n",
        "\n",
        "b. Rewrite $(\\text{DE})$ as a function of states $x=\\left[\\begin{matrix} q \\\\ \\dot{q}\\end{matrix}\\right]$ and input $u$ such that $f(x,u)=\\dot{x}=Ax+Bu$. Additionally, find $C$ and $D$ matrices such that $h(x,u) = y = Cx+Du$\n",
        "\n",
        "---\n",
        "**SOLUTION**\n",
        "The derivative of $x$ is \n",
        "$$\\dot{x} = \\left[\\begin{array}{c} \\dot{q} \\\\ -2\\zeta\\omega_0 \\dot{q} - \\omega_0^2 q + u \\end{array}\\right]$$\n",
        "\n",
        "For this equation, we have\n",
        "\n",
        "\n",
        "$$ A = \n",
        "\\left[\n",
        "\\begin{array}{cc}\n",
        "0 & 1 \\\\ -\\omega_0^2 & -2\\zeta\\omega_0\n",
        "\\end{array}\n",
        "\\right],\n",
        "$$\n",
        "\n",
        "and\n",
        "\n",
        "$$\n",
        "B = \n",
        "\\left[\n",
        "  \\begin{array}{c}\n",
        "  0 \\\\ 1\n",
        "  \\end{array}\n",
        "  \\right]\n",
        "$$\n",
        "\n",
        "esponse to a unit step $u(t) = 1 \\text{ if } t\\geq0, u(t)=0 \\text{ if } t< 0$, i.e., find the steady state response to a unit step input. If you need, you can assume that $\\zeta = 1,\\omega_0=2$.\n",
        "\n",
        "---\n",
        "**SOLUTION**\n",
        "In the time domain, the solution $x(t)$ to $\\dot{x} = Ax + Bu$ for $u = u(t)$ is given by the following formula, which captures the homogeneous solution and the particular solution:\n",
        "\n",
        "$$ x(t) = x(0) e^{At} + \\int_{\\tau=0}^{\\infty}e^{A(t-\\tau)}B u(\\tau) d\\tau .$$\n",
        "\n",
        "In this problem $x(0) = 0$ so we only need to calculate the second term. Furthermore $u(\\tau) = 1$ for all $\\tau > 0$. Hence the unit step response is provided by\n",
        "\n",
        "$$y(t) = C \\int_{\\tau=0}^{t} e^{A(t-\\tau)}d\\tau B.$$\n",
        "\n",
        "Since $A$ is invertable, we have\n",
        "\n",
        "$$ \\int_{\\tau=0}^{t} e^{A(t-\\tau)}d\\tau = \n",
        "\\left[\n",
        "  -A^{-1}e^{A(t-\\tau)}\n",
        "  \\right]_{\\tau=0}^{\\tau=t}  = CA^{-1}e^{At}B - CA^{-1}B\n",
        "  $$\n",
        "\n",
        "since $A$ is stable (all eigenvalues have negative real part) then we know that $\\lim_{t\\to\\infty} e^{At} = 0$. Using this, we can determine the steady-state response\n",
        "\n",
        "$$ \\lim_{t\\to\\infty}y(t) = -CA^{-1}B $$\n",
        "\n",
        "---\n",
        "d. Determine the transfer function $G_{yu}$, where $y=q$.\n",
        "\n",
        "---\n",
        "**SOLUTION**\n",
        "\n",
        "The transfer function $G_{yu}$ is readily obtained from the original DE.\n",
        "\n",
        "$$ G_{yu}(s) = \\cfrac{1}{ s^2+2\\zeta\\omega_0 s + \\omega_0^2} $$\n",
        "\n",
        "---\n",
        "\n",
        "e. Use the transfer function you just found in c. to obtain the steady state response to a unit step input (*hint: you should get the same answer as you did in b. Use the final value theorem.*)\n",
        "\n",
        "--- \n",
        "**SOLUTION**\n",
        "The final value theorem states that the response $y$ to an input $u$ must satisfy\n",
        "\n",
        "$$ \\lim_{t->\\infty} y(t) = \\lim_{s\\to 0} sy(s)$$\n",
        "\n",
        "using the transfer function above, we can show that \n",
        "\n",
        "$$ \\lim_{s\\to 0} sy(s) = \\lim_{s\\to 0} s G_{yu}(s) u(s) =\n",
        "\\lim_{s\\to 0} \\cfrac{s}{s^2+2\\zeta\\omega_0 s + \\omega_0^2}\\cfrac{1}{s} = \\cfrac{1}{\\omega_0^2} $$\n",
        "\n",
        "---"
      ]
    },
    {
      "cell_type": "markdown",
      "metadata": {
        "id": "tXqs1FD2zsZ3"
      },
      "source": [
        "## 2. [60 min] linearization of nonlinear system\n",
        "\n",
        "A steel ball with mass $M$ is levitated under an electromagnet. The input $u$ to the system is the voltage applied to the electromagnet. The output $y$ is the position of the ball (illustrated as $x$ in the diagram, but denoted as $q$ in the equations below) and is measured with a photo-detector. The system is illustrated below.\n",
        "\n",
        "<img width=500px src=\"https://raw.githubusercontent.com/klavins/ECE447/master/images/levitation-up.png\">\n",
        "\n",
        "This system involves dynamic interaction between the ball's position $q$, velocity $\\dot{q}$, and the electromagnet current $i$:\n",
        "\n",
        "$$\n",
        "(\\text{NL})\\quad\n",
        "\\ddot q = \\frac{C}{M}\\left(\\frac{i}{q}\\right)^2 - g,\\ \n",
        "\\dot i = \\frac{1}{L} \\left ( -R i + 2 C \\frac{i \\dot{q}}{q^2} + u \\right )\n",
        "$$\n",
        "\n",
        "(For convenience, the positive direction for $q$ is down.)\n",
        "\n",
        "(a.) Determine the constant input voltage $u_e$ that makes $q_e = 0.05$ an equilibrium position.\n",
        "\n",
        "---\n",
        "**SOLUTION**\n",
        "From the first equation we have that \n",
        "\n",
        "$$ i_e = \\sqrt{\\cfrac{Mg}{C}}q_e, $$\n",
        "\n",
        "whereas from the second equation since $\\dot{q}_e = 0$ (this is necessary for an equilibrium) we have\n",
        "\n",
        "\n",
        "$$ u = Ri_e = R\\sqrt{\\cfrac{Mg}{C}}q_e = 0.05R\\sqrt{\\cfrac{Mg}{C}} $$\n",
        "\n",
        "---\n",
        "\n",
        "\n",
        "(b.) Linearize the nonlinear system $(\\text{NL})$ around the equilibrium from (a.) to obtain a linear system $(\\text{L})$\n",
        "\n",
        "$$ (\\text{L})\\quad \\delta \\dot{x} = A \\delta x + B \\delta u,\\ \\delta y = C \\delta x + D \\delta u. $$\n",
        "\n",
        "Use the following parameter values in the remainder of this problem:\n",
        "magnet constant $C = 10^{-4}$,\n",
        "gravitational acceleration $g = 9.81$,\n",
        "inductance $L = 1$,\n",
        "resistance $R = 30$,\n",
        "mass $M = 12\\times 10^{-3}$.\n",
        "\n",
        "---\n",
        "**SOLUTION**\n",
        "\n",
        "First we linearize the $\\ddot{q}$ equation,\n",
        "\n",
        "$$ \n",
        "\\delta \\ddot{q} = \n",
        "\\left( -2\\cfrac{Ci_e^2}{Mq_e^3} \\right)\\delta q + \\left( 2\\cfrac{Ci_e}{Mq_e^2} \\right)\\delta i.\n",
        "$$\n",
        "\n",
        "Next we linearize the $\\dot{i}$ equation,\n",
        "\n",
        "$$\n",
        "\\delta \\dot{i} = -\\cfrac{R}{L}\\delta i + 2\\cfrac{Ci_e}{Lq_e^2}\\delta \\dot{q} + \\delta u\n",
        "$$\n",
        "\n",
        "Notice that there is no $\\delta q$ term here: this is a consequence of the fact that $\\dot{q}_e = 0$. Finally we substitute all of the values into the expression above:\n",
        "\n",
        "$$ \\delta \\ddot{q} \\approx -392 \\delta q + 11.4 \\delta i $$\n",
        "\n",
        "$$ \\delta \\dot{i} \\approx  -30 \\delta i + 0.137 \\delta \\dot{q} + \\delta u.$$\n",
        "\n",
        "If $\\delta x = [\\delta q,\\, \\delta \\dot{q},\\, \\delta i]^\\top$\n",
        "\n",
        "$$ \n",
        "A \\approx \\left[ \\begin{array}{ccc}\n",
        "0 & 1 & 0 \\\\\n",
        "-392 & 0 & 11.4 \\\\\n",
        "0 & 0.137 & -30\n",
        "\\end{array}\\right]\n",
        "$$\n",
        "\n",
        "$$B = [0,\\,0,\\,1]^\\top$$\n",
        "\n",
        "and of course since $y=q$, then $\\delta y = \\delta q$ and so $C = [1,\\,0,\\,0]$ and $D = 0$.\n",
        "\n",
        "---\n",
        "\n",
        "(c.) Is the linear system $(\\text{L})$ from (b.) stable or unstable?\n",
        "---\n",
        "**SOLUTION**\n",
        "The eigenvalues of $A$ are approximately $\\lambda \\approx -30$ and $\\lambda \\approx 0.0181 \\pm 19.8j$. The system is unstable because the complex root pair have positive real part.\n",
        "\n",
        "---\n",
        "\n",
        "***Suppose proportional feedback $\\delta u = -k_P (q-q_e)$ is applied to the system.***\n",
        "\n",
        "(d.) Create a root locus plot for the closed-loop system as parameter $k_P$ varies. (*hint*: Remember that $q-q_e=\\delta q = \\delta x_1$, which is your first state for your linearized system. Assume $\\delta u=\\left[\\begin{matrix} -k_P(q-q_e) & 0 & 0 \\end{matrix}\\right]$, then plug $\\delta u$ into the equation you found in (b) and see if you can rewrite the equation $\\delta \\dot{x} = A \\delta x + B \\delta u$ as $\\delta \\dot{x}=\\tilde{A}\\delta x$, where $\\tilde{A}$ is a function of $k_P$).\n",
        "\n",
        "(e.) Can the system be stabilized by proportional feedback?\n",
        "\n",
        "---\n",
        "**SOLUTION**\n",
        "\n",
        "Yes, the system can be stabilized by a small amount of proportional feedback.\n",
        "\n",
        "---"
      ]
    },
    {
      "cell_type": "code",
      "metadata": {
        "id": "Sm4l5mrEUZsa",
        "tags": []
      },
      "source": [
        "# Solution to 1.d\n",
        "%matplotlib inline\n",
        "from matplotlib import pyplot as plt \n",
        "import numpy as np\n",
        "\n",
        "A = np.array([[0,1,0],[-392,0,11.4],[0,0.137,-30]])\n",
        "\n",
        "B = np.array([[0,0,1]]).T\n",
        "\n",
        "def eigvals(k):\n",
        "    A_cl = A-B*k\n",
        "    return np.linalg.eigvals(A_cl)\n",
        "\n",
        "k = np.linspace(-10,10,1001)\n",
        "y = np.zeros((len(k),3),dtype=np.complex) # dtype=np.complex or else you will be sad\n",
        "for i in range(len(k)):\n",
        "    y[i,:] = eigvals(k[i])\n",
        "    pass\n",
        "plt.axhline(0, color='black',alpha=.15)\n",
        "plt.axvline(0, color='black',alpha=.15)\n",
        "plt.plot(y[:,0].real, y[:,0].imag)\n",
        "plt.plot(y[:,1].real, y[:,1].imag)\n",
        "plt.plot(y[:,2].real, y[:,2].imag)\n",
        "plt.xlabel(\"Real part\")\n",
        "plt.ylabel(\"Imaginary part\")\n",
        "\n"
      ],
      "execution_count": 41,
      "outputs": [
        {
          "output_type": "execute_result",
          "data": {
            "text/plain": [
              "Text(0, 0.5, 'Imaginary part')"
            ]
          },
          "metadata": {},
          "execution_count": 41
        },
        {
          "output_type": "display_data",
          "data": {
            "text/plain": "<Figure size 432x288 with 1 Axes>",
            "image/svg+xml": "<?xml version=\"1.0\" encoding=\"utf-8\" standalone=\"no\"?>\r\n<!DOCTYPE svg PUBLIC \"-//W3C//DTD SVG 1.1//EN\"\r\n  \"http://www.w3.org/Graphics/SVG/1.1/DTD/svg11.dtd\">\r\n<!-- Created with matplotlib (https://matplotlib.org/) -->\r\n<svg height=\"262.19625pt\" version=\"1.1\" viewBox=\"0 0 390.982812 262.19625\" width=\"390.982812pt\" xmlns=\"http://www.w3.org/2000/svg\" xmlns:xlink=\"http://www.w3.org/1999/xlink\">\r\n <defs>\r\n  <style type=\"text/css\">\r\n*{stroke-linecap:butt;stroke-linejoin:round;white-space:pre;}\r\n  </style>\r\n </defs>\r\n <g id=\"figure_1\">\r\n  <g id=\"patch_1\">\r\n   <path d=\"M 0 262.19625 \r\nL 390.982812 262.19625 \r\nL 390.982812 0 \r\nL 0 0 \r\nz\r\n\" style=\"fill:none;\"/>\r\n  </g>\r\n  <g id=\"axes_1\">\r\n   <g id=\"patch_2\">\r\n    <path d=\"M 48.982813 224.64 \r\nL 383.782813 224.64 \r\nL 383.782813 7.2 \r\nL 48.982813 7.2 \r\nz\r\n\" style=\"fill:#ffffff;\"/>\r\n   </g>\r\n   <g id=\"matplotlib.axis_1\">\r\n    <g id=\"xtick_1\">\r\n     <g id=\"line2d_1\">\r\n      <defs>\r\n       <path d=\"M 0 0 \r\nL 0 3.5 \r\n\" id=\"m3094a3ed85\" style=\"stroke:#000000;stroke-width:0.8;\"/>\r\n      </defs>\r\n      <g>\r\n       <use style=\"stroke:#000000;stroke-width:0.8;\" x=\"85.416383\" xlink:href=\"#m3094a3ed85\" y=\"224.64\"/>\r\n      </g>\r\n     </g>\r\n     <g id=\"text_1\">\r\n      <!-- −35 -->\r\n      <defs>\r\n       <path d=\"M 10.59375 35.5 \r\nL 73.1875 35.5 \r\nL 73.1875 27.203125 \r\nL 10.59375 27.203125 \r\nz\r\n\" id=\"DejaVuSans-8722\"/>\r\n       <path d=\"M 40.578125 39.3125 \r\nQ 47.65625 37.796875 51.625 33 \r\nQ 55.609375 28.21875 55.609375 21.1875 \r\nQ 55.609375 10.40625 48.1875 4.484375 \r\nQ 40.765625 -1.421875 27.09375 -1.421875 \r\nQ 22.515625 -1.421875 17.65625 -0.515625 \r\nQ 12.796875 0.390625 7.625 2.203125 \r\nL 7.625 11.71875 \r\nQ 11.71875 9.328125 16.59375 8.109375 \r\nQ 21.484375 6.890625 26.8125 6.890625 \r\nQ 36.078125 6.890625 40.9375 10.546875 \r\nQ 45.796875 14.203125 45.796875 21.1875 \r\nQ 45.796875 27.640625 41.28125 31.265625 \r\nQ 36.765625 34.90625 28.71875 34.90625 \r\nL 20.21875 34.90625 \r\nL 20.21875 43.015625 \r\nL 29.109375 43.015625 \r\nQ 36.375 43.015625 40.234375 45.921875 \r\nQ 44.09375 48.828125 44.09375 54.296875 \r\nQ 44.09375 59.90625 40.109375 62.90625 \r\nQ 36.140625 65.921875 28.71875 65.921875 \r\nQ 24.65625 65.921875 20.015625 65.03125 \r\nQ 15.375 64.15625 9.8125 62.3125 \r\nL 9.8125 71.09375 \r\nQ 15.4375 72.65625 20.34375 73.4375 \r\nQ 25.25 74.21875 29.59375 74.21875 \r\nQ 40.828125 74.21875 47.359375 69.109375 \r\nQ 53.90625 64.015625 53.90625 55.328125 \r\nQ 53.90625 49.265625 50.4375 45.09375 \r\nQ 46.96875 40.921875 40.578125 39.3125 \r\nz\r\n\" id=\"DejaVuSans-51\"/>\r\n       <path d=\"M 10.796875 72.90625 \r\nL 49.515625 72.90625 \r\nL 49.515625 64.59375 \r\nL 19.828125 64.59375 \r\nL 19.828125 46.734375 \r\nQ 21.96875 47.46875 24.109375 47.828125 \r\nQ 26.265625 48.1875 28.421875 48.1875 \r\nQ 40.625 48.1875 47.75 41.5 \r\nQ 54.890625 34.8125 54.890625 23.390625 \r\nQ 54.890625 11.625 47.5625 5.09375 \r\nQ 40.234375 -1.421875 26.90625 -1.421875 \r\nQ 22.3125 -1.421875 17.546875 -0.640625 \r\nQ 12.796875 0.140625 7.71875 1.703125 \r\nL 7.71875 11.625 \r\nQ 12.109375 9.234375 16.796875 8.0625 \r\nQ 21.484375 6.890625 26.703125 6.890625 \r\nQ 35.15625 6.890625 40.078125 11.328125 \r\nQ 45.015625 15.765625 45.015625 23.390625 \r\nQ 45.015625 31 40.078125 35.4375 \r\nQ 35.15625 39.890625 26.703125 39.890625 \r\nQ 22.75 39.890625 18.8125 39.015625 \r\nQ 14.890625 38.140625 10.796875 36.28125 \r\nz\r\n\" id=\"DejaVuSans-53\"/>\r\n      </defs>\r\n      <g transform=\"translate(74.86404 239.238437)scale(0.1 -0.1)\">\r\n       <use xlink:href=\"#DejaVuSans-8722\"/>\r\n       <use x=\"83.789062\" xlink:href=\"#DejaVuSans-51\"/>\r\n       <use x=\"147.412109\" xlink:href=\"#DejaVuSans-53\"/>\r\n      </g>\r\n     </g>\r\n    </g>\r\n    <g id=\"xtick_2\">\r\n     <g id=\"line2d_2\">\r\n      <g>\r\n       <use style=\"stroke:#000000;stroke-width:0.8;\" x=\"124.329118\" xlink:href=\"#m3094a3ed85\" y=\"224.64\"/>\r\n      </g>\r\n     </g>\r\n     <g id=\"text_2\">\r\n      <!-- −30 -->\r\n      <defs>\r\n       <path d=\"M 31.78125 66.40625 \r\nQ 24.171875 66.40625 20.328125 58.90625 \r\nQ 16.5 51.421875 16.5 36.375 \r\nQ 16.5 21.390625 20.328125 13.890625 \r\nQ 24.171875 6.390625 31.78125 6.390625 \r\nQ 39.453125 6.390625 43.28125 13.890625 \r\nQ 47.125 21.390625 47.125 36.375 \r\nQ 47.125 51.421875 43.28125 58.90625 \r\nQ 39.453125 66.40625 31.78125 66.40625 \r\nz\r\nM 31.78125 74.21875 \r\nQ 44.046875 74.21875 50.515625 64.515625 \r\nQ 56.984375 54.828125 56.984375 36.375 \r\nQ 56.984375 17.96875 50.515625 8.265625 \r\nQ 44.046875 -1.421875 31.78125 -1.421875 \r\nQ 19.53125 -1.421875 13.0625 8.265625 \r\nQ 6.59375 17.96875 6.59375 36.375 \r\nQ 6.59375 54.828125 13.0625 64.515625 \r\nQ 19.53125 74.21875 31.78125 74.21875 \r\nz\r\n\" id=\"DejaVuSans-48\"/>\r\n      </defs>\r\n      <g transform=\"translate(113.776775 239.238437)scale(0.1 -0.1)\">\r\n       <use xlink:href=\"#DejaVuSans-8722\"/>\r\n       <use x=\"83.789062\" xlink:href=\"#DejaVuSans-51\"/>\r\n       <use x=\"147.412109\" xlink:href=\"#DejaVuSans-48\"/>\r\n      </g>\r\n     </g>\r\n    </g>\r\n    <g id=\"xtick_3\">\r\n     <g id=\"line2d_3\">\r\n      <g>\r\n       <use style=\"stroke:#000000;stroke-width:0.8;\" x=\"163.241853\" xlink:href=\"#m3094a3ed85\" y=\"224.64\"/>\r\n      </g>\r\n     </g>\r\n     <g id=\"text_3\">\r\n      <!-- −25 -->\r\n      <defs>\r\n       <path d=\"M 19.1875 8.296875 \r\nL 53.609375 8.296875 \r\nL 53.609375 0 \r\nL 7.328125 0 \r\nL 7.328125 8.296875 \r\nQ 12.9375 14.109375 22.625 23.890625 \r\nQ 32.328125 33.6875 34.8125 36.53125 \r\nQ 39.546875 41.84375 41.421875 45.53125 \r\nQ 43.3125 49.21875 43.3125 52.78125 \r\nQ 43.3125 58.59375 39.234375 62.25 \r\nQ 35.15625 65.921875 28.609375 65.921875 \r\nQ 23.96875 65.921875 18.8125 64.3125 \r\nQ 13.671875 62.703125 7.8125 59.421875 \r\nL 7.8125 69.390625 \r\nQ 13.765625 71.78125 18.9375 73 \r\nQ 24.125 74.21875 28.421875 74.21875 \r\nQ 39.75 74.21875 46.484375 68.546875 \r\nQ 53.21875 62.890625 53.21875 53.421875 \r\nQ 53.21875 48.921875 51.53125 44.890625 \r\nQ 49.859375 40.875 45.40625 35.40625 \r\nQ 44.1875 33.984375 37.640625 27.21875 \r\nQ 31.109375 20.453125 19.1875 8.296875 \r\nz\r\n\" id=\"DejaVuSans-50\"/>\r\n      </defs>\r\n      <g transform=\"translate(152.68951 239.238437)scale(0.1 -0.1)\">\r\n       <use xlink:href=\"#DejaVuSans-8722\"/>\r\n       <use x=\"83.789062\" xlink:href=\"#DejaVuSans-50\"/>\r\n       <use x=\"147.412109\" xlink:href=\"#DejaVuSans-53\"/>\r\n      </g>\r\n     </g>\r\n    </g>\r\n    <g id=\"xtick_4\">\r\n     <g id=\"line2d_4\">\r\n      <g>\r\n       <use style=\"stroke:#000000;stroke-width:0.8;\" x=\"202.154588\" xlink:href=\"#m3094a3ed85\" y=\"224.64\"/>\r\n      </g>\r\n     </g>\r\n     <g id=\"text_4\">\r\n      <!-- −20 -->\r\n      <g transform=\"translate(191.602245 239.238437)scale(0.1 -0.1)\">\r\n       <use xlink:href=\"#DejaVuSans-8722\"/>\r\n       <use x=\"83.789062\" xlink:href=\"#DejaVuSans-50\"/>\r\n       <use x=\"147.412109\" xlink:href=\"#DejaVuSans-48\"/>\r\n      </g>\r\n     </g>\r\n    </g>\r\n    <g id=\"xtick_5\">\r\n     <g id=\"line2d_5\">\r\n      <g>\r\n       <use style=\"stroke:#000000;stroke-width:0.8;\" x=\"241.067323\" xlink:href=\"#m3094a3ed85\" y=\"224.64\"/>\r\n      </g>\r\n     </g>\r\n     <g id=\"text_5\">\r\n      <!-- −15 -->\r\n      <defs>\r\n       <path d=\"M 12.40625 8.296875 \r\nL 28.515625 8.296875 \r\nL 28.515625 63.921875 \r\nL 10.984375 60.40625 \r\nL 10.984375 69.390625 \r\nL 28.421875 72.90625 \r\nL 38.28125 72.90625 \r\nL 38.28125 8.296875 \r\nL 54.390625 8.296875 \r\nL 54.390625 0 \r\nL 12.40625 0 \r\nz\r\n\" id=\"DejaVuSans-49\"/>\r\n      </defs>\r\n      <g transform=\"translate(230.51498 239.238437)scale(0.1 -0.1)\">\r\n       <use xlink:href=\"#DejaVuSans-8722\"/>\r\n       <use x=\"83.789062\" xlink:href=\"#DejaVuSans-49\"/>\r\n       <use x=\"147.412109\" xlink:href=\"#DejaVuSans-53\"/>\r\n      </g>\r\n     </g>\r\n    </g>\r\n    <g id=\"xtick_6\">\r\n     <g id=\"line2d_6\">\r\n      <g>\r\n       <use style=\"stroke:#000000;stroke-width:0.8;\" x=\"279.980058\" xlink:href=\"#m3094a3ed85\" y=\"224.64\"/>\r\n      </g>\r\n     </g>\r\n     <g id=\"text_6\">\r\n      <!-- −10 -->\r\n      <g transform=\"translate(269.427715 239.238437)scale(0.1 -0.1)\">\r\n       <use xlink:href=\"#DejaVuSans-8722\"/>\r\n       <use x=\"83.789062\" xlink:href=\"#DejaVuSans-49\"/>\r\n       <use x=\"147.412109\" xlink:href=\"#DejaVuSans-48\"/>\r\n      </g>\r\n     </g>\r\n    </g>\r\n    <g id=\"xtick_7\">\r\n     <g id=\"line2d_7\">\r\n      <g>\r\n       <use style=\"stroke:#000000;stroke-width:0.8;\" x=\"318.892794\" xlink:href=\"#m3094a3ed85\" y=\"224.64\"/>\r\n      </g>\r\n     </g>\r\n     <g id=\"text_7\">\r\n      <!-- −5 -->\r\n      <g transform=\"translate(311.5217 239.238437)scale(0.1 -0.1)\">\r\n       <use xlink:href=\"#DejaVuSans-8722\"/>\r\n       <use x=\"83.789062\" xlink:href=\"#DejaVuSans-53\"/>\r\n      </g>\r\n     </g>\r\n    </g>\r\n    <g id=\"xtick_8\">\r\n     <g id=\"line2d_8\">\r\n      <g>\r\n       <use style=\"stroke:#000000;stroke-width:0.8;\" x=\"357.805529\" xlink:href=\"#m3094a3ed85\" y=\"224.64\"/>\r\n      </g>\r\n     </g>\r\n     <g id=\"text_8\">\r\n      <!-- 0 -->\r\n      <g transform=\"translate(354.624279 239.238437)scale(0.1 -0.1)\">\r\n       <use xlink:href=\"#DejaVuSans-48\"/>\r\n      </g>\r\n     </g>\r\n    </g>\r\n    <g id=\"text_9\">\r\n     <!-- Real part -->\r\n     <defs>\r\n      <path d=\"M 44.390625 34.1875 \r\nQ 47.5625 33.109375 50.5625 29.59375 \r\nQ 53.5625 26.078125 56.59375 19.921875 \r\nL 66.609375 0 \r\nL 56 0 \r\nL 46.6875 18.703125 \r\nQ 43.0625 26.03125 39.671875 28.421875 \r\nQ 36.28125 30.8125 30.421875 30.8125 \r\nL 19.671875 30.8125 \r\nL 19.671875 0 \r\nL 9.8125 0 \r\nL 9.8125 72.90625 \r\nL 32.078125 72.90625 \r\nQ 44.578125 72.90625 50.734375 67.671875 \r\nQ 56.890625 62.453125 56.890625 51.90625 \r\nQ 56.890625 45.015625 53.6875 40.46875 \r\nQ 50.484375 35.9375 44.390625 34.1875 \r\nz\r\nM 19.671875 64.796875 \r\nL 19.671875 38.921875 \r\nL 32.078125 38.921875 \r\nQ 39.203125 38.921875 42.84375 42.21875 \r\nQ 46.484375 45.515625 46.484375 51.90625 \r\nQ 46.484375 58.296875 42.84375 61.546875 \r\nQ 39.203125 64.796875 32.078125 64.796875 \r\nz\r\n\" id=\"DejaVuSans-82\"/>\r\n      <path d=\"M 56.203125 29.59375 \r\nL 56.203125 25.203125 \r\nL 14.890625 25.203125 \r\nQ 15.484375 15.921875 20.484375 11.0625 \r\nQ 25.484375 6.203125 34.421875 6.203125 \r\nQ 39.59375 6.203125 44.453125 7.46875 \r\nQ 49.3125 8.734375 54.109375 11.28125 \r\nL 54.109375 2.78125 \r\nQ 49.265625 0.734375 44.1875 -0.34375 \r\nQ 39.109375 -1.421875 33.890625 -1.421875 \r\nQ 20.796875 -1.421875 13.15625 6.1875 \r\nQ 5.515625 13.8125 5.515625 26.8125 \r\nQ 5.515625 40.234375 12.765625 48.109375 \r\nQ 20.015625 56 32.328125 56 \r\nQ 43.359375 56 49.78125 48.890625 \r\nQ 56.203125 41.796875 56.203125 29.59375 \r\nz\r\nM 47.21875 32.234375 \r\nQ 47.125 39.59375 43.09375 43.984375 \r\nQ 39.0625 48.390625 32.421875 48.390625 \r\nQ 24.90625 48.390625 20.390625 44.140625 \r\nQ 15.875 39.890625 15.1875 32.171875 \r\nz\r\n\" id=\"DejaVuSans-101\"/>\r\n      <path d=\"M 34.28125 27.484375 \r\nQ 23.390625 27.484375 19.1875 25 \r\nQ 14.984375 22.515625 14.984375 16.5 \r\nQ 14.984375 11.71875 18.140625 8.90625 \r\nQ 21.296875 6.109375 26.703125 6.109375 \r\nQ 34.1875 6.109375 38.703125 11.40625 \r\nQ 43.21875 16.703125 43.21875 25.484375 \r\nL 43.21875 27.484375 \r\nz\r\nM 52.203125 31.203125 \r\nL 52.203125 0 \r\nL 43.21875 0 \r\nL 43.21875 8.296875 \r\nQ 40.140625 3.328125 35.546875 0.953125 \r\nQ 30.953125 -1.421875 24.3125 -1.421875 \r\nQ 15.921875 -1.421875 10.953125 3.296875 \r\nQ 6 8.015625 6 15.921875 \r\nQ 6 25.140625 12.171875 29.828125 \r\nQ 18.359375 34.515625 30.609375 34.515625 \r\nL 43.21875 34.515625 \r\nL 43.21875 35.40625 \r\nQ 43.21875 41.609375 39.140625 45 \r\nQ 35.0625 48.390625 27.6875 48.390625 \r\nQ 23 48.390625 18.546875 47.265625 \r\nQ 14.109375 46.140625 10.015625 43.890625 \r\nL 10.015625 52.203125 \r\nQ 14.9375 54.109375 19.578125 55.046875 \r\nQ 24.21875 56 28.609375 56 \r\nQ 40.484375 56 46.34375 49.84375 \r\nQ 52.203125 43.703125 52.203125 31.203125 \r\nz\r\n\" id=\"DejaVuSans-97\"/>\r\n      <path d=\"M 9.421875 75.984375 \r\nL 18.40625 75.984375 \r\nL 18.40625 0 \r\nL 9.421875 0 \r\nz\r\n\" id=\"DejaVuSans-108\"/>\r\n      <path id=\"DejaVuSans-32\"/>\r\n      <path d=\"M 18.109375 8.203125 \r\nL 18.109375 -20.796875 \r\nL 9.078125 -20.796875 \r\nL 9.078125 54.6875 \r\nL 18.109375 54.6875 \r\nL 18.109375 46.390625 \r\nQ 20.953125 51.265625 25.265625 53.625 \r\nQ 29.59375 56 35.59375 56 \r\nQ 45.5625 56 51.78125 48.09375 \r\nQ 58.015625 40.1875 58.015625 27.296875 \r\nQ 58.015625 14.40625 51.78125 6.484375 \r\nQ 45.5625 -1.421875 35.59375 -1.421875 \r\nQ 29.59375 -1.421875 25.265625 0.953125 \r\nQ 20.953125 3.328125 18.109375 8.203125 \r\nz\r\nM 48.6875 27.296875 \r\nQ 48.6875 37.203125 44.609375 42.84375 \r\nQ 40.53125 48.484375 33.40625 48.484375 \r\nQ 26.265625 48.484375 22.1875 42.84375 \r\nQ 18.109375 37.203125 18.109375 27.296875 \r\nQ 18.109375 17.390625 22.1875 11.75 \r\nQ 26.265625 6.109375 33.40625 6.109375 \r\nQ 40.53125 6.109375 44.609375 11.75 \r\nQ 48.6875 17.390625 48.6875 27.296875 \r\nz\r\n\" id=\"DejaVuSans-112\"/>\r\n      <path d=\"M 41.109375 46.296875 \r\nQ 39.59375 47.171875 37.8125 47.578125 \r\nQ 36.03125 48 33.890625 48 \r\nQ 26.265625 48 22.1875 43.046875 \r\nQ 18.109375 38.09375 18.109375 28.8125 \r\nL 18.109375 0 \r\nL 9.078125 0 \r\nL 9.078125 54.6875 \r\nL 18.109375 54.6875 \r\nL 18.109375 46.1875 \r\nQ 20.953125 51.171875 25.484375 53.578125 \r\nQ 30.03125 56 36.53125 56 \r\nQ 37.453125 56 38.578125 55.875 \r\nQ 39.703125 55.765625 41.0625 55.515625 \r\nz\r\n\" id=\"DejaVuSans-114\"/>\r\n      <path d=\"M 18.3125 70.21875 \r\nL 18.3125 54.6875 \r\nL 36.8125 54.6875 \r\nL 36.8125 47.703125 \r\nL 18.3125 47.703125 \r\nL 18.3125 18.015625 \r\nQ 18.3125 11.328125 20.140625 9.421875 \r\nQ 21.96875 7.515625 27.59375 7.515625 \r\nL 36.8125 7.515625 \r\nL 36.8125 0 \r\nL 27.59375 0 \r\nQ 17.1875 0 13.234375 3.875 \r\nQ 9.28125 7.765625 9.28125 18.015625 \r\nL 9.28125 47.703125 \r\nL 2.6875 47.703125 \r\nL 2.6875 54.6875 \r\nL 9.28125 54.6875 \r\nL 9.28125 70.21875 \r\nz\r\n\" id=\"DejaVuSans-116\"/>\r\n     </defs>\r\n     <g transform=\"translate(193.539062 252.916562)scale(0.1 -0.1)\">\r\n      <use xlink:href=\"#DejaVuSans-82\"/>\r\n      <use x=\"69.419922\" xlink:href=\"#DejaVuSans-101\"/>\r\n      <use x=\"130.943359\" xlink:href=\"#DejaVuSans-97\"/>\r\n      <use x=\"192.222656\" xlink:href=\"#DejaVuSans-108\"/>\r\n      <use x=\"220.005859\" xlink:href=\"#DejaVuSans-32\"/>\r\n      <use x=\"251.792969\" xlink:href=\"#DejaVuSans-112\"/>\r\n      <use x=\"315.269531\" xlink:href=\"#DejaVuSans-97\"/>\r\n      <use x=\"376.548828\" xlink:href=\"#DejaVuSans-114\"/>\r\n      <use x=\"417.662109\" xlink:href=\"#DejaVuSans-116\"/>\r\n     </g>\r\n    </g>\r\n   </g>\r\n   <g id=\"matplotlib.axis_2\">\r\n    <g id=\"ytick_1\">\r\n     <g id=\"line2d_9\">\r\n      <defs>\r\n       <path d=\"M 0 0 \r\nL -3.5 0 \r\n\" id=\"m2d0c1af8a8\" style=\"stroke:#000000;stroke-width:0.8;\"/>\r\n      </defs>\r\n      <g>\r\n       <use style=\"stroke:#000000;stroke-width:0.8;\" x=\"48.982813\" xlink:href=\"#m2d0c1af8a8\" y=\"212.679308\"/>\r\n      </g>\r\n     </g>\r\n     <g id=\"text_10\">\r\n      <!-- −20 -->\r\n      <g transform=\"translate(20.878125 216.478527)scale(0.1 -0.1)\">\r\n       <use xlink:href=\"#DejaVuSans-8722\"/>\r\n       <use x=\"83.789062\" xlink:href=\"#DejaVuSans-50\"/>\r\n       <use x=\"147.412109\" xlink:href=\"#DejaVuSans-48\"/>\r\n      </g>\r\n     </g>\r\n    </g>\r\n    <g id=\"ytick_2\">\r\n     <g id=\"line2d_10\">\r\n      <g>\r\n       <use style=\"stroke:#000000;stroke-width:0.8;\" x=\"48.982813\" xlink:href=\"#m2d0c1af8a8\" y=\"188.489481\"/>\r\n      </g>\r\n     </g>\r\n     <g id=\"text_11\">\r\n      <!-- −15 -->\r\n      <g transform=\"translate(20.878125 192.2887)scale(0.1 -0.1)\">\r\n       <use xlink:href=\"#DejaVuSans-8722\"/>\r\n       <use x=\"83.789062\" xlink:href=\"#DejaVuSans-49\"/>\r\n       <use x=\"147.412109\" xlink:href=\"#DejaVuSans-53\"/>\r\n      </g>\r\n     </g>\r\n    </g>\r\n    <g id=\"ytick_3\">\r\n     <g id=\"line2d_11\">\r\n      <g>\r\n       <use style=\"stroke:#000000;stroke-width:0.8;\" x=\"48.982813\" xlink:href=\"#m2d0c1af8a8\" y=\"164.299654\"/>\r\n      </g>\r\n     </g>\r\n     <g id=\"text_12\">\r\n      <!-- −10 -->\r\n      <g transform=\"translate(20.878125 168.098873)scale(0.1 -0.1)\">\r\n       <use xlink:href=\"#DejaVuSans-8722\"/>\r\n       <use x=\"83.789062\" xlink:href=\"#DejaVuSans-49\"/>\r\n       <use x=\"147.412109\" xlink:href=\"#DejaVuSans-48\"/>\r\n      </g>\r\n     </g>\r\n    </g>\r\n    <g id=\"ytick_4\">\r\n     <g id=\"line2d_12\">\r\n      <g>\r\n       <use style=\"stroke:#000000;stroke-width:0.8;\" x=\"48.982813\" xlink:href=\"#m2d0c1af8a8\" y=\"140.109827\"/>\r\n      </g>\r\n     </g>\r\n     <g id=\"text_13\">\r\n      <!-- −5 -->\r\n      <g transform=\"translate(27.240625 143.909046)scale(0.1 -0.1)\">\r\n       <use xlink:href=\"#DejaVuSans-8722\"/>\r\n       <use x=\"83.789062\" xlink:href=\"#DejaVuSans-53\"/>\r\n      </g>\r\n     </g>\r\n    </g>\r\n    <g id=\"ytick_5\">\r\n     <g id=\"line2d_13\">\r\n      <g>\r\n       <use style=\"stroke:#000000;stroke-width:0.8;\" x=\"48.982813\" xlink:href=\"#m2d0c1af8a8\" y=\"115.92\"/>\r\n      </g>\r\n     </g>\r\n     <g id=\"text_14\">\r\n      <!-- 0 -->\r\n      <g transform=\"translate(35.620312 119.719219)scale(0.1 -0.1)\">\r\n       <use xlink:href=\"#DejaVuSans-48\"/>\r\n      </g>\r\n     </g>\r\n    </g>\r\n    <g id=\"ytick_6\">\r\n     <g id=\"line2d_14\">\r\n      <g>\r\n       <use style=\"stroke:#000000;stroke-width:0.8;\" x=\"48.982813\" xlink:href=\"#m2d0c1af8a8\" y=\"91.730173\"/>\r\n      </g>\r\n     </g>\r\n     <g id=\"text_15\">\r\n      <!-- 5 -->\r\n      <g transform=\"translate(35.620312 95.529392)scale(0.1 -0.1)\">\r\n       <use xlink:href=\"#DejaVuSans-53\"/>\r\n      </g>\r\n     </g>\r\n    </g>\r\n    <g id=\"ytick_7\">\r\n     <g id=\"line2d_15\">\r\n      <g>\r\n       <use style=\"stroke:#000000;stroke-width:0.8;\" x=\"48.982813\" xlink:href=\"#m2d0c1af8a8\" y=\"67.540346\"/>\r\n      </g>\r\n     </g>\r\n     <g id=\"text_16\">\r\n      <!-- 10 -->\r\n      <g transform=\"translate(29.257812 71.339565)scale(0.1 -0.1)\">\r\n       <use xlink:href=\"#DejaVuSans-49\"/>\r\n       <use x=\"63.623047\" xlink:href=\"#DejaVuSans-48\"/>\r\n      </g>\r\n     </g>\r\n    </g>\r\n    <g id=\"ytick_8\">\r\n     <g id=\"line2d_16\">\r\n      <g>\r\n       <use style=\"stroke:#000000;stroke-width:0.8;\" x=\"48.982813\" xlink:href=\"#m2d0c1af8a8\" y=\"43.350519\"/>\r\n      </g>\r\n     </g>\r\n     <g id=\"text_17\">\r\n      <!-- 15 -->\r\n      <g transform=\"translate(29.257812 47.149738)scale(0.1 -0.1)\">\r\n       <use xlink:href=\"#DejaVuSans-49\"/>\r\n       <use x=\"63.623047\" xlink:href=\"#DejaVuSans-53\"/>\r\n      </g>\r\n     </g>\r\n    </g>\r\n    <g id=\"ytick_9\">\r\n     <g id=\"line2d_17\">\r\n      <g>\r\n       <use style=\"stroke:#000000;stroke-width:0.8;\" x=\"48.982813\" xlink:href=\"#m2d0c1af8a8\" y=\"19.160692\"/>\r\n      </g>\r\n     </g>\r\n     <g id=\"text_18\">\r\n      <!-- 20 -->\r\n      <g transform=\"translate(29.257812 22.959911)scale(0.1 -0.1)\">\r\n       <use xlink:href=\"#DejaVuSans-50\"/>\r\n       <use x=\"63.623047\" xlink:href=\"#DejaVuSans-48\"/>\r\n      </g>\r\n     </g>\r\n    </g>\r\n    <g id=\"text_19\">\r\n     <!-- Imaginary part -->\r\n     <defs>\r\n      <path d=\"M 9.8125 72.90625 \r\nL 19.671875 72.90625 \r\nL 19.671875 0 \r\nL 9.8125 0 \r\nz\r\n\" id=\"DejaVuSans-73\"/>\r\n      <path d=\"M 52 44.1875 \r\nQ 55.375 50.25 60.0625 53.125 \r\nQ 64.75 56 71.09375 56 \r\nQ 79.640625 56 84.28125 50.015625 \r\nQ 88.921875 44.046875 88.921875 33.015625 \r\nL 88.921875 0 \r\nL 79.890625 0 \r\nL 79.890625 32.71875 \r\nQ 79.890625 40.578125 77.09375 44.375 \r\nQ 74.3125 48.1875 68.609375 48.1875 \r\nQ 61.625 48.1875 57.5625 43.546875 \r\nQ 53.515625 38.921875 53.515625 30.90625 \r\nL 53.515625 0 \r\nL 44.484375 0 \r\nL 44.484375 32.71875 \r\nQ 44.484375 40.625 41.703125 44.40625 \r\nQ 38.921875 48.1875 33.109375 48.1875 \r\nQ 26.21875 48.1875 22.15625 43.53125 \r\nQ 18.109375 38.875 18.109375 30.90625 \r\nL 18.109375 0 \r\nL 9.078125 0 \r\nL 9.078125 54.6875 \r\nL 18.109375 54.6875 \r\nL 18.109375 46.1875 \r\nQ 21.1875 51.21875 25.484375 53.609375 \r\nQ 29.78125 56 35.6875 56 \r\nQ 41.65625 56 45.828125 52.96875 \r\nQ 50 49.953125 52 44.1875 \r\nz\r\n\" id=\"DejaVuSans-109\"/>\r\n      <path d=\"M 45.40625 27.984375 \r\nQ 45.40625 37.75 41.375 43.109375 \r\nQ 37.359375 48.484375 30.078125 48.484375 \r\nQ 22.859375 48.484375 18.828125 43.109375 \r\nQ 14.796875 37.75 14.796875 27.984375 \r\nQ 14.796875 18.265625 18.828125 12.890625 \r\nQ 22.859375 7.515625 30.078125 7.515625 \r\nQ 37.359375 7.515625 41.375 12.890625 \r\nQ 45.40625 18.265625 45.40625 27.984375 \r\nz\r\nM 54.390625 6.78125 \r\nQ 54.390625 -7.171875 48.1875 -13.984375 \r\nQ 42 -20.796875 29.203125 -20.796875 \r\nQ 24.46875 -20.796875 20.265625 -20.09375 \r\nQ 16.0625 -19.390625 12.109375 -17.921875 \r\nL 12.109375 -9.1875 \r\nQ 16.0625 -11.328125 19.921875 -12.34375 \r\nQ 23.78125 -13.375 27.78125 -13.375 \r\nQ 36.625 -13.375 41.015625 -8.765625 \r\nQ 45.40625 -4.15625 45.40625 5.171875 \r\nL 45.40625 9.625 \r\nQ 42.625 4.78125 38.28125 2.390625 \r\nQ 33.9375 0 27.875 0 \r\nQ 17.828125 0 11.671875 7.65625 \r\nQ 5.515625 15.328125 5.515625 27.984375 \r\nQ 5.515625 40.671875 11.671875 48.328125 \r\nQ 17.828125 56 27.875 56 \r\nQ 33.9375 56 38.28125 53.609375 \r\nQ 42.625 51.21875 45.40625 46.390625 \r\nL 45.40625 54.6875 \r\nL 54.390625 54.6875 \r\nz\r\n\" id=\"DejaVuSans-103\"/>\r\n      <path d=\"M 9.421875 54.6875 \r\nL 18.40625 54.6875 \r\nL 18.40625 0 \r\nL 9.421875 0 \r\nz\r\nM 9.421875 75.984375 \r\nL 18.40625 75.984375 \r\nL 18.40625 64.59375 \r\nL 9.421875 64.59375 \r\nz\r\n\" id=\"DejaVuSans-105\"/>\r\n      <path d=\"M 54.890625 33.015625 \r\nL 54.890625 0 \r\nL 45.90625 0 \r\nL 45.90625 32.71875 \r\nQ 45.90625 40.484375 42.875 44.328125 \r\nQ 39.84375 48.1875 33.796875 48.1875 \r\nQ 26.515625 48.1875 22.3125 43.546875 \r\nQ 18.109375 38.921875 18.109375 30.90625 \r\nL 18.109375 0 \r\nL 9.078125 0 \r\nL 9.078125 54.6875 \r\nL 18.109375 54.6875 \r\nL 18.109375 46.1875 \r\nQ 21.34375 51.125 25.703125 53.5625 \r\nQ 30.078125 56 35.796875 56 \r\nQ 45.21875 56 50.046875 50.171875 \r\nQ 54.890625 44.34375 54.890625 33.015625 \r\nz\r\n\" id=\"DejaVuSans-110\"/>\r\n      <path d=\"M 32.171875 -5.078125 \r\nQ 28.375 -14.84375 24.75 -17.8125 \r\nQ 21.140625 -20.796875 15.09375 -20.796875 \r\nL 7.90625 -20.796875 \r\nL 7.90625 -13.28125 \r\nL 13.1875 -13.28125 \r\nQ 16.890625 -13.28125 18.9375 -11.515625 \r\nQ 21 -9.765625 23.484375 -3.21875 \r\nL 25.09375 0.875 \r\nL 2.984375 54.6875 \r\nL 12.5 54.6875 \r\nL 29.59375 11.921875 \r\nL 46.6875 54.6875 \r\nL 56.203125 54.6875 \r\nz\r\n\" id=\"DejaVuSans-121\"/>\r\n     </defs>\r\n     <g transform=\"translate(14.798437 152.983281)rotate(-90)scale(0.1 -0.1)\">\r\n      <use xlink:href=\"#DejaVuSans-73\"/>\r\n      <use x=\"29.492188\" xlink:href=\"#DejaVuSans-109\"/>\r\n      <use x=\"126.904297\" xlink:href=\"#DejaVuSans-97\"/>\r\n      <use x=\"188.183594\" xlink:href=\"#DejaVuSans-103\"/>\r\n      <use x=\"251.660156\" xlink:href=\"#DejaVuSans-105\"/>\r\n      <use x=\"279.443359\" xlink:href=\"#DejaVuSans-110\"/>\r\n      <use x=\"342.822266\" xlink:href=\"#DejaVuSans-97\"/>\r\n      <use x=\"404.101562\" xlink:href=\"#DejaVuSans-114\"/>\r\n      <use x=\"445.214844\" xlink:href=\"#DejaVuSans-121\"/>\r\n      <use x=\"504.394531\" xlink:href=\"#DejaVuSans-32\"/>\r\n      <use x=\"536.181641\" xlink:href=\"#DejaVuSans-112\"/>\r\n      <use x=\"599.658203\" xlink:href=\"#DejaVuSans-97\"/>\r\n      <use x=\"660.9375\" xlink:href=\"#DejaVuSans-114\"/>\r\n      <use x=\"702.050781\" xlink:href=\"#DejaVuSans-116\"/>\r\n     </g>\r\n    </g>\r\n   </g>\r\n   <g id=\"line2d_18\">\r\n    <path clip-path=\"url(#pdd6964303b)\" d=\"M 48.982813 115.92 \r\nL 383.782813 115.92 \r\n\" style=\"fill:none;stroke:#000000;stroke-linecap:square;stroke-opacity:0.15;stroke-width:1.5;\"/>\r\n   </g>\r\n   <g id=\"line2d_19\">\r\n    <path clip-path=\"url(#pdd6964303b)\" d=\"M 357.805529 224.64 \r\nL 357.805529 7.2 \r\n\" style=\"fill:none;stroke:#000000;stroke-linecap:square;stroke-opacity:0.15;stroke-width:1.5;\"/>\r\n   </g>\r\n   <g id=\"line2d_20\">\r\n    <path clip-path=\"url(#pdd6964303b)\" d=\"M 368.564631 27.044791 \r\nL 366.290048 25.169911 \r\nL 363.815049 23.420993 \r\nL 361.158071 21.816878 \r\nL 358.326576 20.367329 \r\nL 355.322697 19.080987 \r\nL 352.18642 17.981256 \r\nL 348.956856 17.083636 \r\nL 348.956856 17.083636 \r\n\" style=\"fill:none;stroke:#1f77b4;stroke-linecap:square;stroke-width:1.5;\"/>\r\n   </g>\r\n   <g id=\"line2d_21\">\r\n    <path clip-path=\"url(#pdd6964303b)\" d=\"M 368.564631 204.795209 \r\nL 366.290048 206.670089 \r\nL 363.815049 208.419007 \r\nL 361.158071 210.023122 \r\nL 358.326576 211.472671 \r\nL 355.322697 212.759013 \r\nL 352.18642 213.858744 \r\nL 348.956856 214.756364 \r\nL 348.956856 214.756364 \r\n\" style=\"fill:none;stroke:#ff7f0e;stroke-linecap:square;stroke-width:1.5;\"/>\r\n   </g>\r\n   <g id=\"line2d_22\">\r\n    <path clip-path=\"url(#pdd6964303b)\" d=\"M 180.636384 115.92 \r\nL 64.200994 115.92 \r\nL 64.200994 115.92 \r\n\" style=\"fill:none;stroke:#2ca02c;stroke-linecap:square;stroke-width:1.5;\"/>\r\n   </g>\r\n   <g id=\"patch_3\">\r\n    <path d=\"M 48.982813 224.64 \r\nL 48.982813 7.2 \r\n\" style=\"fill:none;stroke:#000000;stroke-linecap:square;stroke-linejoin:miter;stroke-width:0.8;\"/>\r\n   </g>\r\n   <g id=\"patch_4\">\r\n    <path d=\"M 383.782813 224.64 \r\nL 383.782813 7.2 \r\n\" style=\"fill:none;stroke:#000000;stroke-linecap:square;stroke-linejoin:miter;stroke-width:0.8;\"/>\r\n   </g>\r\n   <g id=\"patch_5\">\r\n    <path d=\"M 48.982813 224.64 \r\nL 383.782813 224.64 \r\n\" style=\"fill:none;stroke:#000000;stroke-linecap:square;stroke-linejoin:miter;stroke-width:0.8;\"/>\r\n   </g>\r\n   <g id=\"patch_6\">\r\n    <path d=\"M 48.982813 7.2 \r\nL 383.782813 7.2 \r\n\" style=\"fill:none;stroke:#000000;stroke-linecap:square;stroke-linejoin:miter;stroke-width:0.8;\"/>\r\n   </g>\r\n  </g>\r\n </g>\r\n <defs>\r\n  <clipPath id=\"pdd6964303b\">\r\n   <rect height=\"217.44\" width=\"334.8\" x=\"48.982813\" y=\"7.2\"/>\r\n  </clipPath>\r\n </defs>\r\n</svg>\r\n",
            "image/png": "[encoded data removed]"
          },
          "metadata": {
            "needs_background": "light"
          }
        }
      ]
    },
    {
      "cell_type": "code",
      "execution_count": 36,
      "metadata": {},
      "outputs": [
        {
          "output_type": "execute_result",
          "data": {
            "text/plain": [
              "array([-100.  ,  -99.89,  -99.78, ...,    9.78,    9.89,   10.  ])"
            ]
          },
          "metadata": {},
          "execution_count": 36
        }
      ],
      "source": [
        "k"
      ]
    },
    {
      "cell_type": "code",
      "execution_count": null,
      "metadata": {},
      "outputs": [],
      "source": []
    }
  ]
}