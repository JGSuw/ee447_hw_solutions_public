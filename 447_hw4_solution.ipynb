{
  "nbformat": 4,
  "nbformat_minor": 0,
  "metadata": {
    "colab": {
      "name": "447_hw4_solution.ipynb",
      "provenance": [],
      "collapsed_sections": []
    },
    "kernelspec": {
      "name": "python37364bitbasecondad1dc895b06f340a1aa92612ef3391c05",
      "display_name": "Python 3.7.3 64-bit (conda)"
    },
    "language_info": {
      "codemirror_mode": {
        "name": "ipython",
        "version": 3
      },
      "file_extension": ".py",
      "mimetype": "text/x-python",
      "name": "python",
      "nbconvert_exporter": "python",
      "pygments_lexer": "ipython3",
      "version": "3.7.3"
    },
    "metadata": {
      "interpreter": {
        "hash": "6296c02155b2789c7f4828de522e4f04f921f55ab81aa51ee3b23f112e27a5e2"
      }
    }
  },
  "cells": [
    {
      "cell_type": "markdown",
      "metadata": {
        "id": "gqyprtgkiL91"
      },
      "source": [
        "# HW4 due 5p Fri April 30, 2021\n",
        "\n",
        "You are welcome (and encouraged) to work with others, but each individual must submit their own writeup.\n",
        "You can do the Group work portion in class with your classmates on Wednesdays to get full credit, but you can choose to do that portion individually and submit it along with your hw for a grade (i.e. you will not automatically get full credit). \n",
        "\n",
        "You are welcome to use analytical and numerical computational tools; if you do, include the **commented** sourcecode in your submission (e.g. the .ipynb file).\n",
        "\n",
        "You are welcome to consult websites, textbooks, and other materials; if you do, include a full citation in your writeup (e.g. the .ipynb file).\n",
        "\n",
        "**Important:** before you do any work in the Colaboratory notebook, click \"File -> Save a copy in Drive ...\" and rename the file to something memorable.\n",
        "\n",
        "**Also important:** To produce a .pdf for submission to Canvas, click \"File -> Print\" (or press Ctrl/Cmd + P), and choose \"Save to PDF\" or \"Microsoft Print to PDF\" as your printer.\n"
      ]
    },
    {
      "cell_type": "markdown",
      "metadata": {
        "id": "y3ojvAwcodpt"
      },
      "source": [
        "# Group work -- Wed April 28\n",
        "\n",
        "I encourage you to attend the group work session on Wednesdays to complete the group work portion of your homework -- you will get full credit as long as you participate and make an effort on the problem. This is also a great opportunity to get to know your classmates. Only one person needs to submit.\n",
        "\n",
        "Please note that only one person can edit the Colaboratory notebook at a time, I recommend creating a copy for yourself and copy pasting your solutions in the discord or Zoom chat if people want to work on different parts of the writeup."
      ]
    },
    {
      "cell_type": "markdown",
      "metadata": {
        "id": "tpW7DFtxodpu"
      },
      "source": [
        "## 0. Groupmates: [Names of everyone in your group]"
      ]
    },
    {
      "cell_type": "markdown",
      "metadata": {
        "id": "SvWiBHWPCsn1"
      },
      "source": [
        "## 1. [30 min] step response of a linear system\n",
        "\n",
        "Consider (a version of) the second-order (DE) we discussed last week \n",
        "$$(\\text{DE})\\text{    } \\ddot{q}+2\\zeta\\omega_0\\dot{q} + \\omega_0^2 q = u, \\text{    } y=q$$\n",
        "where $\\zeta$ is referred to as the dampening ratio for the system and $\\omega_0$ is referred to as the natural frequency of the system.\n",
        "\n",
        "Rewriting the (DE)s of interest in this canonical second order form as we did in hw3 can be helpful because depending on our choices of $\\zeta$, we can tune how our system responds to a step input (e.g., having the desired reference go from 0 mph to 60 mph). \n",
        "\n",
        "<img src=\"https://drive.google.com/uc?id=1IefNbB8AffW8dlDnlKlilejanzn5ZgQ8\" width=500px>\n",
        "\n",
        "a. (ungraded, don't have to do if submitting individually): Pick a system to discuss (like cruise control but pick something else). When an input is applied, what kind of response do you think would be ideal for your system, and why? \n",
        "\n",
        "b. Rewrite $(\\text{DE})$ as a function of states $x=\\left[\\begin{matrix} q \\\\ \\dot{q}\\end{matrix}\\right]$ and input $u$ such that $f(x,u)=\\dot{x}=Ax+Bu$. Additionally, find $C$ and $D$ matrices such that $h(x,u) = y = Cx+Du$\n",
        "\n",
        "---\n",
        "**SOLUTION**\n",
        "The derivative of $x$ is \n",
        "$$\\dot{x} = \\left[\\begin{array}{c} \\dot{q} \\\\ -2\\zeta\\omega_0 \\dot{q} - \\omega_0^2 q + u \\end{array}\\right]$$\n",
        "\n",
        "For this equation, we have\n",
        "\n",
        "\n",
        "$$ A = \n",
        "\\left[\n",
        "\\begin{array}{cc}\n",
        "0 & 1 \\\\ -\\omega_0^2 & -2\\zeta\\omega_0\n",
        "\\end{array}\n",
        "\\right],\n",
        "$$\n",
        "\n",
        "and\n",
        "\n",
        "$$\n",
        "B = \n",
        "\\left[\n",
        "  \\begin{array}{c}\n",
        "  0 \\\\ 1\n",
        "  \\end{array}\n",
        "  \\right]\n",
        "$$\n",
        "\n",
        "esponse to a unit step $u(t) = 1 \\text{ if } t\\geq0, u(t)=0 \\text{ if } t< 0$, i.e., find the steady state response to a unit step input. If you need, you can assume that $\\zeta = 1,\\omega_0=2$.\n",
        "\n",
        "---\n",
        "**SOLUTION**\n",
        "In the time domain, the solution $x(t)$ to $\\dot{x} = Ax + Bu$ for $u = u(t)$ is given by the following formula, which captures the homogeneous solution and the particular solution:\n",
        "\n",
        "$$ x(t) = x(0) e^{At} + \\int_{\\tau=0}^{\\infty}e^{A(t-\\tau)}B u(\\tau) d\\tau .$$\n",
        "\n",
        "In this problem $x(0) = 0$ so we only need to calculate the second term. Furthermore $u(\\tau) = 1$ for all $\\tau > 0$. Hence the unit step response is provided by\n",
        "\n",
        "$$y(t) = C \\int_{\\tau=0}^{t} e^{A(t-\\tau)}d\\tau B.$$\n",
        "\n",
        "Since $A$ is invertable, we have\n",
        "\n",
        "$$ \\int_{\\tau=0}^{t} e^{A(t-\\tau)}d\\tau = \n",
        "\\left[\n",
        "  -A^{-1}e^{A(t-\\tau)}\n",
        "  \\right]_{\\tau=0}^{\\tau=t}  = CA^{-1}e^{At}B - CA^{-1}B\n",
        "  $$\n",
        "\n",
        "since $A$ is stable (all eigenvalues have negative real part) then we know that $\\lim_{t\\to\\infty} e^{At} = 0$. Using this, we can determine the steady-state response\n",
        "\n",
        "$$ \\lim_{t\\to\\infty}y(t) = -CA^{-1}B $$\n",
        "\n",
        "---\n",
        "d. Determine the transfer function $G_{yu}$, where $y=q$.\n",
        "\n",
        "---\n",
        "**SOLUTION**\n",
        "\n",
        "The transfer function $G_{yu}$ is readily obtained from the original DE.\n",
        "\n",
        "$$ G_{yu}(s) = \\cfrac{1}{ s^2+2\\zeta\\omega_0 s + \\omega_0^2} $$\n",
        "\n",
        "---\n",
        "\n",
        "e. Use the transfer function you just found in c. to obtain the steady state response to a unit step input (*hint: you should get the same answer as you did in b. Use the final value theorem.*)\n",
        "\n",
        "--- \n",
        "**SOLUTION**\n",
        "The final value theorem states that the response $y$ to an input $u$ must satisfy\n",
        "\n",
        "$$ \\lim_{t->\\infty} y(t) = \\lim_{s\\to 0} sy(s)$$\n",
        "\n",
        "using the transfer function above, we can show that \n",
        "\n",
        "$$ \\lim_{s\\to 0} sy(s) = \\lim_{s\\to 0} s G_{yu}(s) u(s) =\n",
        "\\lim_{s\\to 0} \\cfrac{s}{s^2+2\\zeta\\omega_0 s + \\omega_0^2}\\cfrac{1}{s} = \\cfrac{1}{\\omega_0^2} $$\n",
        "\n",
        "---"
      ]
    },
    {
      "cell_type": "markdown",
      "metadata": {
        "id": "tXqs1FD2zsZ3"
      },
      "source": [
        "## 2. [60 min] linearization of nonlinear system\n",
        "\n",
        "A steel ball with mass $M$ is levitated under an electromagnet. The input $u$ to the system is the voltage applied to the electromagnet. The output $y$ is the position of the ball (illustrated as $x$ in the diagram, but denoted as $q$ in the equations below) and is measured with a photo-detector. The system is illustrated below.\n",
        "\n",
        "<img width=500px src=\"https://raw.githubusercontent.com/klavins/ECE447/master/images/levitation-up.png\">\n",
        "\n",
        "This system involves dynamic interaction between the ball's position $q$, velocity $\\dot{q}$, and the electromagnet current $i$:\n",
        "\n",
        "$$\n",
        "(\\text{NL})\\quad\n",
        "\\ddot q = \\frac{C}{M}\\left(\\frac{i}{q}\\right)^2 - g,\\ \n",
        "\\dot i = \\frac{1}{L} \\left ( -R i + 2 C \\frac{i \\dot{q}}{q^2} + u \\right )\n",
        "$$\n",
        "\n",
        "(For convenience, the positive direction for $q$ is down.)\n",
        "\n",
        "(a.) Determine the constant input voltage $u_e$ that makes $q_e = 0.05$ an equilibrium position.\n",
        "\n",
        "---\n",
        "**SOLUTION**\n",
        "From the first equation we have that \n",
        "\n",
        "$$ i_e = \\sqrt{\\cfrac{Mg}{C}}q_e, $$\n",
        "\n",
        "whereas from the second equation since $\\dot{q}_e = 0$ (this is necessary for an equilibrium) we have\n",
        "\n",
        "\n",
        "$$ u = Ri_e = R\\sqrt{\\cfrac{Mg}{C}}q_e = 0.05R\\sqrt{\\cfrac{Mg}{C}} $$\n",
        "\n",
        "---\n",
        "\n",
        "**Solution:**\\\n",
        "First, choose state vector $x=\\left[\\begin{matrix} q & \\dot{q} & i \\end{matrix}\\right]^T$\\\n",
        "Thus, the system can be described as:\\\n",
        "$\\frac{d}{dt} \\left[\\begin{matrix} q \\\\ \\dot{q} \\\\ i \\end{matrix}\\right]=\\left[\\begin{matrix} \\dot{q} \\\\ \\ddot{q} \\\\ \\dot{i} \\end{matrix}\\right]=\\left[\\begin{matrix} \\dot{q} \\\\ \\frac{C}{M}\\left(\\frac{i}{q}\\right)^2 - g \\\\ \\frac{1}{L} \\left ( -R i + 2 C \\frac{i \\dot{q}}{q^2} + u \\right ) \\end{matrix}\\right] \n",
        "= \\left[\\begin{matrix} \\dot{q} \\\\ 0.0083\\left(\\frac{i}{q}\\right)^2 - 9.81 \\\\  -30 i + 2 \\times 10^{-4} \\frac{i \\dot{q}}{q^2} + u  \\end{matrix}\\right]$\n",
        "\n",
        "By the defination of equilibrium point,\\\n",
        "$\\left[\\begin{matrix} \\dot{q} \\\\ 0.0083\\left(\\frac{i}{q}\\right)^2 - 9.81 \\\\  -30 i + 2 \\times 10^{-4} \\frac{i \\dot{q}}{q^2} + u  \\end{matrix}\\right] = 0$\\\n",
        "Solve the equation and we have,\\\n",
        "$\\boxed{u_e=51.47}$,\\\n",
        "and the equilibrium point,\\\n",
        "$x_e=\\left[\\begin{matrix} q \\\\ \\dot{q} \\\\ i \\end{matrix}\\right]=\\left[\\begin{matrix} 0.05 \\\\ 0 \\\\ 1.72 \\end{matrix}\\right]$\n",
        "\n",
        "---------------------\n",
        "\n",
        "\n",
        "\n",
        "(b.) Linearize the nonlinear system $(\\text{NL})$ around the equilibrium from (a.) to obtain a linear system $(\\text{L})$\n",
        "\n",
        "$$ (\\text{L})\\quad \\delta \\dot{x} = A \\delta x + B \\delta u,\\ \\delta y = C \\delta x + D \\delta u. $$\n",
        "\n",
        "Use the following parameter values in the remainder of this problem:\n",
        "magnet constant $C = 10^{-4}$,\n",
        "gravitational acceleration $g = 9.81$,\n",
        "inductance $L = 1$,\n",
        "resistance $R = 30$,\n",
        "mass $M = 12\\times 10^{-3}$.\n",
        "\n",
        "**Solution:**\\\n",
        "The Jacobian derivative of $f$ with respect to $x$ is\n",
        "$$ A = \\partial_x f = \\left[\\begin{matrix} \\partial_{q} \\dot{q} &  \\partial_{\\dot{q}} \\dot{q} &  \\partial_{i} \\dot{q} \\\\  \\partial_{q} \\ddot{q} &  \\partial_{\\dot{q}} \\ddot{q} &  \\partial_{i} \\ddot{q} \\\\ \\partial_{q} \\dot{i} &  \\partial_{\\dot{q}} \\dot{i} &  \\partial_{i} \\dot{i} \\end{matrix}\\right] \n",
        "= \\left[\\begin{matrix} 0 & 1 & 0 \\\\ -0.0166i^2q^{-3} & 0 & 0.0166iq^{-2} \\\\ -4\\times 10^{-4} i\\dot{q}q^{-3} & 2\\times 10^{-4}iq^{-2} & 2\\times 10^{-4}\\dot{q}q^{-2} - 30 \\end{matrix}\\right] $$\n",
        "\n",
        "$$ B = \\partial_u f = \\left[\\begin{matrix} \\partial_{u} \\dot{q} \\\\ \\partial_{u} \\ddot{q} \\\\ \\partial_{u} \\dot{i} \\end{matrix}\\right]\n",
        "= \\left[\\begin{matrix} 0 \\\\ 0 \\\\ 1 \\end{matrix}\\right]$$\n",
        "\n",
        "$$y = q = Cx + Du = \\left[ \\begin{array}{cc} 1 & 0 & 0 \\end{array} \\right]\\left[ \\begin{array}{cc} q \\\\ \\dot{q} \\\\ i \\end{array} \\right] + 0 \\times u$$\n",
        "\n",
        "---------------\n",
        "\n",
        "---\n",
        "**SOLUTION**\n",
        "\n",
        "First we linearize the $\\ddot{q}$ equation,\n",
        "\n",
        "$$ \n",
        "\\delta \\ddot{q} = \n",
        "\\left( -2\\cfrac{Ci_e^2}{Mq_e^3} \\right)\\delta q + \\left( 2\\cfrac{Ci_e}{Mq_e^2} \\right)\\delta i.\n",
        "$$\n",
        "\n",
        "Next we linearize the $\\dot{i}$ equation,\n",
        "\n",
        "$$\n",
        "\\delta \\dot{i} = -\\cfrac{R}{L}\\delta i + 2\\cfrac{Ci_e}{Lq_e^2}\\delta \\dot{q} + \\delta u\n",
        "$$\n",
        "\n",
        "Notice that there is no $\\delta q$ term here: this is a consequence of the fact that $\\dot{q}_e = 0$. Finally we substitute all of the values into the expression above:\n",
        "\n",
        "$$ \\delta \\ddot{q} \\approx -392 \\delta q + 11.4 \\delta i $$\n",
        "\n",
        "$$ \\delta \\dot{i} \\approx  -30 \\delta i + 0.137 \\delta \\dot{q} + \\delta u.$$\n",
        "\n",
        "If $\\delta x = [\\delta q,\\, \\delta \\dot{q},\\, \\delta i]^\\top$\n",
        "\n",
        "$$ \n",
        "A \\approx \\left[ \\begin{array}{ccc}\n",
        "0 & 1 & 0 \\\\\n",
        "-392 & 0 & 11.4 \\\\\n",
        "0 & 0.137 & -30\n",
        "\\end{array}\\right]\n",
        "$$\n",
        "\n",
        "$$B = [0,\\,0,\\,1]^\\top$$\n",
        "\n",
        "and of course since $y=q$, then $\\delta y = \\delta q$ and so $C = [1,\\,0,\\,0]$ and $D = 0$.\n",
        "\n",
        "---\n",
        "\n",
        "(c.) Is the linear system $(\\text{L})$ from (b.) stable or unstable?\n",
        "---\n",
        "**SOLUTION**\n",
        "The eigenvalues of $A$ are approximately $\\lambda \\approx -30$ and $\\lambda \\approx 0.0181 \\pm 19.8j$. The system is unstable because the complex root pair have positive real part.\n",
        "\n",
        "---\n",
        "\n",
        "**Solution:**\\\n",
        "It can be seen that one of the eigenvalues has positive real part, the system is unstable.\n",
        "\n",
        "\n",
        "***Suppose proportional feedback $\\delta u = -k_P (q-q_e)$ is applied to the system.***\n",
        "\n",
        "(d.) Create a root locus plot for the closed-loop system as parameter $k_P$ varies. (*hint*: Remember that $q-q_e=\\delta q = \\delta x_1$, which is your first state for your linearized system. Assume $\\delta u=\\left[\\begin{matrix} -k_P(q-q_e) & 0 & 0 \\end{matrix}\\right]$, then plug $\\delta u$ into the equation you found in (b) and see if you can rewrite the equation $\\delta \\dot{x} = A \\delta x + B \\delta u$ as $\\delta \\dot{x}=\\tilde{A}\\delta x$, where $\\tilde{A}$ is a function of $k_P$).\n",
        "\n",
        "(e.) Can the system be stabilized by proportional feedback?\n",
        "\n",
        "---\n",
        "**SOLUTION**\n",
        "\n",
        "Yes, the system can be stabilized by a small amount of proportional feedback.\n",
        "\n",
        "---\n",
        "\n",
        "**Solution:**\n",
        "No positive gain can make all eigenvalues have negative real part. However, theoretically a negative gain can stabilize the system. \n",
        "helpful source: https://eng.libretexts.org/Bookshelves/Industrial_and_Systems_Engineering/Book%3A_Chemical_Process_Dynamics_and_Controls_(Woolf)/10%3A_Dynamical_Systems_Analysis/10.04%3A_Using_eigenvalues_and_eigenvectors_to_find_stability_and_solve_ODEs\n",
        "\n",
        "helpful joke for learning: \n",
        "https://www.reddit.com/r/Jokes/comments/76y4cs/a_group_of_polish_tourists_is_flying_on_a_small/"
      ]
    },
    {
      "cell_type": "code",
      "metadata": {
        "id": "Sm4l5mrEUZsa",
        "tags": [],
        "colab": {
          "base_uri": "https://localhost:8080/",
          "height": 296
        },
        "outputId": "13c57330-664d-4800-9bba-f9e5b8a683ce"
      },
      "source": [
        "# Solution to 1.d\n",
        "%matplotlib inline\n",
        "from matplotlib import pyplot as plt \n",
        "import numpy as np\n",
        "\n",
        "A = np.array([[0,1,0],[-392,0,11.4],[0,0.137,-30]])\n",
        "\n",
        "B = np.array([[0,0,1]]).T\n",
        "\n",
        "def eigvals(k):\n",
        "    A_cl = A-B*k\n",
        "    return np.linalg.eigvals(A_cl)\n",
        "\n",
        "k = np.linspace(-10,10,1001)\n",
        "y = np.zeros((len(k),3),dtype=np.complex) # dtype=np.complex or else you will be sad\n",
        "for i in range(len(k)):\n",
        "    y[i,:] = eigvals(k[i])\n",
        "    pass\n",
        "plt.axhline(0, color='black',alpha=.15)\n",
        "plt.axvline(0, color='black',alpha=.15)\n",
        "plt.plot(y[:,0].real, y[:,0].imag)\n",
        "plt.plot(y[:,1].real, y[:,1].imag)\n",
        "plt.plot(y[:,2].real, y[:,2].imag)\n",
        "plt.xlabel(\"Real part\")\n",
        "plt.ylabel(\"Imaginary part\")\n",
        "\n"
      ],
      "execution_count": null,
      "outputs": [
        {
          "output_type": "execute_result",
          "data": {
            "text/plain": [
              "Text(0, 0.5, 'Imaginary part')"
            ]
          },
          "metadata": {
            "tags": []
          },
          "execution_count": 1
        },
        {
          "output_type": "display_data",
          "data": {
            "image/png": "[encoded data removed]",
            "text/plain": [
              "<Figure size 432x288 with 1 Axes>"
            ]
          },
          "metadata": {
            "tags": [],
            "needs_background": "light"
          }
        }
      ]
    },
    {
      "cell_type": "code",
      "metadata": {
        "colab": {
          "base_uri": "https://localhost:8080/"
        },
        "id": "3_BoCXSZMkxk",
        "outputId": "c754751b-ce24-4e8e-f3bb-3e11d96c01b2"
      },
      "source": [
        "k"
      ],
      "execution_count": null,
      "outputs": [
        {
          "output_type": "execute_result",
          "data": {
            "text/plain": [
              "array([-10.  ,  -9.98,  -9.96, ...,   9.96,   9.98,  10.  ])"
            ]
          },
          "metadata": {
            "tags": []
          },
          "execution_count": 2
        }
      ]
    },
    {
      "cell_type": "code",
      "metadata": {
        "colab": {
          "base_uri": "https://localhost:8080/"
        },
        "id": "0KwWdt-WMkxn",
        "outputId": "994ef0ca-d8e8-422a-df2d-d025b3779eea"
      },
      "source": [
        "# import modules first\n",
        "#part 2c code to calculate eigenvalues\n",
        "import numpy as np\n",
        "import pylab as plt\n",
        "\n",
        "q = 0.05\n",
        "dq = 0\n",
        "i = 1.72\n",
        "\n",
        "A = np.array([[0, 1, 0],\n",
        "              [-0.0166*(i**2)*(q**(-3)), 0, 0.0166*i*(q**(-2))],\n",
        "              [-4*10**(-4)*i*dq*q**(-3), 2*10**(-4)*i*q**(-2), 2*10**(-4)*dq*q**(-2)-30]])\n",
        "print('A')\n",
        "print(A)\n",
        "eigenvalue, _ = np.linalg.eig(A)\n",
        "print('eigenvalue of A')\n",
        "print(eigenvalue)"
      ],
      "execution_count": null,
      "outputs": [
        {
          "output_type": "stream",
          "text": [
            "A\n",
            "[[ 0.0000000e+00  1.0000000e+00  0.0000000e+00]\n",
            " [-3.9287552e+02  0.0000000e+00  1.1420800e+01]\n",
            " [-0.0000000e+00  1.3760000e-01 -3.0000000e+01]]\n",
            "eigenvalue of A\n",
            "[ 1.82239451e-02+19.80904972j  1.82239451e-02-19.80904972j\n",
            " -3.00364479e+01 +0.j        ]\n"
          ],
          "name": "stdout"
        }
      ]
    },
    {
      "cell_type": "code",
      "metadata": {
        "colab": {
          "base_uri": "https://localhost:8080/",
          "height": 318
        },
        "id": "ZIdQuKT4NRzZ",
        "outputId": "5886e442-a842-4e0b-dd03-53d3f61ae97f"
      },
      "source": [
        "import numpy as np\n",
        "import pylab as plt\n",
        "#part 2d code \n",
        "q = 0.05\n",
        "dq = 0\n",
        "i = 1.72\n",
        "\n",
        "#Choosing values of k for annotation\n",
        "\n",
        "kps = np.linspace(-200,2000,70)\n",
        "\n",
        "lambda1 = np.array([])\n",
        "lambda2 = np.array([])\n",
        "lambda3 = np.array([])\n",
        "for kp in kps:\n",
        "  A = np.array([[0, 1, 0],\n",
        "              [-0.0166*(i**2)*(q**(-3)), 0, 0.0166*i*(q**(-2))],\n",
        "              [-4*10**(-4)*i*dq*q**(-3)-kp, 2*10**(-4)*i*q**(-2), 2*10**(-4)*dq*q**(-2)-30]])\n",
        "\n",
        "  eigenvalue, _ = np.linalg.eig(A)\n",
        "\n",
        "  lambda1 = np.append(lambda1, eigenvalue[0])\n",
        "  lambda2 = np.append(lambda2, eigenvalue[1])\n",
        "  lambda3 = np.append(lambda3, eigenvalue[2])\n",
        "\n",
        "print(np.shape(lambda1))\n",
        "# confirm the non-real eigenvalues are complex-conjugates\n",
        "assert np.allclose(lambda1[np.abs(lambda1.imag) > 0.],\n",
        "                   np.conj(lambda2[np.abs(lambda1.imag) > 0]))\n",
        "\n",
        "#Axis labels\n",
        "plt.title('locus of eigenvalues as feedback parameter $k$ varies')\n",
        "plt.xlabel(r'real part of eigenvalue ($\\operatorname{Re}\\ \\lambda$)')\n",
        "plt.ylabel(r'imaginary part of eigenvalue ($\\operatorname{Im}\\ \\lambda$)')\n",
        "\n",
        "#Plotting values\n",
        "plt.scatter(lambda1.real,lambda1.imag,color='b')\n",
        "plt.scatter(lambda2.real,lambda2.imag,color = 'r')\n",
        "plt.scatter(lambda3.real,lambda3.imag,color = 'g')\n",
        "# we'll only annotate every 10 of the computed eigenvalues\n",
        "for k,lam1,lam2 in list(zip(kps,lambda1,lambda2))[::10]:\n",
        "  plt.annotate(r'$k=%0.1f$'%k,xy=(lam1.real,lam1.imag))\n",
        "  plt.annotate(r'$k=%0.1f$'%k,xy=(lam2.real,lam2.imag))\n",
        "#x- and y- limits and drawing axes\n",
        "ylim = plt.ylim()\n",
        "plt.plot(np.zeros(2),ylim,'k--')\n",
        "xlim = plt.xlim()\n",
        "plt.plot(xlim,np.zeros(2),'k--')\n",
        "plt.xlim(xlim); plt.ylim(ylim);"
      ],
      "execution_count": null,
      "outputs": [
        {
          "output_type": "stream",
          "text": [
            "(70,)\n"
          ],
          "name": "stdout"
        },
        {
          "output_type": "display_data",
          "data": {
            "image/png": "[encoded data removed]",
            "text/plain": [
              "<Figure size 432x288 with 1 Axes>"
            ]
          },
          "metadata": {
            "tags": [],
            "needs_background": "light"
          }
        }
      ]
    },
    {
      "cell_type": "markdown",
      "metadata": {
        "id": "aVTQqiCKNSY6"
      },
      "source": [
        ""
      ]
    }
  ]
}