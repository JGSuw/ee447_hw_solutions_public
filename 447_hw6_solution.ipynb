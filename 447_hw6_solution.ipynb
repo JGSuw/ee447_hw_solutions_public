{
  "nbformat": 4,
  "nbformat_minor": 0,
  "metadata": {
    "colab": {
      "name": "447_hw6.ipynb",
      "provenance": [],
      "collapsed_sections": []
    },
    "kernelspec": {
      "name": "python37364bitbasecondad1dc895b06f340a1aa92612ef3391c05",
      "display_name": "Python 3.7.3 64-bit ('jgs12': virtualenv)"
    },
    "language_info": {
      "codemirror_mode": {
        "name": "ipython",
        "version": 3
      },
      "file_extension": ".py",
      "mimetype": "text/x-python",
      "name": "python",
      "nbconvert_exporter": "python",
      "pygments_lexer": "ipython3",
      "version": "3.7.3"
    },
    "metadata": {
      "interpreter": {
        "hash": "6296c02155b2789c7f4828de522e4f04f921f55ab81aa51ee3b23f112e27a5e2"
      }
    }
  },
  "cells": [
    {
      "cell_type": "markdown",
      "metadata": {
        "id": "gqyprtgkiL91"
      },
      "source": [
        "# HW6 due 5p Fri May 14, 2021\n",
        "\n",
        "You are welcome (and encouraged) to work with others, but each individual must submit their own writeup.\n",
        "You can do the Group work portion in class with your classmates on Wednesdays to get full credit, but you can choose to do that portion individually and submit it along with your hw for a grade (i.e. you will not automatically get full credit). \n",
        "\n",
        "You are welcome to use analytical and numerical computational tools; if you do, include the **commented** sourcecode in your submission.\n",
        "\n",
        "You are welcome to consult websites, textbooks, and other materials; if you do, include a full citation in your writeup.\n",
        "\n",
        "**Important:** before you do any work in the Colaboratory notebook, click \"File -> Save a copy in Drive ...\" and rename the file to something memorable.\n",
        "\n",
        "**Also important:** To produce a .pdf for submission to Canvas, click \"File -> Print\" (or press Ctrl/Cmd + P), and choose \"Save to PDF\" or \"Microsoft Print to PDF\" as your printer."
      ]
    },
    {
      "cell_type": "markdown",
      "metadata": {
        "id": "Bn6y5JwTYfI4"
      },
      "source": [
        "# Group work -- Wed May 12\n",
        "\n",
        "I encourage you to attend the group work session on Wednesdays to complete the group work portion of your homework -- you will get full credit as long as you participate and make an effort on the problem. This is also a great opportunity to get to know your classmates. Only one person needs to submit.\n",
        "\n",
        "Please note that only one person can edit the Colaboratory notebook at a time, I recommend creating a copy for yourself and copy pasting your solutions in the discord or Zoom chat if people want to work on different parts of the writeup."
      ]
    },
    {
      "cell_type": "markdown",
      "metadata": {
        "id": "Vm7M73TOYfI6"
      },
      "source": [
        "## 0. Groupmates: [Names of everyone in your group]"
      ]
    },
    {
      "cell_type": "markdown",
      "metadata": {
        "id": "-froK1m7YfI7"
      },
      "source": [
        "## 1. [15 min]:  sensors and systems (don't have to do if submitting individually), ungraded\n",
        "\n",
        "Pick a system/plant/process to discuss. What types of sensors are available to observe your states, and why are some of them more or less desirable to be implemented in real life? Please briefly summarize your discussion points and submit. "
      ]
    },
    {
      "cell_type": "markdown",
      "metadata": {
        "id": "FdV5CUtmjM26"
      },
      "source": [
        "## 2. state and output feedback\n",
        "\n",
        "***Purpose:*** apply analytical and computational techniques to observe and control the state of a system.\n",
        "\n",
        "Consider the following model of a robot arm that consists of a rigid rod of length $\\ell$ attached to a point mass $m$ at one end and a rotational joint at the other end,\n",
        "\n",
        "$$ \\ m \\ell^2 \\ddot{\\theta} = m g \\ell \\sin\\theta - \\gamma\\dot{\\theta} + \\tau, $$\n",
        "\n",
        "where \n",
        "$\\gamma$ is a coefficient of friction for the rotational joint \n",
        "and \n",
        "$\\tau$ is a torque applied by a motor attached to the rotational joint.\n",
        "\n",
        "With state $x = (\\theta,\\dot{\\theta})$ and input $u = \\tau$, linearizing the dynamics around the vertical equilibrium $x_e = (\\theta_e,\\dot{\\theta}_e) = (0,0)$, $u_e = \\tau_e = 0$ yields the linear control system\n",
        "\n",
        "$$ \\dot{\\delta x} = A \\delta x + B \\delta u $$\n",
        "\n",
        "where $x \\approx x_e + \\delta x$, $u \\approx u_e + \\delta u$,\n",
        "\n",
        "$$\n",
        "A = \\left[\\begin{matrix} 0 & 1 \\\\ \\frac{g}{\\ell} & -\\frac{\\gamma}{m\\ell^2} \\end{matrix}\\right], \\ \n",
        "B = \\left[\\begin{matrix} 0 \\\\ \\frac{1}{m\\ell^2} \\end{matrix}\\right].\n",
        "$$\n",
        "\n",
        "a. Design a linear state-feedback law $\\delta u = - K \\delta x$ that gives a closed-loop characteristic polynomial $s^2 + 2\\zeta\\omega s + \\omega^2$ that corresponds to a second-order system that is ***overdamped*** ($\\zeta = 3/2$) and has ***natural frequency*** $\\omega = 2$Hz (refer to group work 4 for a quick overview of what overdamped means).\n",
        "\n",
        "---\n",
        "**SOLUTION**\n",
        "\n",
        "To solve this problem, first we will determine the closed-loop system that results from the feedback transformation $\\delta u = -K\\delta x$. Then, we will use the characteristic polynomial to determine the relationship between the feedback gains of $K$ and the parameters $\\zeta, \\omega$. \n",
        "\n",
        "Let $K = [k_1, k_2]$. Then the closed-loop system has the statespace representation\n",
        "\n",
        "$$\n",
        "\\delta \\dot{x} = (A-BK)\\delta x = \n",
        "\\left[\n",
        "\n",
        "\\begin{array}{cc}\n",
        "0 & 1 \\\\ \\cfrac{g}{l}-\\cfrac{k_1}{ml^2} & \\cfrac{-\\gamma-k_2}{ml^2}\n",
        "\\end{array}\n",
        "\n",
        "\\right]\\delta x.\n",
        "$$\n",
        "\n",
        "The characteristic polynomial is given by the determinant of $\\lambda I - (A-BK)$, which provides\n",
        "\n",
        "$$\n",
        " \\lambda^2 + \\left(\\cfrac{k_2+\\gamma}{ml^2}\\right)\\lambda - \\cfrac{g}{l}+\\cfrac{k_1}{ml^2} .\n",
        "$$\n",
        "\n",
        "We seek to equate the characteristic polynomial with \n",
        "\n",
        "$$ s^2 + 2\\omega\\zeta s + \\omega^2 $$\n",
        "\n",
        "hence,\n",
        "\n",
        "$$ k_1 = ml^2\\left(\\omega^2+\\cfrac{g}{l}\\right)$$\n",
        "\n",
        "$$ k_2 = (2\\zeta\\omega)(ml^2)-\\gamma$$\n",
        "\n",
        "Finally, with $\\omega = 4 \\pi$ and $\\zeta = \\cfrac{3}{2}$ we have\n",
        "\n",
        "$$ k_1 = 16\\pi^2 ml^2 + mgl $$\n",
        "\n",
        "$$ k_2 = 12\\pi ml^2 - \\gamma $$\n",
        "\n",
        "---\n",
        "\n",
        "b. Verify that the `ctrl.place` command gives the same answer as (a.) when you use parameter values $m = 1$ kg, $\\ell = 1$ m, $g = 9.81$ m sec$^{-2}$, $\\gamma = 1$.\n",
        "\n",
        "c. Implement a simulation of the closed-loop system using parameter values from (b.) to verify that the closed-loop dynamics are as expected.\n"
      ]
    },
    {
      "cell_type": "code",
      "execution_count": 9,
      "metadata": {},
      "outputs": [
        {
          "output_type": "stream",
          "name": "stdout",
          "text": [
            "[[167.72367042  36.69911184]]\n[[167.72367041742973, 36.69911184307752]]\n"
          ]
        }
      ],
      "source": [
        "# part b SOLUTION\n",
        "import numpy as np \n",
        "import control as ctrl\n",
        "\n",
        "A = np.array([[0,1],[9.81, -1]])\n",
        "B = np.array([[0,1]]).T\n",
        "\n",
        "omega = 4*np.pi\n",
        "zeta = 3./2.\n",
        "\n",
        "# calculate location of poles from quadratic formula\n",
        "p = [\n",
        "(-2*zeta*omega + np.sqrt((2*zeta*omega)**2-4*omega**2+0j))/2.,\n",
        "    (-2*zeta*omega - np.sqrt((2*zeta*omega)**2-4*omega**2+0j))/2.\n",
        "]\n",
        "\n",
        "# place poles using ctrl.place\n",
        "K = ctrl.place(A,B,p)\n",
        "print(K)\n",
        "\n",
        "# compare to hand solutions\n",
        "k1 = 16*np.pi**2+9.81\n",
        "k2 = 12*np.pi-1\n",
        "print([[k1, k2]])"
      ]
    },
    {
      "cell_type": "code",
      "execution_count": 27,
      "metadata": {},
      "outputs": [
        {
          "output_type": "execute_result",
          "data": {
            "text/plain": [
              "Text(0.5, 0, 'time (seconds)')"
            ]
          },
          "metadata": {},
          "execution_count": 27
        },
        {
          "output_type": "display_data",
          "data": {
            "text/plain": "<Figure size 432x288 with 1 Axes>",
            "image/svg+xml": "<?xml version=\"1.0\" encoding=\"utf-8\" standalone=\"no\"?>\r\n<!DOCTYPE svg PUBLIC \"-//W3C//DTD SVG 1.1//EN\"\r\n  \"http://www.w3.org/Graphics/SVG/1.1/DTD/svg11.dtd\">\r\n<!-- Created with matplotlib (https://matplotlib.org/) -->\r\n<svg height=\"262.19625pt\" version=\"1.1\" viewBox=\"0 0 380.482813 262.19625\" width=\"380.482813pt\" xmlns=\"http://www.w3.org/2000/svg\" xmlns:xlink=\"http://www.w3.org/1999/xlink\">\r\n <defs>\r\n  <style type=\"text/css\">\r\n*{stroke-linecap:butt;stroke-linejoin:round;}\r\n  </style>\r\n </defs>\r\n <g id=\"figure_1\">\r\n  <g id=\"patch_1\">\r\n   <path d=\"M -0 262.19625 \r\nL 380.482813 262.19625 \r\nL 380.482813 0 \r\nL -0 0 \r\nz\r\n\" style=\"fill:none;\"/>\r\n  </g>\r\n  <g id=\"axes_1\">\r\n   <g id=\"patch_2\">\r\n    <path d=\"M 38.482813 224.64 \r\nL 373.282813 224.64 \r\nL 373.282813 7.2 \r\nL 38.482813 7.2 \r\nz\r\n\" style=\"fill:#ffffff;\"/>\r\n   </g>\r\n   <g id=\"matplotlib.axis_1\">\r\n    <g id=\"xtick_1\">\r\n     <g id=\"line2d_1\">\r\n      <defs>\r\n       <path d=\"M 0 0 \r\nL 0 3.5 \r\n\" id=\"m72aa3fb1a4\" style=\"stroke:#000000;stroke-width:0.8;\"/>\r\n      </defs>\r\n      <g>\r\n       <use style=\"stroke:#000000;stroke-width:0.8;\" x=\"53.700994\" xlink:href=\"#m72aa3fb1a4\" y=\"224.64\"/>\r\n      </g>\r\n     </g>\r\n     <g id=\"text_1\">\r\n      <!-- 0.0 -->\r\n      <defs>\r\n       <path d=\"M 31.78125 66.40625 \r\nQ 24.171875 66.40625 20.328125 58.90625 \r\nQ 16.5 51.421875 16.5 36.375 \r\nQ 16.5 21.390625 20.328125 13.890625 \r\nQ 24.171875 6.390625 31.78125 6.390625 \r\nQ 39.453125 6.390625 43.28125 13.890625 \r\nQ 47.125 21.390625 47.125 36.375 \r\nQ 47.125 51.421875 43.28125 58.90625 \r\nQ 39.453125 66.40625 31.78125 66.40625 \r\nz\r\nM 31.78125 74.21875 \r\nQ 44.046875 74.21875 50.515625 64.515625 \r\nQ 56.984375 54.828125 56.984375 36.375 \r\nQ 56.984375 17.96875 50.515625 8.265625 \r\nQ 44.046875 -1.421875 31.78125 -1.421875 \r\nQ 19.53125 -1.421875 13.0625 8.265625 \r\nQ 6.59375 17.96875 6.59375 36.375 \r\nQ 6.59375 54.828125 13.0625 64.515625 \r\nQ 19.53125 74.21875 31.78125 74.21875 \r\nz\r\n\" id=\"DejaVuSans-48\"/>\r\n       <path d=\"M 10.6875 12.40625 \r\nL 21 12.40625 \r\nL 21 0 \r\nL 10.6875 0 \r\nz\r\n\" id=\"DejaVuSans-46\"/>\r\n      </defs>\r\n      <g transform=\"translate(45.749432 239.238437)scale(0.1 -0.1)\">\r\n       <use xlink:href=\"#DejaVuSans-48\"/>\r\n       <use x=\"63.623047\" xlink:href=\"#DejaVuSans-46\"/>\r\n       <use x=\"95.410156\" xlink:href=\"#DejaVuSans-48\"/>\r\n      </g>\r\n     </g>\r\n    </g>\r\n    <g id=\"xtick_2\">\r\n     <g id=\"line2d_2\">\r\n      <g>\r\n       <use style=\"stroke:#000000;stroke-width:0.8;\" x=\"91.746449\" xlink:href=\"#m72aa3fb1a4\" y=\"224.64\"/>\r\n      </g>\r\n     </g>\r\n     <g id=\"text_2\">\r\n      <!-- 0.5 -->\r\n      <defs>\r\n       <path d=\"M 10.796875 72.90625 \r\nL 49.515625 72.90625 \r\nL 49.515625 64.59375 \r\nL 19.828125 64.59375 \r\nL 19.828125 46.734375 \r\nQ 21.96875 47.46875 24.109375 47.828125 \r\nQ 26.265625 48.1875 28.421875 48.1875 \r\nQ 40.625 48.1875 47.75 41.5 \r\nQ 54.890625 34.8125 54.890625 23.390625 \r\nQ 54.890625 11.625 47.5625 5.09375 \r\nQ 40.234375 -1.421875 26.90625 -1.421875 \r\nQ 22.3125 -1.421875 17.546875 -0.640625 \r\nQ 12.796875 0.140625 7.71875 1.703125 \r\nL 7.71875 11.625 \r\nQ 12.109375 9.234375 16.796875 8.0625 \r\nQ 21.484375 6.890625 26.703125 6.890625 \r\nQ 35.15625 6.890625 40.078125 11.328125 \r\nQ 45.015625 15.765625 45.015625 23.390625 \r\nQ 45.015625 31 40.078125 35.4375 \r\nQ 35.15625 39.890625 26.703125 39.890625 \r\nQ 22.75 39.890625 18.8125 39.015625 \r\nQ 14.890625 38.140625 10.796875 36.28125 \r\nz\r\n\" id=\"DejaVuSans-53\"/>\r\n      </defs>\r\n      <g transform=\"translate(83.794886 239.238437)scale(0.1 -0.1)\">\r\n       <use xlink:href=\"#DejaVuSans-48\"/>\r\n       <use x=\"63.623047\" xlink:href=\"#DejaVuSans-46\"/>\r\n       <use x=\"95.410156\" xlink:href=\"#DejaVuSans-53\"/>\r\n      </g>\r\n     </g>\r\n    </g>\r\n    <g id=\"xtick_3\">\r\n     <g id=\"line2d_3\">\r\n      <g>\r\n       <use style=\"stroke:#000000;stroke-width:0.8;\" x=\"129.791903\" xlink:href=\"#m72aa3fb1a4\" y=\"224.64\"/>\r\n      </g>\r\n     </g>\r\n     <g id=\"text_3\">\r\n      <!-- 1.0 -->\r\n      <defs>\r\n       <path d=\"M 12.40625 8.296875 \r\nL 28.515625 8.296875 \r\nL 28.515625 63.921875 \r\nL 10.984375 60.40625 \r\nL 10.984375 69.390625 \r\nL 28.421875 72.90625 \r\nL 38.28125 72.90625 \r\nL 38.28125 8.296875 \r\nL 54.390625 8.296875 \r\nL 54.390625 0 \r\nL 12.40625 0 \r\nz\r\n\" id=\"DejaVuSans-49\"/>\r\n      </defs>\r\n      <g transform=\"translate(121.840341 239.238437)scale(0.1 -0.1)\">\r\n       <use xlink:href=\"#DejaVuSans-49\"/>\r\n       <use x=\"63.623047\" xlink:href=\"#DejaVuSans-46\"/>\r\n       <use x=\"95.410156\" xlink:href=\"#DejaVuSans-48\"/>\r\n      </g>\r\n     </g>\r\n    </g>\r\n    <g id=\"xtick_4\">\r\n     <g id=\"line2d_4\">\r\n      <g>\r\n       <use style=\"stroke:#000000;stroke-width:0.8;\" x=\"167.837358\" xlink:href=\"#m72aa3fb1a4\" y=\"224.64\"/>\r\n      </g>\r\n     </g>\r\n     <g id=\"text_4\">\r\n      <!-- 1.5 -->\r\n      <g transform=\"translate(159.885795 239.238437)scale(0.1 -0.1)\">\r\n       <use xlink:href=\"#DejaVuSans-49\"/>\r\n       <use x=\"63.623047\" xlink:href=\"#DejaVuSans-46\"/>\r\n       <use x=\"95.410156\" xlink:href=\"#DejaVuSans-53\"/>\r\n      </g>\r\n     </g>\r\n    </g>\r\n    <g id=\"xtick_5\">\r\n     <g id=\"line2d_5\">\r\n      <g>\r\n       <use style=\"stroke:#000000;stroke-width:0.8;\" x=\"205.882812\" xlink:href=\"#m72aa3fb1a4\" y=\"224.64\"/>\r\n      </g>\r\n     </g>\r\n     <g id=\"text_5\">\r\n      <!-- 2.0 -->\r\n      <defs>\r\n       <path d=\"M 19.1875 8.296875 \r\nL 53.609375 8.296875 \r\nL 53.609375 0 \r\nL 7.328125 0 \r\nL 7.328125 8.296875 \r\nQ 12.9375 14.109375 22.625 23.890625 \r\nQ 32.328125 33.6875 34.8125 36.53125 \r\nQ 39.546875 41.84375 41.421875 45.53125 \r\nQ 43.3125 49.21875 43.3125 52.78125 \r\nQ 43.3125 58.59375 39.234375 62.25 \r\nQ 35.15625 65.921875 28.609375 65.921875 \r\nQ 23.96875 65.921875 18.8125 64.3125 \r\nQ 13.671875 62.703125 7.8125 59.421875 \r\nL 7.8125 69.390625 \r\nQ 13.765625 71.78125 18.9375 73 \r\nQ 24.125 74.21875 28.421875 74.21875 \r\nQ 39.75 74.21875 46.484375 68.546875 \r\nQ 53.21875 62.890625 53.21875 53.421875 \r\nQ 53.21875 48.921875 51.53125 44.890625 \r\nQ 49.859375 40.875 45.40625 35.40625 \r\nQ 44.1875 33.984375 37.640625 27.21875 \r\nQ 31.109375 20.453125 19.1875 8.296875 \r\nz\r\n\" id=\"DejaVuSans-50\"/>\r\n      </defs>\r\n      <g transform=\"translate(197.93125 239.238437)scale(0.1 -0.1)\">\r\n       <use xlink:href=\"#DejaVuSans-50\"/>\r\n       <use x=\"63.623047\" xlink:href=\"#DejaVuSans-46\"/>\r\n       <use x=\"95.410156\" xlink:href=\"#DejaVuSans-48\"/>\r\n      </g>\r\n     </g>\r\n    </g>\r\n    <g id=\"xtick_6\">\r\n     <g id=\"line2d_6\">\r\n      <g>\r\n       <use style=\"stroke:#000000;stroke-width:0.8;\" x=\"243.928267\" xlink:href=\"#m72aa3fb1a4\" y=\"224.64\"/>\r\n      </g>\r\n     </g>\r\n     <g id=\"text_6\">\r\n      <!-- 2.5 -->\r\n      <g transform=\"translate(235.976705 239.238437)scale(0.1 -0.1)\">\r\n       <use xlink:href=\"#DejaVuSans-50\"/>\r\n       <use x=\"63.623047\" xlink:href=\"#DejaVuSans-46\"/>\r\n       <use x=\"95.410156\" xlink:href=\"#DejaVuSans-53\"/>\r\n      </g>\r\n     </g>\r\n    </g>\r\n    <g id=\"xtick_7\">\r\n     <g id=\"line2d_7\">\r\n      <g>\r\n       <use style=\"stroke:#000000;stroke-width:0.8;\" x=\"281.973722\" xlink:href=\"#m72aa3fb1a4\" y=\"224.64\"/>\r\n      </g>\r\n     </g>\r\n     <g id=\"text_7\">\r\n      <!-- 3.0 -->\r\n      <defs>\r\n       <path d=\"M 40.578125 39.3125 \r\nQ 47.65625 37.796875 51.625 33 \r\nQ 55.609375 28.21875 55.609375 21.1875 \r\nQ 55.609375 10.40625 48.1875 4.484375 \r\nQ 40.765625 -1.421875 27.09375 -1.421875 \r\nQ 22.515625 -1.421875 17.65625 -0.515625 \r\nQ 12.796875 0.390625 7.625 2.203125 \r\nL 7.625 11.71875 \r\nQ 11.71875 9.328125 16.59375 8.109375 \r\nQ 21.484375 6.890625 26.8125 6.890625 \r\nQ 36.078125 6.890625 40.9375 10.546875 \r\nQ 45.796875 14.203125 45.796875 21.1875 \r\nQ 45.796875 27.640625 41.28125 31.265625 \r\nQ 36.765625 34.90625 28.71875 34.90625 \r\nL 20.21875 34.90625 \r\nL 20.21875 43.015625 \r\nL 29.109375 43.015625 \r\nQ 36.375 43.015625 40.234375 45.921875 \r\nQ 44.09375 48.828125 44.09375 54.296875 \r\nQ 44.09375 59.90625 40.109375 62.90625 \r\nQ 36.140625 65.921875 28.71875 65.921875 \r\nQ 24.65625 65.921875 20.015625 65.03125 \r\nQ 15.375 64.15625 9.8125 62.3125 \r\nL 9.8125 71.09375 \r\nQ 15.4375 72.65625 20.34375 73.4375 \r\nQ 25.25 74.21875 29.59375 74.21875 \r\nQ 40.828125 74.21875 47.359375 69.109375 \r\nQ 53.90625 64.015625 53.90625 55.328125 \r\nQ 53.90625 49.265625 50.4375 45.09375 \r\nQ 46.96875 40.921875 40.578125 39.3125 \r\nz\r\n\" id=\"DejaVuSans-51\"/>\r\n      </defs>\r\n      <g transform=\"translate(274.022159 239.238437)scale(0.1 -0.1)\">\r\n       <use xlink:href=\"#DejaVuSans-51\"/>\r\n       <use x=\"63.623047\" xlink:href=\"#DejaVuSans-46\"/>\r\n       <use x=\"95.410156\" xlink:href=\"#DejaVuSans-48\"/>\r\n      </g>\r\n     </g>\r\n    </g>\r\n    <g id=\"xtick_8\">\r\n     <g id=\"line2d_8\">\r\n      <g>\r\n       <use style=\"stroke:#000000;stroke-width:0.8;\" x=\"320.019176\" xlink:href=\"#m72aa3fb1a4\" y=\"224.64\"/>\r\n      </g>\r\n     </g>\r\n     <g id=\"text_8\">\r\n      <!-- 3.5 -->\r\n      <g transform=\"translate(312.067614 239.238437)scale(0.1 -0.1)\">\r\n       <use xlink:href=\"#DejaVuSans-51\"/>\r\n       <use x=\"63.623047\" xlink:href=\"#DejaVuSans-46\"/>\r\n       <use x=\"95.410156\" xlink:href=\"#DejaVuSans-53\"/>\r\n      </g>\r\n     </g>\r\n    </g>\r\n    <g id=\"xtick_9\">\r\n     <g id=\"line2d_9\">\r\n      <g>\r\n       <use style=\"stroke:#000000;stroke-width:0.8;\" x=\"358.064631\" xlink:href=\"#m72aa3fb1a4\" y=\"224.64\"/>\r\n      </g>\r\n     </g>\r\n     <g id=\"text_9\">\r\n      <!-- 4.0 -->\r\n      <defs>\r\n       <path d=\"M 37.796875 64.3125 \r\nL 12.890625 25.390625 \r\nL 37.796875 25.390625 \r\nz\r\nM 35.203125 72.90625 \r\nL 47.609375 72.90625 \r\nL 47.609375 25.390625 \r\nL 58.015625 25.390625 \r\nL 58.015625 17.1875 \r\nL 47.609375 17.1875 \r\nL 47.609375 0 \r\nL 37.796875 0 \r\nL 37.796875 17.1875 \r\nL 4.890625 17.1875 \r\nL 4.890625 26.703125 \r\nz\r\n\" id=\"DejaVuSans-52\"/>\r\n      </defs>\r\n      <g transform=\"translate(350.113068 239.238437)scale(0.1 -0.1)\">\r\n       <use xlink:href=\"#DejaVuSans-52\"/>\r\n       <use x=\"63.623047\" xlink:href=\"#DejaVuSans-46\"/>\r\n       <use x=\"95.410156\" xlink:href=\"#DejaVuSans-48\"/>\r\n      </g>\r\n     </g>\r\n    </g>\r\n    <g id=\"text_10\">\r\n     <!-- time (seconds) -->\r\n     <defs>\r\n      <path d=\"M 18.3125 70.21875 \r\nL 18.3125 54.6875 \r\nL 36.8125 54.6875 \r\nL 36.8125 47.703125 \r\nL 18.3125 47.703125 \r\nL 18.3125 18.015625 \r\nQ 18.3125 11.328125 20.140625 9.421875 \r\nQ 21.96875 7.515625 27.59375 7.515625 \r\nL 36.8125 7.515625 \r\nL 36.8125 0 \r\nL 27.59375 0 \r\nQ 17.1875 0 13.234375 3.875 \r\nQ 9.28125 7.765625 9.28125 18.015625 \r\nL 9.28125 47.703125 \r\nL 2.6875 47.703125 \r\nL 2.6875 54.6875 \r\nL 9.28125 54.6875 \r\nL 9.28125 70.21875 \r\nz\r\n\" id=\"DejaVuSans-116\"/>\r\n      <path d=\"M 9.421875 54.6875 \r\nL 18.40625 54.6875 \r\nL 18.40625 0 \r\nL 9.421875 0 \r\nz\r\nM 9.421875 75.984375 \r\nL 18.40625 75.984375 \r\nL 18.40625 64.59375 \r\nL 9.421875 64.59375 \r\nz\r\n\" id=\"DejaVuSans-105\"/>\r\n      <path d=\"M 52 44.1875 \r\nQ 55.375 50.25 60.0625 53.125 \r\nQ 64.75 56 71.09375 56 \r\nQ 79.640625 56 84.28125 50.015625 \r\nQ 88.921875 44.046875 88.921875 33.015625 \r\nL 88.921875 0 \r\nL 79.890625 0 \r\nL 79.890625 32.71875 \r\nQ 79.890625 40.578125 77.09375 44.375 \r\nQ 74.3125 48.1875 68.609375 48.1875 \r\nQ 61.625 48.1875 57.5625 43.546875 \r\nQ 53.515625 38.921875 53.515625 30.90625 \r\nL 53.515625 0 \r\nL 44.484375 0 \r\nL 44.484375 32.71875 \r\nQ 44.484375 40.625 41.703125 44.40625 \r\nQ 38.921875 48.1875 33.109375 48.1875 \r\nQ 26.21875 48.1875 22.15625 43.53125 \r\nQ 18.109375 38.875 18.109375 30.90625 \r\nL 18.109375 0 \r\nL 9.078125 0 \r\nL 9.078125 54.6875 \r\nL 18.109375 54.6875 \r\nL 18.109375 46.1875 \r\nQ 21.1875 51.21875 25.484375 53.609375 \r\nQ 29.78125 56 35.6875 56 \r\nQ 41.65625 56 45.828125 52.96875 \r\nQ 50 49.953125 52 44.1875 \r\nz\r\n\" id=\"DejaVuSans-109\"/>\r\n      <path d=\"M 56.203125 29.59375 \r\nL 56.203125 25.203125 \r\nL 14.890625 25.203125 \r\nQ 15.484375 15.921875 20.484375 11.0625 \r\nQ 25.484375 6.203125 34.421875 6.203125 \r\nQ 39.59375 6.203125 44.453125 7.46875 \r\nQ 49.3125 8.734375 54.109375 11.28125 \r\nL 54.109375 2.78125 \r\nQ 49.265625 0.734375 44.1875 -0.34375 \r\nQ 39.109375 -1.421875 33.890625 -1.421875 \r\nQ 20.796875 -1.421875 13.15625 6.1875 \r\nQ 5.515625 13.8125 5.515625 26.8125 \r\nQ 5.515625 40.234375 12.765625 48.109375 \r\nQ 20.015625 56 32.328125 56 \r\nQ 43.359375 56 49.78125 48.890625 \r\nQ 56.203125 41.796875 56.203125 29.59375 \r\nz\r\nM 47.21875 32.234375 \r\nQ 47.125 39.59375 43.09375 43.984375 \r\nQ 39.0625 48.390625 32.421875 48.390625 \r\nQ 24.90625 48.390625 20.390625 44.140625 \r\nQ 15.875 39.890625 15.1875 32.171875 \r\nz\r\n\" id=\"DejaVuSans-101\"/>\r\n      <path id=\"DejaVuSans-32\"/>\r\n      <path d=\"M 31 75.875 \r\nQ 24.46875 64.65625 21.28125 53.65625 \r\nQ 18.109375 42.671875 18.109375 31.390625 \r\nQ 18.109375 20.125 21.3125 9.0625 \r\nQ 24.515625 -2 31 -13.1875 \r\nL 23.1875 -13.1875 \r\nQ 15.875 -1.703125 12.234375 9.375 \r\nQ 8.59375 20.453125 8.59375 31.390625 \r\nQ 8.59375 42.28125 12.203125 53.3125 \r\nQ 15.828125 64.359375 23.1875 75.875 \r\nz\r\n\" id=\"DejaVuSans-40\"/>\r\n      <path d=\"M 44.28125 53.078125 \r\nL 44.28125 44.578125 \r\nQ 40.484375 46.53125 36.375 47.5 \r\nQ 32.28125 48.484375 27.875 48.484375 \r\nQ 21.1875 48.484375 17.84375 46.4375 \r\nQ 14.5 44.390625 14.5 40.28125 \r\nQ 14.5 37.15625 16.890625 35.375 \r\nQ 19.28125 33.59375 26.515625 31.984375 \r\nL 29.59375 31.296875 \r\nQ 39.15625 29.25 43.1875 25.515625 \r\nQ 47.21875 21.78125 47.21875 15.09375 \r\nQ 47.21875 7.46875 41.1875 3.015625 \r\nQ 35.15625 -1.421875 24.609375 -1.421875 \r\nQ 20.21875 -1.421875 15.453125 -0.5625 \r\nQ 10.6875 0.296875 5.421875 2 \r\nL 5.421875 11.28125 \r\nQ 10.40625 8.6875 15.234375 7.390625 \r\nQ 20.0625 6.109375 24.8125 6.109375 \r\nQ 31.15625 6.109375 34.5625 8.28125 \r\nQ 37.984375 10.453125 37.984375 14.40625 \r\nQ 37.984375 18.0625 35.515625 20.015625 \r\nQ 33.0625 21.96875 24.703125 23.78125 \r\nL 21.578125 24.515625 \r\nQ 13.234375 26.265625 9.515625 29.90625 \r\nQ 5.8125 33.546875 5.8125 39.890625 \r\nQ 5.8125 47.609375 11.28125 51.796875 \r\nQ 16.75 56 26.8125 56 \r\nQ 31.78125 56 36.171875 55.265625 \r\nQ 40.578125 54.546875 44.28125 53.078125 \r\nz\r\n\" id=\"DejaVuSans-115\"/>\r\n      <path d=\"M 48.78125 52.59375 \r\nL 48.78125 44.1875 \r\nQ 44.96875 46.296875 41.140625 47.34375 \r\nQ 37.3125 48.390625 33.40625 48.390625 \r\nQ 24.65625 48.390625 19.8125 42.84375 \r\nQ 14.984375 37.3125 14.984375 27.296875 \r\nQ 14.984375 17.28125 19.8125 11.734375 \r\nQ 24.65625 6.203125 33.40625 6.203125 \r\nQ 37.3125 6.203125 41.140625 7.25 \r\nQ 44.96875 8.296875 48.78125 10.40625 \r\nL 48.78125 2.09375 \r\nQ 45.015625 0.34375 40.984375 -0.53125 \r\nQ 36.96875 -1.421875 32.421875 -1.421875 \r\nQ 20.0625 -1.421875 12.78125 6.34375 \r\nQ 5.515625 14.109375 5.515625 27.296875 \r\nQ 5.515625 40.671875 12.859375 48.328125 \r\nQ 20.21875 56 33.015625 56 \r\nQ 37.15625 56 41.109375 55.140625 \r\nQ 45.0625 54.296875 48.78125 52.59375 \r\nz\r\n\" id=\"DejaVuSans-99\"/>\r\n      <path d=\"M 30.609375 48.390625 \r\nQ 23.390625 48.390625 19.1875 42.75 \r\nQ 14.984375 37.109375 14.984375 27.296875 \r\nQ 14.984375 17.484375 19.15625 11.84375 \r\nQ 23.34375 6.203125 30.609375 6.203125 \r\nQ 37.796875 6.203125 41.984375 11.859375 \r\nQ 46.1875 17.53125 46.1875 27.296875 \r\nQ 46.1875 37.015625 41.984375 42.703125 \r\nQ 37.796875 48.390625 30.609375 48.390625 \r\nz\r\nM 30.609375 56 \r\nQ 42.328125 56 49.015625 48.375 \r\nQ 55.71875 40.765625 55.71875 27.296875 \r\nQ 55.71875 13.875 49.015625 6.21875 \r\nQ 42.328125 -1.421875 30.609375 -1.421875 \r\nQ 18.84375 -1.421875 12.171875 6.21875 \r\nQ 5.515625 13.875 5.515625 27.296875 \r\nQ 5.515625 40.765625 12.171875 48.375 \r\nQ 18.84375 56 30.609375 56 \r\nz\r\n\" id=\"DejaVuSans-111\"/>\r\n      <path d=\"M 54.890625 33.015625 \r\nL 54.890625 0 \r\nL 45.90625 0 \r\nL 45.90625 32.71875 \r\nQ 45.90625 40.484375 42.875 44.328125 \r\nQ 39.84375 48.1875 33.796875 48.1875 \r\nQ 26.515625 48.1875 22.3125 43.546875 \r\nQ 18.109375 38.921875 18.109375 30.90625 \r\nL 18.109375 0 \r\nL 9.078125 0 \r\nL 9.078125 54.6875 \r\nL 18.109375 54.6875 \r\nL 18.109375 46.1875 \r\nQ 21.34375 51.125 25.703125 53.5625 \r\nQ 30.078125 56 35.796875 56 \r\nQ 45.21875 56 50.046875 50.171875 \r\nQ 54.890625 44.34375 54.890625 33.015625 \r\nz\r\n\" id=\"DejaVuSans-110\"/>\r\n      <path d=\"M 45.40625 46.390625 \r\nL 45.40625 75.984375 \r\nL 54.390625 75.984375 \r\nL 54.390625 0 \r\nL 45.40625 0 \r\nL 45.40625 8.203125 \r\nQ 42.578125 3.328125 38.25 0.953125 \r\nQ 33.9375 -1.421875 27.875 -1.421875 \r\nQ 17.96875 -1.421875 11.734375 6.484375 \r\nQ 5.515625 14.40625 5.515625 27.296875 \r\nQ 5.515625 40.1875 11.734375 48.09375 \r\nQ 17.96875 56 27.875 56 \r\nQ 33.9375 56 38.25 53.625 \r\nQ 42.578125 51.265625 45.40625 46.390625 \r\nz\r\nM 14.796875 27.296875 \r\nQ 14.796875 17.390625 18.875 11.75 \r\nQ 22.953125 6.109375 30.078125 6.109375 \r\nQ 37.203125 6.109375 41.296875 11.75 \r\nQ 45.40625 17.390625 45.40625 27.296875 \r\nQ 45.40625 37.203125 41.296875 42.84375 \r\nQ 37.203125 48.484375 30.078125 48.484375 \r\nQ 22.953125 48.484375 18.875 42.84375 \r\nQ 14.796875 37.203125 14.796875 27.296875 \r\nz\r\n\" id=\"DejaVuSans-100\"/>\r\n      <path d=\"M 8.015625 75.875 \r\nL 15.828125 75.875 \r\nQ 23.140625 64.359375 26.78125 53.3125 \r\nQ 30.421875 42.28125 30.421875 31.390625 \r\nQ 30.421875 20.453125 26.78125 9.375 \r\nQ 23.140625 -1.703125 15.828125 -13.1875 \r\nL 8.015625 -13.1875 \r\nQ 14.5 -2 17.703125 9.0625 \r\nQ 20.90625 20.125 20.90625 31.390625 \r\nQ 20.90625 42.671875 17.703125 53.65625 \r\nQ 14.5 64.65625 8.015625 75.875 \r\nz\r\n\" id=\"DejaVuSans-41\"/>\r\n     </defs>\r\n     <g transform=\"translate(168.658594 252.916562)scale(0.1 -0.1)\">\r\n      <use xlink:href=\"#DejaVuSans-116\"/>\r\n      <use x=\"39.208984\" xlink:href=\"#DejaVuSans-105\"/>\r\n      <use x=\"66.992188\" xlink:href=\"#DejaVuSans-109\"/>\r\n      <use x=\"164.404297\" xlink:href=\"#DejaVuSans-101\"/>\r\n      <use x=\"225.927734\" xlink:href=\"#DejaVuSans-32\"/>\r\n      <use x=\"257.714844\" xlink:href=\"#DejaVuSans-40\"/>\r\n      <use x=\"296.728516\" xlink:href=\"#DejaVuSans-115\"/>\r\n      <use x=\"348.828125\" xlink:href=\"#DejaVuSans-101\"/>\r\n      <use x=\"410.351562\" xlink:href=\"#DejaVuSans-99\"/>\r\n      <use x=\"465.332031\" xlink:href=\"#DejaVuSans-111\"/>\r\n      <use x=\"526.513672\" xlink:href=\"#DejaVuSans-110\"/>\r\n      <use x=\"589.892578\" xlink:href=\"#DejaVuSans-100\"/>\r\n      <use x=\"653.369141\" xlink:href=\"#DejaVuSans-115\"/>\r\n      <use x=\"705.46875\" xlink:href=\"#DejaVuSans-41\"/>\r\n     </g>\r\n    </g>\r\n   </g>\r\n   <g id=\"matplotlib.axis_2\">\r\n    <g id=\"ytick_1\">\r\n     <g id=\"line2d_10\">\r\n      <defs>\r\n       <path d=\"M 0 0 \r\nL -3.5 0 \r\n\" id=\"md69c856efb\" style=\"stroke:#000000;stroke-width:0.8;\"/>\r\n      </defs>\r\n      <g>\r\n       <use style=\"stroke:#000000;stroke-width:0.8;\" x=\"38.482813\" xlink:href=\"#md69c856efb\" y=\"187.84689\"/>\r\n      </g>\r\n     </g>\r\n     <g id=\"text_11\">\r\n      <!-- −1.5 -->\r\n      <defs>\r\n       <path d=\"M 10.59375 35.5 \r\nL 73.1875 35.5 \r\nL 73.1875 27.203125 \r\nL 10.59375 27.203125 \r\nz\r\n\" id=\"DejaVuSans-8722\"/>\r\n      </defs>\r\n      <g transform=\"translate(7.2 191.646109)scale(0.1 -0.1)\">\r\n       <use xlink:href=\"#DejaVuSans-8722\"/>\r\n       <use x=\"83.789062\" xlink:href=\"#DejaVuSans-49\"/>\r\n       <use x=\"147.412109\" xlink:href=\"#DejaVuSans-46\"/>\r\n       <use x=\"179.199219\" xlink:href=\"#DejaVuSans-53\"/>\r\n      </g>\r\n     </g>\r\n    </g>\r\n    <g id=\"ytick_2\">\r\n     <g id=\"line2d_11\">\r\n      <g>\r\n       <use style=\"stroke:#000000;stroke-width:0.8;\" x=\"38.482813\" xlink:href=\"#md69c856efb\" y=\"145.653928\"/>\r\n      </g>\r\n     </g>\r\n     <g id=\"text_12\">\r\n      <!-- −1.0 -->\r\n      <g transform=\"translate(7.2 149.453146)scale(0.1 -0.1)\">\r\n       <use xlink:href=\"#DejaVuSans-8722\"/>\r\n       <use x=\"83.789062\" xlink:href=\"#DejaVuSans-49\"/>\r\n       <use x=\"147.412109\" xlink:href=\"#DejaVuSans-46\"/>\r\n       <use x=\"179.199219\" xlink:href=\"#DejaVuSans-48\"/>\r\n      </g>\r\n     </g>\r\n    </g>\r\n    <g id=\"ytick_3\">\r\n     <g id=\"line2d_12\">\r\n      <g>\r\n       <use style=\"stroke:#000000;stroke-width:0.8;\" x=\"38.482813\" xlink:href=\"#md69c856efb\" y=\"103.460965\"/>\r\n      </g>\r\n     </g>\r\n     <g id=\"text_13\">\r\n      <!-- −0.5 -->\r\n      <g transform=\"translate(7.2 107.260184)scale(0.1 -0.1)\">\r\n       <use xlink:href=\"#DejaVuSans-8722\"/>\r\n       <use x=\"83.789062\" xlink:href=\"#DejaVuSans-48\"/>\r\n       <use x=\"147.412109\" xlink:href=\"#DejaVuSans-46\"/>\r\n       <use x=\"179.199219\" xlink:href=\"#DejaVuSans-53\"/>\r\n      </g>\r\n     </g>\r\n    </g>\r\n    <g id=\"ytick_4\">\r\n     <g id=\"line2d_13\">\r\n      <g>\r\n       <use style=\"stroke:#000000;stroke-width:0.8;\" x=\"38.482813\" xlink:href=\"#md69c856efb\" y=\"61.268003\"/>\r\n      </g>\r\n     </g>\r\n     <g id=\"text_14\">\r\n      <!-- 0.0 -->\r\n      <g transform=\"translate(15.579688 65.067222)scale(0.1 -0.1)\">\r\n       <use xlink:href=\"#DejaVuSans-48\"/>\r\n       <use x=\"63.623047\" xlink:href=\"#DejaVuSans-46\"/>\r\n       <use x=\"95.410156\" xlink:href=\"#DejaVuSans-48\"/>\r\n      </g>\r\n     </g>\r\n    </g>\r\n    <g id=\"ytick_5\">\r\n     <g id=\"line2d_14\">\r\n      <g>\r\n       <use style=\"stroke:#000000;stroke-width:0.8;\" x=\"38.482813\" xlink:href=\"#md69c856efb\" y=\"19.075041\"/>\r\n      </g>\r\n     </g>\r\n     <g id=\"text_15\">\r\n      <!-- 0.5 -->\r\n      <g transform=\"translate(15.579688 22.87426)scale(0.1 -0.1)\">\r\n       <use xlink:href=\"#DejaVuSans-48\"/>\r\n       <use x=\"63.623047\" xlink:href=\"#DejaVuSans-46\"/>\r\n       <use x=\"95.410156\" xlink:href=\"#DejaVuSans-53\"/>\r\n      </g>\r\n     </g>\r\n    </g>\r\n   </g>\r\n   <g id=\"line2d_15\">\r\n    <path clip-path=\"url(#p748442b4f1)\" d=\"M 53.700994 17.083636 \r\nL 54.15754 17.183166 \r\nL 54.690176 17.558582 \r\nL 55.374994 18.347801 \r\nL 56.288085 19.763111 \r\nL 57.733812 22.462173 \r\nL 63.136267 32.900098 \r\nL 65.342903 36.536113 \r\nL 67.473449 39.631559 \r\nL 69.603994 42.350096 \r\nL 71.810631 44.810477 \r\nL 74.093358 47.021228 \r\nL 76.452176 48.994847 \r\nL 78.887085 50.746052 \r\nL 81.474176 52.33386 \r\nL 84.213449 53.754743 \r\nL 87.180994 55.040206 \r\nL 90.376812 56.179719 \r\nL 93.876994 57.189979 \r\nL 97.757631 58.077346 \r\nL 102.170903 58.854303 \r\nL 107.268994 59.519445 \r\nL 113.280176 60.07236 \r\nL 120.660994 60.518264 \r\nL 130.172358 60.857128 \r\nL 143.412176 61.090126 \r\nL 165.098085 61.222861 \r\nL 219.426994 61.266549 \r\nL 358.064631 61.268003 \r\nL 358.064631 61.268003 \r\n\" style=\"fill:none;stroke:#1f77b4;stroke-linecap:square;stroke-width:1.5;\"/>\r\n   </g>\r\n   <g id=\"line2d_16\">\r\n    <path clip-path=\"url(#p748442b4f1)\" d=\"M 53.700994 61.268003 \r\nL 54.385813 115.299416 \r\nL 55.070631 152.994147 \r\nL 55.755449 178.696383 \r\nL 56.364176 194.090641 \r\nL 56.972903 204.247861 \r\nL 57.50554 209.862199 \r\nL 57.962085 212.785354 \r\nL 58.34254 214.151909 \r\nL 58.646903 214.663914 \r\nL 58.875176 214.756364 \r\nL 59.103449 214.628755 \r\nL 59.407813 214.157508 \r\nL 59.864358 212.905672 \r\nL 60.473085 210.436347 \r\nL 61.310085 205.988287 \r\nL 62.603631 197.731159 \r\nL 68.766994 156.713184 \r\nL 70.821449 145.241539 \r\nL 72.799813 135.429037 \r\nL 74.778176 126.734397 \r\nL 76.75654 119.047078 \r\nL 78.734903 112.257391 \r\nL 80.713267 106.263456 \r\nL 82.691631 100.973238 \r\nL 84.669994 96.304632 \r\nL 86.648358 92.184813 \r\nL 88.702813 88.418415 \r\nL 90.757267 85.110824 \r\nL 92.887812 82.105667 \r\nL 95.018358 79.479277 \r\nL 97.224994 77.10752 \r\nL 99.507722 74.978524 \r\nL 101.86654 73.078722 \r\nL 104.37754 71.344731 \r\nL 107.040722 69.782981 \r\nL 109.856085 68.394372 \r\nL 112.899722 67.146743 \r\nL 116.171631 66.048042 \r\nL 119.823994 65.062294 \r\nL 123.856813 64.208236 \r\nL 128.422267 63.470959 \r\nL 133.748631 62.841021 \r\nL 140.140267 62.318047 \r\nL 148.053722 61.904636 \r\nL 158.402085 61.598908 \r\nL 173.391994 61.396251 \r\nL 200.023812 61.291809 \r\nL 289.734994 61.268085 \r\nL 358.064631 61.268004 \r\nL 358.064631 61.268004 \r\n\" style=\"fill:none;stroke:#ff7f0e;stroke-linecap:square;stroke-width:1.5;\"/>\r\n   </g>\r\n   <g id=\"patch_3\">\r\n    <path d=\"M 38.482813 224.64 \r\nL 38.482813 7.2 \r\n\" style=\"fill:none;stroke:#000000;stroke-linecap:square;stroke-linejoin:miter;stroke-width:0.8;\"/>\r\n   </g>\r\n   <g id=\"patch_4\">\r\n    <path d=\"M 373.282813 224.64 \r\nL 373.282813 7.2 \r\n\" style=\"fill:none;stroke:#000000;stroke-linecap:square;stroke-linejoin:miter;stroke-width:0.8;\"/>\r\n   </g>\r\n   <g id=\"patch_5\">\r\n    <path d=\"M 38.482813 224.64 \r\nL 373.282813 224.64 \r\n\" style=\"fill:none;stroke:#000000;stroke-linecap:square;stroke-linejoin:miter;stroke-width:0.8;\"/>\r\n   </g>\r\n   <g id=\"patch_6\">\r\n    <path d=\"M 38.482813 7.2 \r\nL 373.282813 7.2 \r\n\" style=\"fill:none;stroke:#000000;stroke-linecap:square;stroke-linejoin:miter;stroke-width:0.8;\"/>\r\n   </g>\r\n  </g>\r\n </g>\r\n <defs>\r\n  <clipPath id=\"p748442b4f1\">\r\n   <rect height=\"217.44\" width=\"334.8\" x=\"38.482813\" y=\"7.2\"/>\r\n  </clipPath>\r\n </defs>\r\n</svg>\r\n",
            "image/png": "[encoded data removed]"
          },
          "metadata": {
            "needs_background": "light"
          }
        }
      ],
      "source": [
        "# part c solutions (run part b first!)\n",
        "%matplotlib inline\n",
        "from matplotlib import pyplot as plt \n",
        "\n",
        "# closed-loop A matrix\n",
        "A_CL = A-np.dot(B,K)\n",
        "\n",
        "# time domain simulation\n",
        "dt = .001\n",
        "t = np.linspace(0.,4.,4001)\n",
        "x = np.zeros((2,len(t)))\n",
        "x[:,0] = [np.pi/6,0] # a random initial condition\n",
        "\n",
        "for i in range(1,len(t)):\n",
        "    x[:,[i]] = x[:,[i-1]]+dt*np.dot(A_CL,x[:,[i-1]])\n",
        "\n",
        "plt.plot(t,x[0,:],label=\"$\\theta$ (radians)\")\n",
        "plt.plot(t,x[1,:],label=\"$\\dot{\\theta}$\")\n",
        "plt.xlabel('time (seconds)')\n",
        "plt.legend\n"
      ]
    },
    {
      "cell_type": "markdown",
      "metadata": {
        "id": "wdXNAGcuYfI9"
      },
      "source": [
        "### * end of group work -- download as PDF and submit as part of group assignment *"
      ]
    },
    {
      "cell_type": "markdown",
      "metadata": {
        "id": "CorRwlNV_VbX"
      },
      "source": [
        "# 0. [preferred name]; [preferred pronouns]\n",
        "\n",
        "a. Approximately how many hours did you spend on this assignment?\n",
        "\n",
        "b. Were there specific problems that took much longer than others?\n",
        "\n",
        "c. What class meeting(s) did you participate in this week?\n",
        "\n",
        "d. What timezone(s) were you working in this week?\n",
        "\n",
        "**e. Please fill out the midquarter evaluation for 1 extra credit point: https://uw.iasystem.org/survey/240130**"
      ]
    },
    {
      "cell_type": "markdown",
      "metadata": {
        "id": "BkzeK9nFYfI_"
      },
      "source": [
        "## 1. state and output feedback cont.\n",
        "\n",
        "This is a continuation of the state and output feedback problem from the group work above. Use the model and all other information from the group work to do this problem.\n",
        "\n",
        "Suppose you have to control the system using a distance sensor attached to the mass so that the output is\n",
        "\n",
        "$$ y = \\ell\\sin\\theta. $$\n",
        "\n",
        "a. Linearize the output equation at the vertical equilibrium, that is, evaluate \n",
        "\n",
        "$$ C = \\left.\\frac{\\partial y}{\\partial x} \\right|_{x_e,u_e},\\ D = \\left.\\frac{\\partial y}{\\partial u} \\right|_{x_e,u_e} $$\n",
        "\n",
        "so that $y \\approx \\delta y = C \\delta x + D \\delta u$ near the equilibrium.\n",
        "\n",
        "b. Design a linear observer\n",
        "\n",
        "$$ \\dot{\\delta\\widehat{x}} = A \\delta\\widehat{x} + B \\delta u - L(\\delta y - \\delta\\widehat{y}),\\ \\delta\\widehat{y} = C \\delta\\widehat{x} + D \\delta u $$\n",
        "\n",
        "so that the error dynamics $\\dot{e} = (A + LC) e$ has characteristic polynomial $s^2 + 2\\xi\\sigma s + \\sigma^2$ that corresponds to a second-order system that is ***underdamped*** ($\\xi = 1/2$) and has ***natural frequency*** $\\sigma = 10$Hz\n",
        "\n",
        "c. Verify that the `ctrl.place` command gives the same answer as (d.) when you use parameter values from (b.).\n",
        "\n",
        "(***Note:*** when using `ctrl.place` to design an observer, you must transpose the $A$ and $B$ matrices and negate and transpose the result: `L = -ctrl.place(A.T,C.T,roots).T`.)\n",
        "\n",
        "d. Implement a simulation of the observer system using parameter values from (b.) to verify that the error dynamics are as expected when the real system is at equilibrium (i.e. $\\delta x = 0$, $\\delta u = 0$).\n",
        "\n",
        "e. Implement a simulation where you use the observer from (g.) to obtain the state estimate $\\delta\\widehat{x}$ that you then use in the controller from (c.) to simultaneously control the observer and system.\n",
        "\n",
        "***Bonus:*** Implement a simulation where you apply the observer from (g.)  and controller from (c.) to the ***nonlinear*** system (nonlinear dynamics and nonlinear output equation)."
      ]
    },
    {
      "cell_type": "markdown",
      "metadata": {
        "id": "L5Rv3bbkHE6N"
      },
      "source": [
        "## 2. spring-mass-damper a deux redux\n",
        "Consider the following spring-mass-damper system from hw3:\n",
        "![spring-mass](http://faculty.washington.edu/sburden/447/447-hw1-spring-mass.png)\n",
        "The input to this system is the sinusoidal motion of the end of rightmost spring. \n",
        "Applying Newton's laws to determine the forces acting on both masses, we find two coupled second-order DE that model the system's dynamics:\n",
        "\n",
        "$$ m\\ddot{q}_1 = - c \\dot{q}_1 - k q_1 + k (q_2 - q_1), $$\n",
        "\n",
        "$$ m\\ddot{q}_2 = - c \\dot{q}_2 + k (u - q_2) - k (q_2 - q_1). $$\n",
        "\n",
        "Defining $x = (q_1, \\dot{q}_1, q_2, \\dot{q}_2)$, we can transcribe the two coupled second-order DE obtained above into one first-order DE in matrix/vector form $\\dot{x} = A x + B u$:\n",
        "\n",
        "$$ \\dot{x} = \\left[ \\begin{matrix} \\dot{q}_1 \\\\ \\ddot{q}_1 \\\\ \\dot{q_2} \\\\ \\ddot{q_2} \\end{matrix} \\right] = \\left[ \\begin{matrix} 0 & 1 & 0 & 0 \\\\ -\\frac{2k}{m} & -\\frac{c}{m}& +\\frac{k}{m}  & 0 \\\\ 0 & 0 & 0 & 1 \\\\ +\\frac{k}{m} & 0 & - \\frac{2k}{m} & -\\frac{c}{m} \\end{matrix} \\right] \\left[ \\begin{matrix} {q}_1 \\\\ \\dot{q}_1 \\\\ {q_2} \\\\ \\dot{q_2} \\end{matrix} \\right] + \\left[ \\begin{matrix} 0 \\\\ 0 \\\\ 0 \\\\ \\frac{k}{m} \\end{matrix} \\right] u = A x + B u. $$\n",
        "\n",
        "Consider the alternative choice of state vector $z = (p_1,\\dot{p}_1,p_2,\\dot{p}_2)$ where $p_1 = \\frac{1}{2}(q_1 + q_2)$, $p_2 = \\frac{1}{2} (q_1 - q_2)$.  \n",
        "\n",
        "a. Determine the matrix $T\\in\\mathbb{R}^{4\\times 4}$ such that $z = T x$.\n",
        "\n",
        "b. Determine the matrix $T^{-1}\\in\\mathbb{R}^{4\\times 4}$ such that $x = T^{-1} z$.  (***Hint:*** solve the equations $p_1 = \\frac{1}{2}(q_1 + q_2)$, $p_2 = \\frac{1}{2} (q_1 - q_2)$ for $q_1$ and $q_2$ in terms of $p_1$ and $p_2$.)\n",
        "\n",
        "c. Compute $\\widetilde{A} = T A T^{-1}$, $\\widetilde{B} = T B$ and verify that $\\dot{z} = \\widetilde{A} z + \\widetilde{B} u$ by comparing with the solution to problem (1d.) from homework 3.\n",
        "\n",
        "d. Verify that $A$ has the same eigenvalues as $\\widetilde{A}$ using parameters $m = 250$, $k = 50$, $c = 10$.\n",
        "\n",
        "***Takeaway:***  a linear system's dynamics can be represented using different choices of state variables (also termed ***coordinates***), which changes the \n",
        "$``A\"$\n",
        "and \n",
        "$``B\"$\n",
        "matrices.  However, the eigenvalues of the $A$'s -- hence, the system's stability properties -- aren't affected by the change-of-coordinates (also termed a ***similarity transform***)."
      ]
    },
    {
      "cell_type": "code",
      "execution_count": null,
      "metadata": {},
      "outputs": [],
      "source": []
    }
  ]
}