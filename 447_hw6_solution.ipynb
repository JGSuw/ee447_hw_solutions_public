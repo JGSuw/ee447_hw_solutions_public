{
  "nbformat": 4,
  "nbformat_minor": 0,
  "metadata": {
    "colab": {
      "name": "447_hw6.ipynb",
      "provenance": [],
      "collapsed_sections": []
    },
    "kernelspec": {
      "name": "python37364bitbasecondad1dc895b06f340a1aa92612ef3391c05",
      "display_name": "Python 3.7.3 64-bit (conda)"
    },
    "language_info": {
      "codemirror_mode": {
        "name": "ipython",
        "version": 3
      },
      "file_extension": ".py",
      "mimetype": "text/x-python",
      "name": "python",
      "nbconvert_exporter": "python",
      "pygments_lexer": "ipython3",
      "version": "3.7.3"
    },
    "metadata": {
      "interpreter": {
        "hash": "6296c02155b2789c7f4828de522e4f04f921f55ab81aa51ee3b23f112e27a5e2"
      }
    }
  },
  "cells": [
    {
      "cell_type": "markdown",
      "metadata": {
        "id": "gqyprtgkiL91"
      },
      "source": [
        "# HW6 due 5p Fri May 14, 2021\n",
        "\n",
        "You are welcome (and encouraged) to work with others, but each individual must submit their own writeup.\n",
        "You can do the Group work portion in class with your classmates on Wednesdays to get full credit, but you can choose to do that portion individually and submit it along with your hw for a grade (i.e. you will not automatically get full credit). \n",
        "\n",
        "You are welcome to use analytical and numerical computational tools; if you do, include the **commented** sourcecode in your submission.\n",
        "\n",
        "You are welcome to consult websites, textbooks, and other materials; if you do, include a full citation in your writeup.\n",
        "\n",
        "**Important:** before you do any work in the Colaboratory notebook, click \"File -> Save a copy in Drive ...\" and rename the file to something memorable.\n",
        "\n",
        "**Also important:** To produce a .pdf for submission to Canvas, click \"File -> Print\" (or press Ctrl/Cmd + P), and choose \"Save to PDF\" or \"Microsoft Print to PDF\" as your printer."
      ]
    },
    {
      "cell_type": "markdown",
      "metadata": {
        "id": "Bn6y5JwTYfI4"
      },
      "source": [
        "# Group work -- Wed May 12\n",
        "\n",
        "I encourage you to attend the group work session on Wednesdays to complete the group work portion of your homework -- you will get full credit as long as you participate and make an effort on the problem. This is also a great opportunity to get to know your classmates. Only one person needs to submit.\n",
        "\n",
        "Please note that only one person can edit the Colaboratory notebook at a time, I recommend creating a copy for yourself and copy pasting your solutions in the discord or Zoom chat if people want to work on different parts of the writeup."
      ]
    },
    {
      "cell_type": "markdown",
      "metadata": {
        "id": "Vm7M73TOYfI6"
      },
      "source": [
        "## 0. Groupmates: [Names of everyone in your group]"
      ]
    },
    {
      "cell_type": "markdown",
      "metadata": {
        "id": "-froK1m7YfI7"
      },
      "source": [
        "## 1. [15 min]:  sensors and systems (don't have to do if submitting individually), ungraded\n",
        "\n",
        "Pick a system/plant/process to discuss. What types of sensors are available to observe your states, and why are some of them more or less desirable to be implemented in real life? Please briefly summarize your discussion points and submit. "
      ]
    },
    {
      "cell_type": "markdown",
      "metadata": {
        "id": "FdV5CUtmjM26"
      },
      "source": [
        "## 2. state and output feedback\n",
        "\n",
        "***Purpose:*** apply analytical and computational techniques to observe and control the state of a system.\n",
        "\n",
        "Consider the following model of a robot arm that consists of a rigid rod of length $\\ell$ attached to a point mass $m$ at one end and a rotational joint at the other end,\n",
        "\n",
        "$$ \\ m \\ell^2 \\ddot{\\theta} = m g \\ell \\sin\\theta - \\gamma\\dot{\\theta} + \\tau, $$\n",
        "\n",
        "where \n",
        "$\\gamma$ is a coefficient of friction for the rotational joint \n",
        "and \n",
        "$\\tau$ is a torque applied by a motor attached to the rotational joint.\n",
        "\n",
        "With state $x = (\\theta,\\dot{\\theta})$ and input $u = \\tau$, linearizing the dynamics around the vertical equilibrium $x_e = (\\theta_e,\\dot{\\theta}_e) = (0,0)$, $u_e = \\tau_e = 0$ yields the linear control system\n",
        "\n",
        "$$ \\dot{\\delta x} = A \\delta x + B \\delta u $$\n",
        "\n",
        "where $x \\approx x_e + \\delta x$, $u \\approx u_e + \\delta u$,\n",
        "\n",
        "$$\n",
        "A = \\left[\\begin{matrix} 0 & 1 \\\\ \\frac{g}{\\ell} & -\\frac{\\gamma}{m\\ell^2} \\end{matrix}\\right], \\ \n",
        "B = \\left[\\begin{matrix} 0 \\\\ \\frac{1}{m\\ell^2} \\end{matrix}\\right].\n",
        "$$\n",
        "\n",
        "a. Design a linear state-feedback law $\\delta u = - K \\delta x$ that gives a closed-loop characteristic polynomial $s^2 + 2\\zeta\\omega s + \\omega^2$ that corresponds to a second-order system that is ***overdamped*** ($\\zeta = 3/2$) and has ***natural frequency*** $\\omega = 2$Hz (refer to group work 4 for a quick overview of what overdamped means).\n",
        "\n",
        "---\n",
        "**SOLUTION**\n",
        "\n",
        "To solve this problem, first we will determine the closed-loop system that results from the feedback transformation $\\delta u = -K\\delta x$. Then, we will use the characteristic polynomial to determine the relationship between the feedback gains of $K$ and the parameters $\\zeta, \\omega$. \n",
        "\n",
        "Let $K = [k_1, k_2]$. Then the closed-loop system has the statespace representation\n",
        "\n",
        "$$\n",
        "\\delta \\dot{x} = (A-BK)\\delta x = \n",
        "\\left[\n",
        "\n",
        "\\begin{array}{cc}\n",
        "0 & 1 \\\\ \\cfrac{g}{l}-\\cfrac{k_1}{ml^2} & \\cfrac{-\\gamma-k_2}{ml^2}\n",
        "\\end{array}\n",
        "\n",
        "\\right]\\delta x.\n",
        "$$\n",
        "\n",
        "The characteristic polynomial is given by the determinant of $\\lambda I - (A-BK)$, which provides\n",
        "\n",
        "$$\n",
        " \\lambda^2 + \\left(\\cfrac{k_2+\\gamma}{ml^2}\\right)\\lambda - \\cfrac{g}{l}+\\cfrac{k_1}{ml^2} .\n",
        "$$\n",
        "\n",
        "We seek to equate the characteristic polynomial with \n",
        "\n",
        "$$ s^2 + 2\\omega\\zeta s + \\omega^2 $$\n",
        "\n",
        "hence,\n",
        "\n",
        "$$ k_1 = ml^2\\left(\\omega^2+\\cfrac{g}{l}\\right)$$\n",
        "\n",
        "$$ k_2 = (2\\zeta\\omega)(ml^2)-\\gamma$$\n",
        "\n",
        "Finally, with $\\omega = 2$ and $\\zeta = \\cfrac{3}{2}$ we have\n",
        "\n",
        "$$ k_1 = 4 ml^2 + mgl $$\n",
        "\n",
        "$$ k_2 = 6 ml^2 - \\gamma $$\n",
        "\n",
        "---\n",
        "\n",
        "b. Verify that the `ctrl.place` command gives the same answer as (a.) when you use parameter values $m = 1$ kg, $\\ell = 1$ m, $g = 9.81$ m sec$^{-2}$, $\\gamma = 1$.\n",
        "\n",
        "c. Implement a simulation of the closed-loop system using parameter values from (b.) to verify that the closed-loop dynamics are as expected.\n"
      ]
    },
    {
      "cell_type": "code",
      "execution_count": 1,
      "metadata": {},
      "outputs": [
        {
          "output_type": "stream",
          "name": "stdout",
          "text": [
            "[[13.81  5.  ]]\n[[13.81, 5.0]]\n"
          ]
        }
      ],
      "source": [
        "# part b SOLUTION\n",
        "import numpy as np \n",
        "import control as ctrl\n",
        "\n",
        "A = np.array([[0,1],[9.81, -1]])\n",
        "B = np.array([[0,1]]).T\n",
        "\n",
        "omega = 2.\n",
        "zeta = 3./2.\n",
        "\n",
        "# calculate location of poles from quadratic formula\n",
        "p = [\n",
        "(-2*zeta*omega + np.sqrt((2*zeta*omega)**2-4*omega**2+0j))/2.,\n",
        "    (-2*zeta*omega - np.sqrt((2*zeta*omega)**2-4*omega**2+0j))/2.\n",
        "]\n",
        "\n",
        "# place poles using ctrl.place\n",
        "K = ctrl.place(A,B,p)\n",
        "print(K)\n",
        "\n",
        "# compare to hand solutions\n",
        "k1 = 4.+9.81\n",
        "k2 = 6.-1\n",
        "print([[k1, k2]])"
      ]
    },
    {
      "cell_type": "code",
      "execution_count": 5,
      "metadata": {},
      "outputs": [
        {
          "output_type": "execute_result",
          "data": {
            "text/plain": [
              "<matplotlib.legend.Legend at 0x2ac4a185f60>"
            ]
          },
          "metadata": {},
          "execution_count": 5
        },
        {
          "output_type": "display_data",
          "data": {
            "text/plain": "<Figure size 432x288 with 1 Axes>",
            "image/svg+xml": "<?xml version=\"1.0\" encoding=\"utf-8\" standalone=\"no\"?>\r\n<!DOCTYPE svg PUBLIC \"-//W3C//DTD SVG 1.1//EN\"\r\n  \"http://www.w3.org/Graphics/SVG/1.1/DTD/svg11.dtd\">\r\n<!-- Created with matplotlib (https://matplotlib.org/) -->\r\n<svg height=\"262.19625pt\" version=\"1.1\" viewBox=\"0 0 380.482813 262.19625\" width=\"380.482813pt\" xmlns=\"http://www.w3.org/2000/svg\" xmlns:xlink=\"http://www.w3.org/1999/xlink\">\r\n <defs>\r\n  <style type=\"text/css\">\r\n*{stroke-linecap:butt;stroke-linejoin:round;}\r\n  </style>\r\n </defs>\r\n <g id=\"figure_1\">\r\n  <g id=\"patch_1\">\r\n   <path d=\"M -0 262.19625 \r\nL 380.482813 262.19625 \r\nL 380.482813 0 \r\nL -0 0 \r\nz\r\n\" style=\"fill:none;\"/>\r\n  </g>\r\n  <g id=\"axes_1\">\r\n   <g id=\"patch_2\">\r\n    <path d=\"M 38.482813 224.64 \r\nL 373.282813 224.64 \r\nL 373.282813 7.2 \r\nL 38.482813 7.2 \r\nz\r\n\" style=\"fill:#ffffff;\"/>\r\n   </g>\r\n   <g id=\"matplotlib.axis_1\">\r\n    <g id=\"xtick_1\">\r\n     <g id=\"line2d_1\">\r\n      <defs>\r\n       <path d=\"M 0 0 \r\nL 0 3.5 \r\n\" id=\"m157d39df7b\" style=\"stroke:#000000;stroke-width:0.8;\"/>\r\n      </defs>\r\n      <g>\r\n       <use style=\"stroke:#000000;stroke-width:0.8;\" x=\"53.700994\" xlink:href=\"#m157d39df7b\" y=\"224.64\"/>\r\n      </g>\r\n     </g>\r\n     <g id=\"text_1\">\r\n      <!-- 0 -->\r\n      <defs>\r\n       <path d=\"M 31.78125 66.40625 \r\nQ 24.171875 66.40625 20.328125 58.90625 \r\nQ 16.5 51.421875 16.5 36.375 \r\nQ 16.5 21.390625 20.328125 13.890625 \r\nQ 24.171875 6.390625 31.78125 6.390625 \r\nQ 39.453125 6.390625 43.28125 13.890625 \r\nQ 47.125 21.390625 47.125 36.375 \r\nQ 47.125 51.421875 43.28125 58.90625 \r\nQ 39.453125 66.40625 31.78125 66.40625 \r\nz\r\nM 31.78125 74.21875 \r\nQ 44.046875 74.21875 50.515625 64.515625 \r\nQ 56.984375 54.828125 56.984375 36.375 \r\nQ 56.984375 17.96875 50.515625 8.265625 \r\nQ 44.046875 -1.421875 31.78125 -1.421875 \r\nQ 19.53125 -1.421875 13.0625 8.265625 \r\nQ 6.59375 17.96875 6.59375 36.375 \r\nQ 6.59375 54.828125 13.0625 64.515625 \r\nQ 19.53125 74.21875 31.78125 74.21875 \r\nz\r\n\" id=\"DejaVuSans-48\"/>\r\n      </defs>\r\n      <g transform=\"translate(50.519744 239.238437)scale(0.1 -0.1)\">\r\n       <use xlink:href=\"#DejaVuSans-48\"/>\r\n      </g>\r\n     </g>\r\n    </g>\r\n    <g id=\"xtick_2\">\r\n     <g id=\"line2d_2\">\r\n      <g>\r\n       <use style=\"stroke:#000000;stroke-width:0.8;\" x=\"114.573722\" xlink:href=\"#m157d39df7b\" y=\"224.64\"/>\r\n      </g>\r\n     </g>\r\n     <g id=\"text_2\">\r\n      <!-- 2 -->\r\n      <defs>\r\n       <path d=\"M 19.1875 8.296875 \r\nL 53.609375 8.296875 \r\nL 53.609375 0 \r\nL 7.328125 0 \r\nL 7.328125 8.296875 \r\nQ 12.9375 14.109375 22.625 23.890625 \r\nQ 32.328125 33.6875 34.8125 36.53125 \r\nQ 39.546875 41.84375 41.421875 45.53125 \r\nQ 43.3125 49.21875 43.3125 52.78125 \r\nQ 43.3125 58.59375 39.234375 62.25 \r\nQ 35.15625 65.921875 28.609375 65.921875 \r\nQ 23.96875 65.921875 18.8125 64.3125 \r\nQ 13.671875 62.703125 7.8125 59.421875 \r\nL 7.8125 69.390625 \r\nQ 13.765625 71.78125 18.9375 73 \r\nQ 24.125 74.21875 28.421875 74.21875 \r\nQ 39.75 74.21875 46.484375 68.546875 \r\nQ 53.21875 62.890625 53.21875 53.421875 \r\nQ 53.21875 48.921875 51.53125 44.890625 \r\nQ 49.859375 40.875 45.40625 35.40625 \r\nQ 44.1875 33.984375 37.640625 27.21875 \r\nQ 31.109375 20.453125 19.1875 8.296875 \r\nz\r\n\" id=\"DejaVuSans-50\"/>\r\n      </defs>\r\n      <g transform=\"translate(111.392472 239.238437)scale(0.1 -0.1)\">\r\n       <use xlink:href=\"#DejaVuSans-50\"/>\r\n      </g>\r\n     </g>\r\n    </g>\r\n    <g id=\"xtick_3\">\r\n     <g id=\"line2d_3\">\r\n      <g>\r\n       <use style=\"stroke:#000000;stroke-width:0.8;\" x=\"175.446449\" xlink:href=\"#m157d39df7b\" y=\"224.64\"/>\r\n      </g>\r\n     </g>\r\n     <g id=\"text_3\">\r\n      <!-- 4 -->\r\n      <defs>\r\n       <path d=\"M 37.796875 64.3125 \r\nL 12.890625 25.390625 \r\nL 37.796875 25.390625 \r\nz\r\nM 35.203125 72.90625 \r\nL 47.609375 72.90625 \r\nL 47.609375 25.390625 \r\nL 58.015625 25.390625 \r\nL 58.015625 17.1875 \r\nL 47.609375 17.1875 \r\nL 47.609375 0 \r\nL 37.796875 0 \r\nL 37.796875 17.1875 \r\nL 4.890625 17.1875 \r\nL 4.890625 26.703125 \r\nz\r\n\" id=\"DejaVuSans-52\"/>\r\n      </defs>\r\n      <g transform=\"translate(172.265199 239.238437)scale(0.1 -0.1)\">\r\n       <use xlink:href=\"#DejaVuSans-52\"/>\r\n      </g>\r\n     </g>\r\n    </g>\r\n    <g id=\"xtick_4\">\r\n     <g id=\"line2d_4\">\r\n      <g>\r\n       <use style=\"stroke:#000000;stroke-width:0.8;\" x=\"236.319176\" xlink:href=\"#m157d39df7b\" y=\"224.64\"/>\r\n      </g>\r\n     </g>\r\n     <g id=\"text_4\">\r\n      <!-- 6 -->\r\n      <defs>\r\n       <path d=\"M 33.015625 40.375 \r\nQ 26.375 40.375 22.484375 35.828125 \r\nQ 18.609375 31.296875 18.609375 23.390625 \r\nQ 18.609375 15.53125 22.484375 10.953125 \r\nQ 26.375 6.390625 33.015625 6.390625 \r\nQ 39.65625 6.390625 43.53125 10.953125 \r\nQ 47.40625 15.53125 47.40625 23.390625 \r\nQ 47.40625 31.296875 43.53125 35.828125 \r\nQ 39.65625 40.375 33.015625 40.375 \r\nz\r\nM 52.59375 71.296875 \r\nL 52.59375 62.3125 \r\nQ 48.875 64.0625 45.09375 64.984375 \r\nQ 41.3125 65.921875 37.59375 65.921875 \r\nQ 27.828125 65.921875 22.671875 59.328125 \r\nQ 17.53125 52.734375 16.796875 39.40625 \r\nQ 19.671875 43.65625 24.015625 45.921875 \r\nQ 28.375 48.1875 33.59375 48.1875 \r\nQ 44.578125 48.1875 50.953125 41.515625 \r\nQ 57.328125 34.859375 57.328125 23.390625 \r\nQ 57.328125 12.15625 50.6875 5.359375 \r\nQ 44.046875 -1.421875 33.015625 -1.421875 \r\nQ 20.359375 -1.421875 13.671875 8.265625 \r\nQ 6.984375 17.96875 6.984375 36.375 \r\nQ 6.984375 53.65625 15.1875 63.9375 \r\nQ 23.390625 74.21875 37.203125 74.21875 \r\nQ 40.921875 74.21875 44.703125 73.484375 \r\nQ 48.484375 72.75 52.59375 71.296875 \r\nz\r\n\" id=\"DejaVuSans-54\"/>\r\n      </defs>\r\n      <g transform=\"translate(233.137926 239.238437)scale(0.1 -0.1)\">\r\n       <use xlink:href=\"#DejaVuSans-54\"/>\r\n      </g>\r\n     </g>\r\n    </g>\r\n    <g id=\"xtick_5\">\r\n     <g id=\"line2d_5\">\r\n      <g>\r\n       <use style=\"stroke:#000000;stroke-width:0.8;\" x=\"297.191903\" xlink:href=\"#m157d39df7b\" y=\"224.64\"/>\r\n      </g>\r\n     </g>\r\n     <g id=\"text_5\">\r\n      <!-- 8 -->\r\n      <defs>\r\n       <path d=\"M 31.78125 34.625 \r\nQ 24.75 34.625 20.71875 30.859375 \r\nQ 16.703125 27.09375 16.703125 20.515625 \r\nQ 16.703125 13.921875 20.71875 10.15625 \r\nQ 24.75 6.390625 31.78125 6.390625 \r\nQ 38.8125 6.390625 42.859375 10.171875 \r\nQ 46.921875 13.96875 46.921875 20.515625 \r\nQ 46.921875 27.09375 42.890625 30.859375 \r\nQ 38.875 34.625 31.78125 34.625 \r\nz\r\nM 21.921875 38.8125 \r\nQ 15.578125 40.375 12.03125 44.71875 \r\nQ 8.5 49.078125 8.5 55.328125 \r\nQ 8.5 64.0625 14.71875 69.140625 \r\nQ 20.953125 74.21875 31.78125 74.21875 \r\nQ 42.671875 74.21875 48.875 69.140625 \r\nQ 55.078125 64.0625 55.078125 55.328125 \r\nQ 55.078125 49.078125 51.53125 44.71875 \r\nQ 48 40.375 41.703125 38.8125 \r\nQ 48.828125 37.15625 52.796875 32.3125 \r\nQ 56.78125 27.484375 56.78125 20.515625 \r\nQ 56.78125 9.90625 50.3125 4.234375 \r\nQ 43.84375 -1.421875 31.78125 -1.421875 \r\nQ 19.734375 -1.421875 13.25 4.234375 \r\nQ 6.78125 9.90625 6.78125 20.515625 \r\nQ 6.78125 27.484375 10.78125 32.3125 \r\nQ 14.796875 37.15625 21.921875 38.8125 \r\nz\r\nM 18.3125 54.390625 \r\nQ 18.3125 48.734375 21.84375 45.5625 \r\nQ 25.390625 42.390625 31.78125 42.390625 \r\nQ 38.140625 42.390625 41.71875 45.5625 \r\nQ 45.3125 48.734375 45.3125 54.390625 \r\nQ 45.3125 60.0625 41.71875 63.234375 \r\nQ 38.140625 66.40625 31.78125 66.40625 \r\nQ 25.390625 66.40625 21.84375 63.234375 \r\nQ 18.3125 60.0625 18.3125 54.390625 \r\nz\r\n\" id=\"DejaVuSans-56\"/>\r\n      </defs>\r\n      <g transform=\"translate(294.010653 239.238437)scale(0.1 -0.1)\">\r\n       <use xlink:href=\"#DejaVuSans-56\"/>\r\n      </g>\r\n     </g>\r\n    </g>\r\n    <g id=\"xtick_6\">\r\n     <g id=\"line2d_6\">\r\n      <g>\r\n       <use style=\"stroke:#000000;stroke-width:0.8;\" x=\"358.064631\" xlink:href=\"#m157d39df7b\" y=\"224.64\"/>\r\n      </g>\r\n     </g>\r\n     <g id=\"text_6\">\r\n      <!-- 10 -->\r\n      <defs>\r\n       <path d=\"M 12.40625 8.296875 \r\nL 28.515625 8.296875 \r\nL 28.515625 63.921875 \r\nL 10.984375 60.40625 \r\nL 10.984375 69.390625 \r\nL 28.421875 72.90625 \r\nL 38.28125 72.90625 \r\nL 38.28125 8.296875 \r\nL 54.390625 8.296875 \r\nL 54.390625 0 \r\nL 12.40625 0 \r\nz\r\n\" id=\"DejaVuSans-49\"/>\r\n      </defs>\r\n      <g transform=\"translate(351.702131 239.238437)scale(0.1 -0.1)\">\r\n       <use xlink:href=\"#DejaVuSans-49\"/>\r\n       <use x=\"63.623047\" xlink:href=\"#DejaVuSans-48\"/>\r\n      </g>\r\n     </g>\r\n    </g>\r\n    <g id=\"text_7\">\r\n     <!-- time (seconds) -->\r\n     <defs>\r\n      <path d=\"M 18.3125 70.21875 \r\nL 18.3125 54.6875 \r\nL 36.8125 54.6875 \r\nL 36.8125 47.703125 \r\nL 18.3125 47.703125 \r\nL 18.3125 18.015625 \r\nQ 18.3125 11.328125 20.140625 9.421875 \r\nQ 21.96875 7.515625 27.59375 7.515625 \r\nL 36.8125 7.515625 \r\nL 36.8125 0 \r\nL 27.59375 0 \r\nQ 17.1875 0 13.234375 3.875 \r\nQ 9.28125 7.765625 9.28125 18.015625 \r\nL 9.28125 47.703125 \r\nL 2.6875 47.703125 \r\nL 2.6875 54.6875 \r\nL 9.28125 54.6875 \r\nL 9.28125 70.21875 \r\nz\r\n\" id=\"DejaVuSans-116\"/>\r\n      <path d=\"M 9.421875 54.6875 \r\nL 18.40625 54.6875 \r\nL 18.40625 0 \r\nL 9.421875 0 \r\nz\r\nM 9.421875 75.984375 \r\nL 18.40625 75.984375 \r\nL 18.40625 64.59375 \r\nL 9.421875 64.59375 \r\nz\r\n\" id=\"DejaVuSans-105\"/>\r\n      <path d=\"M 52 44.1875 \r\nQ 55.375 50.25 60.0625 53.125 \r\nQ 64.75 56 71.09375 56 \r\nQ 79.640625 56 84.28125 50.015625 \r\nQ 88.921875 44.046875 88.921875 33.015625 \r\nL 88.921875 0 \r\nL 79.890625 0 \r\nL 79.890625 32.71875 \r\nQ 79.890625 40.578125 77.09375 44.375 \r\nQ 74.3125 48.1875 68.609375 48.1875 \r\nQ 61.625 48.1875 57.5625 43.546875 \r\nQ 53.515625 38.921875 53.515625 30.90625 \r\nL 53.515625 0 \r\nL 44.484375 0 \r\nL 44.484375 32.71875 \r\nQ 44.484375 40.625 41.703125 44.40625 \r\nQ 38.921875 48.1875 33.109375 48.1875 \r\nQ 26.21875 48.1875 22.15625 43.53125 \r\nQ 18.109375 38.875 18.109375 30.90625 \r\nL 18.109375 0 \r\nL 9.078125 0 \r\nL 9.078125 54.6875 \r\nL 18.109375 54.6875 \r\nL 18.109375 46.1875 \r\nQ 21.1875 51.21875 25.484375 53.609375 \r\nQ 29.78125 56 35.6875 56 \r\nQ 41.65625 56 45.828125 52.96875 \r\nQ 50 49.953125 52 44.1875 \r\nz\r\n\" id=\"DejaVuSans-109\"/>\r\n      <path d=\"M 56.203125 29.59375 \r\nL 56.203125 25.203125 \r\nL 14.890625 25.203125 \r\nQ 15.484375 15.921875 20.484375 11.0625 \r\nQ 25.484375 6.203125 34.421875 6.203125 \r\nQ 39.59375 6.203125 44.453125 7.46875 \r\nQ 49.3125 8.734375 54.109375 11.28125 \r\nL 54.109375 2.78125 \r\nQ 49.265625 0.734375 44.1875 -0.34375 \r\nQ 39.109375 -1.421875 33.890625 -1.421875 \r\nQ 20.796875 -1.421875 13.15625 6.1875 \r\nQ 5.515625 13.8125 5.515625 26.8125 \r\nQ 5.515625 40.234375 12.765625 48.109375 \r\nQ 20.015625 56 32.328125 56 \r\nQ 43.359375 56 49.78125 48.890625 \r\nQ 56.203125 41.796875 56.203125 29.59375 \r\nz\r\nM 47.21875 32.234375 \r\nQ 47.125 39.59375 43.09375 43.984375 \r\nQ 39.0625 48.390625 32.421875 48.390625 \r\nQ 24.90625 48.390625 20.390625 44.140625 \r\nQ 15.875 39.890625 15.1875 32.171875 \r\nz\r\n\" id=\"DejaVuSans-101\"/>\r\n      <path id=\"DejaVuSans-32\"/>\r\n      <path d=\"M 31 75.875 \r\nQ 24.46875 64.65625 21.28125 53.65625 \r\nQ 18.109375 42.671875 18.109375 31.390625 \r\nQ 18.109375 20.125 21.3125 9.0625 \r\nQ 24.515625 -2 31 -13.1875 \r\nL 23.1875 -13.1875 \r\nQ 15.875 -1.703125 12.234375 9.375 \r\nQ 8.59375 20.453125 8.59375 31.390625 \r\nQ 8.59375 42.28125 12.203125 53.3125 \r\nQ 15.828125 64.359375 23.1875 75.875 \r\nz\r\n\" id=\"DejaVuSans-40\"/>\r\n      <path d=\"M 44.28125 53.078125 \r\nL 44.28125 44.578125 \r\nQ 40.484375 46.53125 36.375 47.5 \r\nQ 32.28125 48.484375 27.875 48.484375 \r\nQ 21.1875 48.484375 17.84375 46.4375 \r\nQ 14.5 44.390625 14.5 40.28125 \r\nQ 14.5 37.15625 16.890625 35.375 \r\nQ 19.28125 33.59375 26.515625 31.984375 \r\nL 29.59375 31.296875 \r\nQ 39.15625 29.25 43.1875 25.515625 \r\nQ 47.21875 21.78125 47.21875 15.09375 \r\nQ 47.21875 7.46875 41.1875 3.015625 \r\nQ 35.15625 -1.421875 24.609375 -1.421875 \r\nQ 20.21875 -1.421875 15.453125 -0.5625 \r\nQ 10.6875 0.296875 5.421875 2 \r\nL 5.421875 11.28125 \r\nQ 10.40625 8.6875 15.234375 7.390625 \r\nQ 20.0625 6.109375 24.8125 6.109375 \r\nQ 31.15625 6.109375 34.5625 8.28125 \r\nQ 37.984375 10.453125 37.984375 14.40625 \r\nQ 37.984375 18.0625 35.515625 20.015625 \r\nQ 33.0625 21.96875 24.703125 23.78125 \r\nL 21.578125 24.515625 \r\nQ 13.234375 26.265625 9.515625 29.90625 \r\nQ 5.8125 33.546875 5.8125 39.890625 \r\nQ 5.8125 47.609375 11.28125 51.796875 \r\nQ 16.75 56 26.8125 56 \r\nQ 31.78125 56 36.171875 55.265625 \r\nQ 40.578125 54.546875 44.28125 53.078125 \r\nz\r\n\" id=\"DejaVuSans-115\"/>\r\n      <path d=\"M 48.78125 52.59375 \r\nL 48.78125 44.1875 \r\nQ 44.96875 46.296875 41.140625 47.34375 \r\nQ 37.3125 48.390625 33.40625 48.390625 \r\nQ 24.65625 48.390625 19.8125 42.84375 \r\nQ 14.984375 37.3125 14.984375 27.296875 \r\nQ 14.984375 17.28125 19.8125 11.734375 \r\nQ 24.65625 6.203125 33.40625 6.203125 \r\nQ 37.3125 6.203125 41.140625 7.25 \r\nQ 44.96875 8.296875 48.78125 10.40625 \r\nL 48.78125 2.09375 \r\nQ 45.015625 0.34375 40.984375 -0.53125 \r\nQ 36.96875 -1.421875 32.421875 -1.421875 \r\nQ 20.0625 -1.421875 12.78125 6.34375 \r\nQ 5.515625 14.109375 5.515625 27.296875 \r\nQ 5.515625 40.671875 12.859375 48.328125 \r\nQ 20.21875 56 33.015625 56 \r\nQ 37.15625 56 41.109375 55.140625 \r\nQ 45.0625 54.296875 48.78125 52.59375 \r\nz\r\n\" id=\"DejaVuSans-99\"/>\r\n      <path d=\"M 30.609375 48.390625 \r\nQ 23.390625 48.390625 19.1875 42.75 \r\nQ 14.984375 37.109375 14.984375 27.296875 \r\nQ 14.984375 17.484375 19.15625 11.84375 \r\nQ 23.34375 6.203125 30.609375 6.203125 \r\nQ 37.796875 6.203125 41.984375 11.859375 \r\nQ 46.1875 17.53125 46.1875 27.296875 \r\nQ 46.1875 37.015625 41.984375 42.703125 \r\nQ 37.796875 48.390625 30.609375 48.390625 \r\nz\r\nM 30.609375 56 \r\nQ 42.328125 56 49.015625 48.375 \r\nQ 55.71875 40.765625 55.71875 27.296875 \r\nQ 55.71875 13.875 49.015625 6.21875 \r\nQ 42.328125 -1.421875 30.609375 -1.421875 \r\nQ 18.84375 -1.421875 12.171875 6.21875 \r\nQ 5.515625 13.875 5.515625 27.296875 \r\nQ 5.515625 40.765625 12.171875 48.375 \r\nQ 18.84375 56 30.609375 56 \r\nz\r\n\" id=\"DejaVuSans-111\"/>\r\n      <path d=\"M 54.890625 33.015625 \r\nL 54.890625 0 \r\nL 45.90625 0 \r\nL 45.90625 32.71875 \r\nQ 45.90625 40.484375 42.875 44.328125 \r\nQ 39.84375 48.1875 33.796875 48.1875 \r\nQ 26.515625 48.1875 22.3125 43.546875 \r\nQ 18.109375 38.921875 18.109375 30.90625 \r\nL 18.109375 0 \r\nL 9.078125 0 \r\nL 9.078125 54.6875 \r\nL 18.109375 54.6875 \r\nL 18.109375 46.1875 \r\nQ 21.34375 51.125 25.703125 53.5625 \r\nQ 30.078125 56 35.796875 56 \r\nQ 45.21875 56 50.046875 50.171875 \r\nQ 54.890625 44.34375 54.890625 33.015625 \r\nz\r\n\" id=\"DejaVuSans-110\"/>\r\n      <path d=\"M 45.40625 46.390625 \r\nL 45.40625 75.984375 \r\nL 54.390625 75.984375 \r\nL 54.390625 0 \r\nL 45.40625 0 \r\nL 45.40625 8.203125 \r\nQ 42.578125 3.328125 38.25 0.953125 \r\nQ 33.9375 -1.421875 27.875 -1.421875 \r\nQ 17.96875 -1.421875 11.734375 6.484375 \r\nQ 5.515625 14.40625 5.515625 27.296875 \r\nQ 5.515625 40.1875 11.734375 48.09375 \r\nQ 17.96875 56 27.875 56 \r\nQ 33.9375 56 38.25 53.625 \r\nQ 42.578125 51.265625 45.40625 46.390625 \r\nz\r\nM 14.796875 27.296875 \r\nQ 14.796875 17.390625 18.875 11.75 \r\nQ 22.953125 6.109375 30.078125 6.109375 \r\nQ 37.203125 6.109375 41.296875 11.75 \r\nQ 45.40625 17.390625 45.40625 27.296875 \r\nQ 45.40625 37.203125 41.296875 42.84375 \r\nQ 37.203125 48.484375 30.078125 48.484375 \r\nQ 22.953125 48.484375 18.875 42.84375 \r\nQ 14.796875 37.203125 14.796875 27.296875 \r\nz\r\n\" id=\"DejaVuSans-100\"/>\r\n      <path d=\"M 8.015625 75.875 \r\nL 15.828125 75.875 \r\nQ 23.140625 64.359375 26.78125 53.3125 \r\nQ 30.421875 42.28125 30.421875 31.390625 \r\nQ 30.421875 20.453125 26.78125 9.375 \r\nQ 23.140625 -1.703125 15.828125 -13.1875 \r\nL 8.015625 -13.1875 \r\nQ 14.5 -2 17.703125 9.0625 \r\nQ 20.90625 20.125 20.90625 31.390625 \r\nQ 20.90625 42.671875 17.703125 53.65625 \r\nQ 14.5 64.65625 8.015625 75.875 \r\nz\r\n\" id=\"DejaVuSans-41\"/>\r\n     </defs>\r\n     <g transform=\"translate(168.658594 252.916562)scale(0.1 -0.1)\">\r\n      <use xlink:href=\"#DejaVuSans-116\"/>\r\n      <use x=\"39.208984\" xlink:href=\"#DejaVuSans-105\"/>\r\n      <use x=\"66.992188\" xlink:href=\"#DejaVuSans-109\"/>\r\n      <use x=\"164.404297\" xlink:href=\"#DejaVuSans-101\"/>\r\n      <use x=\"225.927734\" xlink:href=\"#DejaVuSans-32\"/>\r\n      <use x=\"257.714844\" xlink:href=\"#DejaVuSans-40\"/>\r\n      <use x=\"296.728516\" xlink:href=\"#DejaVuSans-115\"/>\r\n      <use x=\"348.828125\" xlink:href=\"#DejaVuSans-101\"/>\r\n      <use x=\"410.351562\" xlink:href=\"#DejaVuSans-99\"/>\r\n      <use x=\"465.332031\" xlink:href=\"#DejaVuSans-111\"/>\r\n      <use x=\"526.513672\" xlink:href=\"#DejaVuSans-110\"/>\r\n      <use x=\"589.892578\" xlink:href=\"#DejaVuSans-100\"/>\r\n      <use x=\"653.369141\" xlink:href=\"#DejaVuSans-115\"/>\r\n      <use x=\"705.46875\" xlink:href=\"#DejaVuSans-41\"/>\r\n     </g>\r\n    </g>\r\n   </g>\r\n   <g id=\"matplotlib.axis_2\">\r\n    <g id=\"ytick_1\">\r\n     <g id=\"line2d_7\">\r\n      <defs>\r\n       <path d=\"M 0 0 \r\nL -3.5 0 \r\n\" id=\"m03bae01a30\" style=\"stroke:#000000;stroke-width:0.8;\"/>\r\n      </defs>\r\n      <g>\r\n       <use style=\"stroke:#000000;stroke-width:0.8;\" x=\"38.482813\" xlink:href=\"#m03bae01a30\" y=\"217.078884\"/>\r\n      </g>\r\n     </g>\r\n     <g id=\"text_8\">\r\n      <!-- −0.3 -->\r\n      <defs>\r\n       <path d=\"M 10.59375 35.5 \r\nL 73.1875 35.5 \r\nL 73.1875 27.203125 \r\nL 10.59375 27.203125 \r\nz\r\n\" id=\"DejaVuSans-8722\"/>\r\n       <path d=\"M 10.6875 12.40625 \r\nL 21 12.40625 \r\nL 21 0 \r\nL 10.6875 0 \r\nz\r\n\" id=\"DejaVuSans-46\"/>\r\n       <path d=\"M 40.578125 39.3125 \r\nQ 47.65625 37.796875 51.625 33 \r\nQ 55.609375 28.21875 55.609375 21.1875 \r\nQ 55.609375 10.40625 48.1875 4.484375 \r\nQ 40.765625 -1.421875 27.09375 -1.421875 \r\nQ 22.515625 -1.421875 17.65625 -0.515625 \r\nQ 12.796875 0.390625 7.625 2.203125 \r\nL 7.625 11.71875 \r\nQ 11.71875 9.328125 16.59375 8.109375 \r\nQ 21.484375 6.890625 26.8125 6.890625 \r\nQ 36.078125 6.890625 40.9375 10.546875 \r\nQ 45.796875 14.203125 45.796875 21.1875 \r\nQ 45.796875 27.640625 41.28125 31.265625 \r\nQ 36.765625 34.90625 28.71875 34.90625 \r\nL 20.21875 34.90625 \r\nL 20.21875 43.015625 \r\nL 29.109375 43.015625 \r\nQ 36.375 43.015625 40.234375 45.921875 \r\nQ 44.09375 48.828125 44.09375 54.296875 \r\nQ 44.09375 59.90625 40.109375 62.90625 \r\nQ 36.140625 65.921875 28.71875 65.921875 \r\nQ 24.65625 65.921875 20.015625 65.03125 \r\nQ 15.375 64.15625 9.8125 62.3125 \r\nL 9.8125 71.09375 \r\nQ 15.4375 72.65625 20.34375 73.4375 \r\nQ 25.25 74.21875 29.59375 74.21875 \r\nQ 40.828125 74.21875 47.359375 69.109375 \r\nQ 53.90625 64.015625 53.90625 55.328125 \r\nQ 53.90625 49.265625 50.4375 45.09375 \r\nQ 46.96875 40.921875 40.578125 39.3125 \r\nz\r\n\" id=\"DejaVuSans-51\"/>\r\n      </defs>\r\n      <g transform=\"translate(7.2 220.878103)scale(0.1 -0.1)\">\r\n       <use xlink:href=\"#DejaVuSans-8722\"/>\r\n       <use x=\"83.789062\" xlink:href=\"#DejaVuSans-48\"/>\r\n       <use x=\"147.412109\" xlink:href=\"#DejaVuSans-46\"/>\r\n       <use x=\"179.199219\" xlink:href=\"#DejaVuSans-51\"/>\r\n      </g>\r\n     </g>\r\n    </g>\r\n    <g id=\"ytick_2\">\r\n     <g id=\"line2d_8\">\r\n      <g>\r\n       <use style=\"stroke:#000000;stroke-width:0.8;\" x=\"38.482813\" xlink:href=\"#m03bae01a30\" y=\"192.795792\"/>\r\n      </g>\r\n     </g>\r\n     <g id=\"text_9\">\r\n      <!-- −0.2 -->\r\n      <g transform=\"translate(7.2 196.595011)scale(0.1 -0.1)\">\r\n       <use xlink:href=\"#DejaVuSans-8722\"/>\r\n       <use x=\"83.789062\" xlink:href=\"#DejaVuSans-48\"/>\r\n       <use x=\"147.412109\" xlink:href=\"#DejaVuSans-46\"/>\r\n       <use x=\"179.199219\" xlink:href=\"#DejaVuSans-50\"/>\r\n      </g>\r\n     </g>\r\n    </g>\r\n    <g id=\"ytick_3\">\r\n     <g id=\"line2d_9\">\r\n      <g>\r\n       <use style=\"stroke:#000000;stroke-width:0.8;\" x=\"38.482813\" xlink:href=\"#m03bae01a30\" y=\"168.5127\"/>\r\n      </g>\r\n     </g>\r\n     <g id=\"text_10\">\r\n      <!-- −0.1 -->\r\n      <g transform=\"translate(7.2 172.311919)scale(0.1 -0.1)\">\r\n       <use xlink:href=\"#DejaVuSans-8722\"/>\r\n       <use x=\"83.789062\" xlink:href=\"#DejaVuSans-48\"/>\r\n       <use x=\"147.412109\" xlink:href=\"#DejaVuSans-46\"/>\r\n       <use x=\"179.199219\" xlink:href=\"#DejaVuSans-49\"/>\r\n      </g>\r\n     </g>\r\n    </g>\r\n    <g id=\"ytick_4\">\r\n     <g id=\"line2d_10\">\r\n      <g>\r\n       <use style=\"stroke:#000000;stroke-width:0.8;\" x=\"38.482813\" xlink:href=\"#m03bae01a30\" y=\"144.229608\"/>\r\n      </g>\r\n     </g>\r\n     <g id=\"text_11\">\r\n      <!-- 0.0 -->\r\n      <g transform=\"translate(15.579688 148.028827)scale(0.1 -0.1)\">\r\n       <use xlink:href=\"#DejaVuSans-48\"/>\r\n       <use x=\"63.623047\" xlink:href=\"#DejaVuSans-46\"/>\r\n       <use x=\"95.410156\" xlink:href=\"#DejaVuSans-48\"/>\r\n      </g>\r\n     </g>\r\n    </g>\r\n    <g id=\"ytick_5\">\r\n     <g id=\"line2d_11\">\r\n      <g>\r\n       <use style=\"stroke:#000000;stroke-width:0.8;\" x=\"38.482813\" xlink:href=\"#m03bae01a30\" y=\"119.946516\"/>\r\n      </g>\r\n     </g>\r\n     <g id=\"text_12\">\r\n      <!-- 0.1 -->\r\n      <g transform=\"translate(15.579688 123.745735)scale(0.1 -0.1)\">\r\n       <use xlink:href=\"#DejaVuSans-48\"/>\r\n       <use x=\"63.623047\" xlink:href=\"#DejaVuSans-46\"/>\r\n       <use x=\"95.410156\" xlink:href=\"#DejaVuSans-49\"/>\r\n      </g>\r\n     </g>\r\n    </g>\r\n    <g id=\"ytick_6\">\r\n     <g id=\"line2d_12\">\r\n      <g>\r\n       <use style=\"stroke:#000000;stroke-width:0.8;\" x=\"38.482813\" xlink:href=\"#m03bae01a30\" y=\"95.663424\"/>\r\n      </g>\r\n     </g>\r\n     <g id=\"text_13\">\r\n      <!-- 0.2 -->\r\n      <g transform=\"translate(15.579688 99.462643)scale(0.1 -0.1)\">\r\n       <use xlink:href=\"#DejaVuSans-48\"/>\r\n       <use x=\"63.623047\" xlink:href=\"#DejaVuSans-46\"/>\r\n       <use x=\"95.410156\" xlink:href=\"#DejaVuSans-50\"/>\r\n      </g>\r\n     </g>\r\n    </g>\r\n    <g id=\"ytick_7\">\r\n     <g id=\"line2d_13\">\r\n      <g>\r\n       <use style=\"stroke:#000000;stroke-width:0.8;\" x=\"38.482813\" xlink:href=\"#m03bae01a30\" y=\"71.380332\"/>\r\n      </g>\r\n     </g>\r\n     <g id=\"text_14\">\r\n      <!-- 0.3 -->\r\n      <g transform=\"translate(15.579688 75.179551)scale(0.1 -0.1)\">\r\n       <use xlink:href=\"#DejaVuSans-48\"/>\r\n       <use x=\"63.623047\" xlink:href=\"#DejaVuSans-46\"/>\r\n       <use x=\"95.410156\" xlink:href=\"#DejaVuSans-51\"/>\r\n      </g>\r\n     </g>\r\n    </g>\r\n    <g id=\"ytick_8\">\r\n     <g id=\"line2d_14\">\r\n      <g>\r\n       <use style=\"stroke:#000000;stroke-width:0.8;\" x=\"38.482813\" xlink:href=\"#m03bae01a30\" y=\"47.097241\"/>\r\n      </g>\r\n     </g>\r\n     <g id=\"text_15\">\r\n      <!-- 0.4 -->\r\n      <g transform=\"translate(15.579688 50.896459)scale(0.1 -0.1)\">\r\n       <use xlink:href=\"#DejaVuSans-48\"/>\r\n       <use x=\"63.623047\" xlink:href=\"#DejaVuSans-46\"/>\r\n       <use x=\"95.410156\" xlink:href=\"#DejaVuSans-52\"/>\r\n      </g>\r\n     </g>\r\n    </g>\r\n    <g id=\"ytick_9\">\r\n     <g id=\"line2d_15\">\r\n      <g>\r\n       <use style=\"stroke:#000000;stroke-width:0.8;\" x=\"38.482813\" xlink:href=\"#m03bae01a30\" y=\"22.814149\"/>\r\n      </g>\r\n     </g>\r\n     <g id=\"text_16\">\r\n      <!-- 0.5 -->\r\n      <defs>\r\n       <path d=\"M 10.796875 72.90625 \r\nL 49.515625 72.90625 \r\nL 49.515625 64.59375 \r\nL 19.828125 64.59375 \r\nL 19.828125 46.734375 \r\nQ 21.96875 47.46875 24.109375 47.828125 \r\nQ 26.265625 48.1875 28.421875 48.1875 \r\nQ 40.625 48.1875 47.75 41.5 \r\nQ 54.890625 34.8125 54.890625 23.390625 \r\nQ 54.890625 11.625 47.5625 5.09375 \r\nQ 40.234375 -1.421875 26.90625 -1.421875 \r\nQ 22.3125 -1.421875 17.546875 -0.640625 \r\nQ 12.796875 0.140625 7.71875 1.703125 \r\nL 7.71875 11.625 \r\nQ 12.109375 9.234375 16.796875 8.0625 \r\nQ 21.484375 6.890625 26.703125 6.890625 \r\nQ 35.15625 6.890625 40.078125 11.328125 \r\nQ 45.015625 15.765625 45.015625 23.390625 \r\nQ 45.015625 31 40.078125 35.4375 \r\nQ 35.15625 39.890625 26.703125 39.890625 \r\nQ 22.75 39.890625 18.8125 39.015625 \r\nQ 14.890625 38.140625 10.796875 36.28125 \r\nz\r\n\" id=\"DejaVuSans-53\"/>\r\n      </defs>\r\n      <g transform=\"translate(15.579688 26.613367)scale(0.1 -0.1)\">\r\n       <use xlink:href=\"#DejaVuSans-48\"/>\r\n       <use x=\"63.623047\" xlink:href=\"#DejaVuSans-46\"/>\r\n       <use x=\"95.410156\" xlink:href=\"#DejaVuSans-53\"/>\r\n      </g>\r\n     </g>\r\n    </g>\r\n   </g>\r\n   <g id=\"line2d_16\">\r\n    <path clip-path=\"url(#p0ba2b2c00e)\" d=\"M 53.700994 17.083636 \r\nL 54.309722 17.134495 \r\nL 54.918449 17.376743 \r\nL 55.83154 18.05038 \r\nL 56.744631 19.038198 \r\nL 57.962085 20.748074 \r\nL 59.483903 23.366018 \r\nL 61.310085 26.996692 \r\nL 64.049358 33.020214 \r\nL 74.702085 57.06235 \r\nL 78.354449 64.519913 \r\nL 81.702449 70.866185 \r\nL 85.050449 76.74456 \r\nL 88.398449 82.172577 \r\nL 91.746449 87.175427 \r\nL 95.094449 91.78128 \r\nL 98.442449 96.01881 \r\nL 101.790449 99.915906 \r\nL 105.442813 103.810096 \r\nL 109.095176 107.36274 \r\nL 112.74754 110.603475 \r\nL 116.399903 113.559521 \r\nL 120.356631 116.469492 \r\nL 124.313358 119.103422 \r\nL 128.574449 121.6612 \r\nL 132.83554 123.958619 \r\nL 137.400994 126.161263 \r\nL 141.966449 128.124573 \r\nL 146.836267 129.984213 \r\nL 152.010449 131.725381 \r\nL 157.488994 133.337581 \r\nL 163.271903 134.814395 \r\nL 169.66354 136.214846 \r\nL 176.663903 137.510831 \r\nL 184.272994 138.682981 \r\nL 192.490813 139.720333 \r\nL 201.621722 140.647051 \r\nL 211.970085 141.469298 \r\nL 223.840267 142.182833 \r\nL 237.840994 142.791242 \r\nL 254.580994 143.286211 \r\nL 275.582085 143.67384 \r\nL 303.58354 143.95514 \r\nL 345.585722 144.134353 \r\nL 358.064631 144.160051 \r\nL 358.064631 144.160051 \r\n\" style=\"fill:none;stroke:#1f77b4;stroke-linecap:square;stroke-width:1.5;\"/>\r\n   </g>\r\n   <g id=\"line2d_17\">\r\n    <path clip-path=\"url(#p0ba2b2c00e)\" d=\"M 53.700994 144.229608 \r\nL 54.918449 162.806306 \r\nL 56.135903 177.226124 \r\nL 57.048994 185.813565 \r\nL 57.962085 192.814347 \r\nL 58.875176 198.471868 \r\nL 59.788267 202.993101 \r\nL 60.701358 206.554025 \r\nL 61.614449 209.304245 \r\nL 62.52754 211.370929 \r\nL 63.440631 212.862149 \r\nL 64.353722 213.869734 \r\nL 65.266813 214.471693 \r\nL 66.179903 214.734274 \r\nL 67.092994 214.713724 \r\nL 68.006085 214.457779 \r\nL 69.22354 213.81944 \r\nL 70.440994 212.913301 \r\nL 71.962812 211.499768 \r\nL 74.093358 209.163735 \r\nL 77.136994 205.429947 \r\nL 87.180994 192.844285 \r\nL 91.137722 188.356649 \r\nL 94.790085 184.53622 \r\nL 98.442449 181.02358 \r\nL 102.094813 177.805028 \r\nL 106.05154 174.628222 \r\nL 110.008267 171.748331 \r\nL 113.964994 169.139454 \r\nL 118.226085 166.604816 \r\nL 122.487176 164.327592 \r\nL 127.052631 162.144004 \r\nL 131.922449 160.075559 \r\nL 136.792267 158.245886 \r\nL 141.966449 156.532744 \r\nL 147.444994 154.946481 \r\nL 153.532267 153.422649 \r\nL 159.923903 152.055247 \r\nL 166.924267 150.789843 \r\nL 174.533358 149.645352 \r\nL 183.05554 148.598844 \r\nL 192.490813 147.674388 \r\nL 203.14354 146.863486 \r\nL 215.318085 146.167714 \r\nL 229.623176 145.581202 \r\nL 246.971903 145.102601 \r\nL 268.886085 144.732203 \r\nL 298.713722 144.466655 \r\nL 344.672631 144.30407 \r\nL 358.064631 144.282745 \r\nL 358.064631 144.282745 \r\n\" style=\"fill:none;stroke:#ff7f0e;stroke-linecap:square;stroke-width:1.5;\"/>\r\n   </g>\r\n   <g id=\"patch_3\">\r\n    <path d=\"M 38.482813 224.64 \r\nL 38.482813 7.2 \r\n\" style=\"fill:none;stroke:#000000;stroke-linecap:square;stroke-linejoin:miter;stroke-width:0.8;\"/>\r\n   </g>\r\n   <g id=\"patch_4\">\r\n    <path d=\"M 373.282813 224.64 \r\nL 373.282813 7.2 \r\n\" style=\"fill:none;stroke:#000000;stroke-linecap:square;stroke-linejoin:miter;stroke-width:0.8;\"/>\r\n   </g>\r\n   <g id=\"patch_5\">\r\n    <path d=\"M 38.482813 224.64 \r\nL 373.282813 224.64 \r\n\" style=\"fill:none;stroke:#000000;stroke-linecap:square;stroke-linejoin:miter;stroke-width:0.8;\"/>\r\n   </g>\r\n   <g id=\"patch_6\">\r\n    <path d=\"M 38.482813 7.2 \r\nL 373.282813 7.2 \r\n\" style=\"fill:none;stroke:#000000;stroke-linecap:square;stroke-linejoin:miter;stroke-width:0.8;\"/>\r\n   </g>\r\n   <g id=\"legend_1\">\r\n    <g id=\"patch_7\">\r\n     <path d=\"M 280.082813 46.078125 \r\nL 366.282813 46.078125 \r\nQ 368.282813 46.078125 368.282813 44.078125 \r\nL 368.282813 14.2 \r\nQ 368.282813 12.2 366.282813 12.2 \r\nL 280.082813 12.2 \r\nQ 278.082813 12.2 278.082813 14.2 \r\nL 278.082813 44.078125 \r\nQ 278.082813 46.078125 280.082813 46.078125 \r\nz\r\n\" style=\"fill:#ffffff;opacity:0.8;stroke:#cccccc;stroke-linejoin:miter;\"/>\r\n    </g>\r\n    <g id=\"line2d_18\">\r\n     <path d=\"M 282.082813 20.298437 \r\nL 302.082813 20.298437 \r\n\" style=\"fill:none;stroke:#1f77b4;stroke-linecap:square;stroke-width:1.5;\"/>\r\n    </g>\r\n    <g id=\"line2d_19\"/>\r\n    <g id=\"text_17\">\r\n     <!-- $\\theta$ (radians) -->\r\n     <defs>\r\n      <path d=\"M 45.515625 34.671875 \r\nL 14.453125 34.671875 \r\nQ 12.359375 20.0625 14.5 13.875 \r\nQ 17.1875 6.25 24.46875 6.25 \r\nQ 31.78125 6.25 37.359375 13.921875 \r\nQ 42.234375 20.65625 45.515625 34.671875 \r\nz\r\nM 47.015625 42.96875 \r\nQ 48.34375 56.84375 46.625 61.71875 \r\nQ 43.953125 69.4375 36.765625 69.4375 \r\nQ 29.296875 69.4375 23.828125 61.8125 \r\nQ 19.53125 55.671875 16.15625 42.96875 \r\nz\r\nM 38.1875 76.765625 \r\nQ 49.90625 76.765625 54.59375 66.40625 \r\nQ 59.28125 56.109375 55.71875 37.84375 \r\nQ 52.203125 19.625 43.453125 9.28125 \r\nQ 34.765625 -1.125 23.046875 -1.125 \r\nQ 11.28125 -1.125 6.640625 9.28125 \r\nQ 2 19.625 5.515625 37.84375 \r\nQ 9.078125 56.109375 17.71875 66.40625 \r\nQ 26.421875 76.765625 38.1875 76.765625 \r\nz\r\n\" id=\"DejaVuSans-Oblique-952\"/>\r\n      <path d=\"M 41.109375 46.296875 \r\nQ 39.59375 47.171875 37.8125 47.578125 \r\nQ 36.03125 48 33.890625 48 \r\nQ 26.265625 48 22.1875 43.046875 \r\nQ 18.109375 38.09375 18.109375 28.8125 \r\nL 18.109375 0 \r\nL 9.078125 0 \r\nL 9.078125 54.6875 \r\nL 18.109375 54.6875 \r\nL 18.109375 46.1875 \r\nQ 20.953125 51.171875 25.484375 53.578125 \r\nQ 30.03125 56 36.53125 56 \r\nQ 37.453125 56 38.578125 55.875 \r\nQ 39.703125 55.765625 41.0625 55.515625 \r\nz\r\n\" id=\"DejaVuSans-114\"/>\r\n      <path d=\"M 34.28125 27.484375 \r\nQ 23.390625 27.484375 19.1875 25 \r\nQ 14.984375 22.515625 14.984375 16.5 \r\nQ 14.984375 11.71875 18.140625 8.90625 \r\nQ 21.296875 6.109375 26.703125 6.109375 \r\nQ 34.1875 6.109375 38.703125 11.40625 \r\nQ 43.21875 16.703125 43.21875 25.484375 \r\nL 43.21875 27.484375 \r\nz\r\nM 52.203125 31.203125 \r\nL 52.203125 0 \r\nL 43.21875 0 \r\nL 43.21875 8.296875 \r\nQ 40.140625 3.328125 35.546875 0.953125 \r\nQ 30.953125 -1.421875 24.3125 -1.421875 \r\nQ 15.921875 -1.421875 10.953125 3.296875 \r\nQ 6 8.015625 6 15.921875 \r\nQ 6 25.140625 12.171875 29.828125 \r\nQ 18.359375 34.515625 30.609375 34.515625 \r\nL 43.21875 34.515625 \r\nL 43.21875 35.40625 \r\nQ 43.21875 41.609375 39.140625 45 \r\nQ 35.0625 48.390625 27.6875 48.390625 \r\nQ 23 48.390625 18.546875 47.265625 \r\nQ 14.109375 46.140625 10.015625 43.890625 \r\nL 10.015625 52.203125 \r\nQ 14.9375 54.109375 19.578125 55.046875 \r\nQ 24.21875 56 28.609375 56 \r\nQ 40.484375 56 46.34375 49.84375 \r\nQ 52.203125 43.703125 52.203125 31.203125 \r\nz\r\n\" id=\"DejaVuSans-97\"/>\r\n     </defs>\r\n     <g transform=\"translate(310.082813 23.798437)scale(0.1 -0.1)\">\r\n      <use transform=\"translate(0 0.234375)\" xlink:href=\"#DejaVuSans-Oblique-952\"/>\r\n      <use transform=\"translate(61.181641 0.234375)\" xlink:href=\"#DejaVuSans-32\"/>\r\n      <use transform=\"translate(92.96875 0.234375)\" xlink:href=\"#DejaVuSans-40\"/>\r\n      <use transform=\"translate(131.982422 0.234375)\" xlink:href=\"#DejaVuSans-114\"/>\r\n      <use transform=\"translate(173.095703 0.234375)\" xlink:href=\"#DejaVuSans-97\"/>\r\n      <use transform=\"translate(234.375 0.234375)\" xlink:href=\"#DejaVuSans-100\"/>\r\n      <use transform=\"translate(297.851562 0.234375)\" xlink:href=\"#DejaVuSans-105\"/>\r\n      <use transform=\"translate(325.634766 0.234375)\" xlink:href=\"#DejaVuSans-97\"/>\r\n      <use transform=\"translate(386.914062 0.234375)\" xlink:href=\"#DejaVuSans-110\"/>\r\n      <use transform=\"translate(450.292969 0.234375)\" xlink:href=\"#DejaVuSans-115\"/>\r\n      <use transform=\"translate(502.392578 0.234375)\" xlink:href=\"#DejaVuSans-41\"/>\r\n     </g>\r\n    </g>\r\n    <g id=\"line2d_20\">\r\n     <path d=\"M 282.082813 36.498437 \r\nL 302.082813 36.498437 \r\n\" style=\"fill:none;stroke:#ff7f0e;stroke-linecap:square;stroke-width:1.5;\"/>\r\n    </g>\r\n    <g id=\"line2d_21\"/>\r\n    <g id=\"text_18\">\r\n     <!-- $\\dot{\\theta}$ -->\r\n     <defs>\r\n      <path d=\"M -29.59375 75.984375 \r\nL -20.609375 75.984375 \r\nL -20.609375 64.59375 \r\nL -29.59375 64.59375 \r\nz\r\nM -25 56 \r\nz\r\n\" id=\"DejaVuSans-775\"/>\r\n     </defs>\r\n     <g transform=\"translate(310.082813 39.998437)scale(0.1 -0.1)\">\r\n      <use transform=\"translate(62.88916 34.015625)\" xlink:href=\"#DejaVuSans-775\"/>\r\n      <use transform=\"translate(0 0.75)\" xlink:href=\"#DejaVuSans-Oblique-952\"/>\r\n     </g>\r\n    </g>\r\n   </g>\r\n  </g>\r\n </g>\r\n <defs>\r\n  <clipPath id=\"p0ba2b2c00e\">\r\n   <rect height=\"217.44\" width=\"334.8\" x=\"38.482813\" y=\"7.2\"/>\r\n  </clipPath>\r\n </defs>\r\n</svg>\r\n",
            "image/png": "[encoded data removed]"
          },
          "metadata": {
            "needs_background": "light"
          }
        }
      ],
      "source": [
        "# part c solutions (run part b first!)\n",
        "%matplotlib inline\n",
        "from matplotlib import pyplot as plt \n",
        "\n",
        "# closed-loop A matrix\n",
        "A_CL = A-np.dot(B,K)\n",
        "\n",
        "# time domain simulation\n",
        "dt = .01\n",
        "t = np.linspace(0.,10.,1001)\n",
        "x = np.zeros((2,len(t)))\n",
        "x[:,0] = [np.pi/6,0] # a random initial condition\n",
        "\n",
        "for i in range(1,len(t)):\n",
        "    x[:,[i]] = x[:,[i-1]]+dt*np.dot(A_CL,x[:,[i-1]])\n",
        "\n",
        "plt.plot(t,x[0,:],label=\"$\\\\theta$ (radians)\")\n",
        "plt.plot(t,x[1,:],label=\"$\\\\dot{\\\\theta}$\")\n",
        "plt.xlabel('time (seconds)')\n",
        "plt.legend()\n"
      ]
    },
    {
      "cell_type": "markdown",
      "metadata": {
        "id": "wdXNAGcuYfI9"
      },
      "source": [
        "### * end of group work -- download as PDF and submit as part of group assignment *"
      ]
    },
    {
      "cell_type": "markdown",
      "metadata": {
        "id": "CorRwlNV_VbX"
      },
      "source": [
        "# 0. [preferred name]; [preferred pronouns]\n",
        "\n",
        "a. Approximately how many hours did you spend on this assignment?\n",
        "\n",
        "b. Were there specific problems that took much longer than others?\n",
        "\n",
        "c. What class meeting(s) did you participate in this week?\n",
        "\n",
        "d. What timezone(s) were you working in this week?\n",
        "\n",
        "**e. Please fill out the midquarter evaluation for 1 extra credit point: https://uw.iasystem.org/survey/240130**"
      ]
    },
    {
      "cell_type": "markdown",
      "metadata": {
        "id": "BkzeK9nFYfI_"
      },
      "source": [
        "## 1. state and output feedback cont.\n",
        "\n",
        "This is a continuation of the state and output feedback problem from the group work above. Use the model and all other information from the group work to do this problem.\n",
        "\n",
        "Suppose you have to control the system using a distance sensor attached to the mass so that the output is\n",
        "\n",
        "$$ y = \\ell\\sin\\theta. $$\n",
        "\n",
        "a. Linearize the output equation at the vertical equilibrium, that is, evaluate \n",
        "\n",
        "$$ C = \\left.\\frac{\\partial y}{\\partial x} \\right|_{x_e,u_e},\\ D = \\left.\\frac{\\partial y}{\\partial u} \\right|_{x_e,u_e} $$\n",
        "\n",
        "so that $y \\approx \\delta y = C \\delta x + D \\delta u$ near the equilibrium.\n",
        "\n",
        "b. Design a linear observer\n",
        "\n",
        "$$ \\dot{\\delta\\widehat{x}} = A \\delta\\widehat{x} + B \\delta u - L(\\delta y - \\delta\\widehat{y}),\\ \\delta\\widehat{y} = C \\delta\\widehat{x} + D \\delta u $$\n",
        "\n",
        "so that the error dynamics $\\dot{e} = (A + LC) e$ has characteristic polynomial $s^2 + 2\\xi\\sigma s + \\sigma^2$ that corresponds to a second-order system that is ***underdamped*** ($\\xi = 1/2$) and has ***natural frequency*** $\\sigma = 10$Hz\n",
        "\n",
        "c. Verify that the `ctrl.place` command gives the same answer as (d.) when you use parameter values from (b.).\n",
        "\n",
        "(***Note:*** when using `ctrl.place` to design an observer, you must transpose the $A$ and $B$ matrices and negate and transpose the result: `L = -ctrl.place(A.T,C.T,roots).T`.)\n",
        "\n",
        "d. Implement a simulation of the observer system using parameter values from (b.) to verify that the error dynamics are as expected when the real system is at equilibrium (i.e. $\\delta x = 0$, $\\delta u = 0$).\n",
        "\n",
        "e. Implement a simulation where you use the observer from (g.) to obtain the state estimate $\\delta\\widehat{x}$ that you then use in the controller from (c.) to simultaneously control the observer and system.\n",
        "\n",
        "***Bonus:*** Implement a simulation where you apply the observer from (g.)  and controller from (c.) to the ***nonlinear*** system (nonlinear dynamics and nonlinear output equation)."
      ]
    },
    {
      "cell_type": "markdown",
      "metadata": {
        "id": "L5Rv3bbkHE6N"
      },
      "source": [
        "## 2. spring-mass-damper a deux redux\n",
        "Consider the following spring-mass-damper system from hw3:\n",
        "![spring-mass](http://faculty.washington.edu/sburden/447/447-hw1-spring-mass.png)\n",
        "The input to this system is the sinusoidal motion of the end of rightmost spring. \n",
        "Applying Newton's laws to determine the forces acting on both masses, we find two coupled second-order DE that model the system's dynamics:\n",
        "\n",
        "$$ m\\ddot{q}_1 = - c \\dot{q}_1 - k q_1 + k (q_2 - q_1), $$\n",
        "\n",
        "$$ m\\ddot{q}_2 = - c \\dot{q}_2 + k (u - q_2) - k (q_2 - q_1). $$\n",
        "\n",
        "Defining $x = (q_1, \\dot{q}_1, q_2, \\dot{q}_2)$, we can transcribe the two coupled second-order DE obtained above into one first-order DE in matrix/vector form $\\dot{x} = A x + B u$:\n",
        "\n",
        "$$ \\dot{x} = \\left[ \\begin{matrix} \\dot{q}_1 \\\\ \\ddot{q}_1 \\\\ \\dot{q_2} \\\\ \\ddot{q_2} \\end{matrix} \\right] = \\left[ \\begin{matrix} 0 & 1 & 0 & 0 \\\\ -\\frac{2k}{m} & -\\frac{c}{m}& +\\frac{k}{m}  & 0 \\\\ 0 & 0 & 0 & 1 \\\\ +\\frac{k}{m} & 0 & - \\frac{2k}{m} & -\\frac{c}{m} \\end{matrix} \\right] \\left[ \\begin{matrix} {q}_1 \\\\ \\dot{q}_1 \\\\ {q_2} \\\\ \\dot{q_2} \\end{matrix} \\right] + \\left[ \\begin{matrix} 0 \\\\ 0 \\\\ 0 \\\\ \\frac{k}{m} \\end{matrix} \\right] u = A x + B u. $$\n",
        "\n",
        "Consider the alternative choice of state vector $z = (p_1,\\dot{p}_1,p_2,\\dot{p}_2)$ where $p_1 = \\frac{1}{2}(q_1 + q_2)$, $p_2 = \\frac{1}{2} (q_1 - q_2)$.  \n",
        "\n",
        "a. Determine the matrix $T\\in\\mathbb{R}^{4\\times 4}$ such that $z = T x$.\n",
        "\n",
        "b. Determine the matrix $T^{-1}\\in\\mathbb{R}^{4\\times 4}$ such that $x = T^{-1} z$.  (***Hint:*** solve the equations $p_1 = \\frac{1}{2}(q_1 + q_2)$, $p_2 = \\frac{1}{2} (q_1 - q_2)$ for $q_1$ and $q_2$ in terms of $p_1$ and $p_2$.)\n",
        "\n",
        "c. Compute $\\widetilde{A} = T A T^{-1}$, $\\widetilde{B} = T B$ and verify that $\\dot{z} = \\widetilde{A} z + \\widetilde{B} u$ by comparing with the solution to problem (1d.) from homework 3.\n",
        "\n",
        "d. Verify that $A$ has the same eigenvalues as $\\widetilde{A}$ using parameters $m = 250$, $k = 50$, $c = 10$.\n",
        "\n",
        "***Takeaway:***  a linear system's dynamics can be represented using different choices of state variables (also termed ***coordinates***), which changes the \n",
        "$``A\"$\n",
        "and \n",
        "$``B\"$\n",
        "matrices.  However, the eigenvalues of the $A$'s -- hence, the system's stability properties -- aren't affected by the change-of-coordinates (also termed a ***similarity transform***)."
      ]
    },
    {
      "cell_type": "code",
      "execution_count": null,
      "metadata": {},
      "outputs": [],
      "source": []
    }
  ]
}